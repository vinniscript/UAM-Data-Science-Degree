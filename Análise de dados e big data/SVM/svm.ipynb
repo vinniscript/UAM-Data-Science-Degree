{
 "cells": [
  {
   "cell_type": "code",
   "id": "initial_id",
   "metadata": {
    "collapsed": true
   },
   "source": [
    "import pandas as pd\n",
    "import numpy as np\n",
    "import matplotlib.pyplot as plt\n",
    "import seaborn as sns"
   ],
   "outputs": [],
   "execution_count": null
  },
  {
   "metadata": {},
   "cell_type": "markdown",
   "source": "# Obtendo dados",
   "id": "69f36c5bdc12fc59"
  },
  {
   "metadata": {},
   "cell_type": "code",
   "source": [
    "from sklearn.datasets import load_breast_cancer\n",
    "cancer = load_breast_cancer() # Vem em forma de dicionário"
   ],
   "id": "dc220f8d20eb4439",
   "outputs": [],
   "execution_count": null
  },
  {
   "metadata": {},
   "cell_type": "code",
   "source": "cancer.keys() # Mostra as chaves do dicionário",
   "id": "9c76943b5bd12f88",
   "outputs": [],
   "execution_count": null
  },
  {
   "metadata": {},
   "cell_type": "code",
   "source": "print(cancer['DESCR'])",
   "id": "824df9975e4767ec",
   "outputs": [],
   "execution_count": null
  },
  {
   "metadata": {},
   "cell_type": "code",
   "source": "print(cancer['feature_names'])",
   "id": "ee41614cc172ef7",
   "outputs": [],
   "execution_count": null
  },
  {
   "metadata": {},
   "cell_type": "code",
   "source": [
    "df_feat = pd.DataFrame(cancer['data'], columns=cancer['feature_names'])\n",
    "df_feat.head()"
   ],
   "id": "ab740e684830a532",
   "outputs": [],
   "execution_count": null
  },
  {
   "metadata": {},
   "cell_type": "code",
   "source": "df_feat.info()",
   "id": "b9b528ae8e7250c",
   "outputs": [],
   "execution_count": null
  },
  {
   "metadata": {},
   "cell_type": "code",
   "source": [
    "df_target = pd.DataFrame(cancer['target'], columns=['Cancer'])\n",
    "df_target.head()"
   ],
   "id": "8a493cc6a2e561d",
   "outputs": [],
   "execution_count": null
  },
  {
   "metadata": {},
   "cell_type": "code",
   "source": "df_target.info()",
   "id": "cb1edc1963166100",
   "outputs": [],
   "execution_count": null
  },
  {
   "metadata": {},
   "cell_type": "code",
   "source": [
    "df_target.value_counts()\n",
    "\n",
    "# 0 - Maligno\n",
    "# 1 - Benigno"
   ],
   "id": "95003a8af967722d",
   "outputs": [],
   "execution_count": null
  },
  {
   "metadata": {},
   "cell_type": "code",
   "source": [
    "df = df_feat.join(df_target)\n",
    "df.head()"
   ],
   "id": "4532a6fc9b19fec6",
   "outputs": [],
   "execution_count": null
  },
  {
   "metadata": {},
   "cell_type": "markdown",
   "source": "Train Test Split",
   "id": "768dc2c16bf66aeb"
  },
  {
   "metadata": {
    "ExecuteTime": {
     "end_time": "2025-04-25T23:18:31.301720Z",
     "start_time": "2025-04-25T23:18:31.281063Z"
    }
   },
   "cell_type": "code",
   "source": [
    "from sklearn.model_selection import train_test_split\n",
    "\n",
    "X_train,X_test, y_train, y_test = train_test_split(df_feat, df_target, test_size=0.3, random_state=101)"
   ],
   "id": "f1c3631e494a6896",
   "outputs": [],
   "execution_count": 22
  },
  {
   "metadata": {},
   "cell_type": "markdown",
   "source": "### Treinando com o SVM",
   "id": "360e91f9974349ad"
  },
  {
   "metadata": {
    "ExecuteTime": {
     "end_time": "2025-04-25T23:19:58.956544Z",
     "start_time": "2025-04-25T23:19:58.942194Z"
    }
   },
   "cell_type": "code",
   "source": [
    "from sklearn.svm import SVC\n",
    "model = SVC()\n",
    "model.fit(X_train, y_train.values.ravel())\n",
    "y_pred = model.predict(X_test)"
   ],
   "id": "53b515b777fc38c",
   "outputs": [],
   "execution_count": 26
  },
  {
   "metadata": {
    "ExecuteTime": {
     "end_time": "2025-04-25T23:20:18.650662Z",
     "start_time": "2025-04-25T23:20:18.643668Z"
    }
   },
   "cell_type": "code",
   "source": "",
   "id": "a7860f5534372bc3",
   "outputs": [
    {
     "name": "stdout",
     "output_type": "stream",
     "text": [
      "[1 1 0 0 1 1 1 1 1 1 0 0 1 1 1 0 1 0 0 1 0 1 1 1 1 1 1 0 1 1 1 0 1 1 0 1 0\n",
      " 0 0 0 1 1 1 1 1 1 1 1 1 1 1 1 0 0 1 1 1 1 1 0 0 0 1 1 1 0 1 1 1 1 1 0 0 0\n",
      " 1 1 0 0 1 1 0 0 0 0 0 0 1 1 0 1 1 1 1 1 0 0 0 0 1 0 1 1 1 0 1 1 1 1 0 1 1\n",
      " 1 0 0 0 0 1 0 0 0 1 1 0 1 1 1 1 0 1 0 0 0 1 0 1 1 1 1 0 1 1 1 1 0 1 0 1 0\n",
      " 1 0 1 0 1 1 0 1 0 1 1 0 1 1 1 0 1 1 0 0 1 0 1 1 0 1 0 0 1 0 1 1 1 1 1 1 1\n",
      " 0 0 0 0 1 1 0 1 1 1 1 1 1 1 1 0 0 1 0 1 0 0 1 0 1 1 1 1 1 1 0 1 0 1 0 1 1\n",
      " 1 0 1 1 1 0 1 1 0 1 1 1 1 1 0 1 1 1 0 1 0 1 1 0 1 1 1 1 1 1 1 0 1 1 0 1 1\n",
      " 1 1 1 0 1 0 0 1 0 0 1 1 0 1 1 1 1 1 1 0 1 1 0 0 1 1 1 1 0 1 0 1 0 1 0 1 0\n",
      " 1 1 1 1 1 1 1 0 1 0 0 1 0 1 0 1 1 0 1 1 1 0 0 1 1 0 0 1 1 0 0 0 0 1 1 0 0\n",
      " 0 1 1 1 1 1 1 1 1 0 1 1 0 0 0 1 1 0 0 1 0 1 1 0 1 1 1 0 0 1 1 1 1 0 1 1 1\n",
      " 1 1 0 0 0 1 0 0 0 1 1 1 1 1 1 1 1 1 0 1 0 1 1 1 0 0 0 1]\n"
     ]
    }
   ],
   "execution_count": 27
  },
  {
   "metadata": {},
   "cell_type": "markdown",
   "source": "# Avaliação",
   "id": "fe1de6a00d84acdb"
  },
  {
   "metadata": {
    "ExecuteTime": {
     "end_time": "2025-04-25T23:22:44.340870Z",
     "start_time": "2025-04-25T23:22:44.247253Z"
    }
   },
   "cell_type": "code",
   "source": [
    "from sklearn.metrics import classification_report, confusion_matrix\n",
    "print(confusion_matrix(y_test, y_pred))\n",
    "print(classification_report(y_test, y_pred))"
   ],
   "id": "34c954497c15f01b",
   "outputs": [
    {
     "name": "stdout",
     "output_type": "stream",
     "text": [
      "[[ 56  10]\n",
      " [  3 102]]\n",
      "              precision    recall  f1-score   support\n",
      "\n",
      "           0       0.95      0.85      0.90        66\n",
      "           1       0.91      0.97      0.94       105\n",
      "\n",
      "    accuracy                           0.92       171\n",
      "   macro avg       0.93      0.91      0.92       171\n",
      "weighted avg       0.93      0.92      0.92       171\n",
      "\n"
     ]
    }
   ],
   "execution_count": 29
  },
  {
   "metadata": {},
   "cell_type": "code",
   "outputs": [],
   "execution_count": null,
   "source": "",
   "id": "e0c7daf6d9930202"
  }
 ],
 "metadata": {
  "kernelspec": {
   "display_name": "Python 3",
   "language": "python",
   "name": "python3"
  },
  "language_info": {
   "codemirror_mode": {
    "name": "ipython",
    "version": 2
   },
   "file_extension": ".py",
   "mimetype": "text/x-python",
   "name": "python",
   "nbconvert_exporter": "python",
   "pygments_lexer": "ipython2",
   "version": "2.7.6"
  }
 },
 "nbformat": 4,
 "nbformat_minor": 5
}
