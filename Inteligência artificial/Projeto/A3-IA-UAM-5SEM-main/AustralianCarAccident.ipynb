{
 "cells": [
  {
   "metadata": {},
   "cell_type": "markdown",
   "source": "# Dataset de Acidentes de Carro na Austrália",
   "id": "7e6db915050b912b"
  },
  {
   "metadata": {},
   "cell_type": "markdown",
   "source": "## Importando módulos e criando a chamada do dataset.",
   "id": "1c538b67de9092c5"
  },
  {
   "cell_type": "code",
   "id": "initial_id",
   "metadata": {
    "collapsed": true,
    "ExecuteTime": {
     "end_time": "2025-05-03T17:42:44.812922Z",
     "start_time": "2025-05-03T17:42:44.391457Z"
    }
   },
   "source": [
    "import kagglehub\n",
    "\n",
    "# Pega a última versão do dataset\n",
    "path = kagglehub.dataset_download(\"deepcontractor/australian-fatal-car-accident-data-19892021\")\n",
    "\n",
    "print(\"Path to dataset files:\", path)"
   ],
   "outputs": [
    {
     "name": "stdout",
     "output_type": "stream",
     "text": [
      "Path to dataset files: C:\\Users\\vinic\\.cache\\kagglehub\\datasets\\deepcontractor\\australian-fatal-car-accident-data-19892021\\versions\\2\n"
     ]
    }
   ],
   "execution_count": 71
  },
  {
   "metadata": {
    "ExecuteTime": {
     "end_time": "2025-05-03T17:42:44.872536Z",
     "start_time": "2025-05-03T17:42:44.868961Z"
    }
   },
   "cell_type": "code",
   "source": [
    "import pandas as pd # -> Manipulação dos dados\n",
    "import numpy as np # -> Aritmética\n",
    "import matplotlib.pyplot as plt # -> Visualização\n",
    "import seaborn as sns # -> Visualização"
   ],
   "id": "9a04e0e95418fead",
   "outputs": [],
   "execution_count": 72
  },
  {
   "metadata": {
    "ExecuteTime": {
     "end_time": "2025-05-03T17:42:45.064510Z",
     "start_time": "2025-05-03T17:42:44.910980Z"
    }
   },
   "cell_type": "code",
   "source": "df = pd.read_csv(path + \"/Crash_Data.csv\", low_memory=False) # -> Lê o arquivo CSV",
   "id": "f1dd5b4180f92557",
   "outputs": [],
   "execution_count": 73
  },
  {
   "metadata": {},
   "cell_type": "markdown",
   "source": "## Leitura de cabeçalhos e rápidas descrições/interpretações do dataset.",
   "id": "543153168c96c918"
  },
  {
   "metadata": {
    "ExecuteTime": {
     "end_time": "2025-05-03T17:42:45.115770Z",
     "start_time": "2025-05-03T17:42:45.102246Z"
    }
   },
   "cell_type": "code",
   "source": "df.head() # -> Um cabealho do dataframe",
   "id": "df7b2eac130cd220",
   "outputs": [
    {
     "data": {
      "text/plain": [
       "   Crash ID State  Month  Year   Dayweek   Time Crash Type Bus Involvement  \\\n",
       "0  20212133   Vic      9  2021    Sunday   0:30     Single             NaN   \n",
       "1  20214022    SA      9  2021  Saturday  23:31   Multiple              No   \n",
       "2  20212096   Vic      9  2021  Saturday  23:00     Single             NaN   \n",
       "3  20212145   Vic      9  2021  Saturday  22:25     Single             NaN   \n",
       "4  20212075   Vic      9  2021  Saturday   5:15     Single             NaN   \n",
       "\n",
       "  Heavy Rigid Truck Involvement Articulated Truck Involvement  ... Age  \\\n",
       "0                           NaN                           NaN  ...  38   \n",
       "1                            No                            No  ...  28   \n",
       "2                           NaN                           NaN  ...  19   \n",
       "3                           NaN                           NaN  ...  23   \n",
       "4                           NaN                           NaN  ...  46   \n",
       "\n",
       "   National Remoteness Areas           SA4 Name 2016  National LGA Name 2017  \\\n",
       "0   Inner Regional Australia  Melbourne - Outer East        Yarra Ranges (S)   \n",
       "1  Major Cities of Australia        Adelaide - North            Playford (C)   \n",
       "2   Inner Regional Australia                    Hume         Wangaratta (RC)   \n",
       "3   Outer Regional Australia                    Hume         Wangaratta (RC)   \n",
       "4  Major Cities of Australia  Melbourne - South East               Casey (C)   \n",
       "\n",
       "  National Road Type Christmas Period Easter Period Age Group Day of week  \\\n",
       "0      Arterial Road               No            No  26_to_39     Weekend   \n",
       "1                NaN               No            No  26_to_39     Weekend   \n",
       "2        Access road               No            No  17_to_25     Weekend   \n",
       "3      Arterial Road               No            No  17_to_25     Weekend   \n",
       "4         Local Road               No            No  40_to_64     Weekend   \n",
       "\n",
       "  Time of day  \n",
       "0       Night  \n",
       "1       Night  \n",
       "2       Night  \n",
       "3       Night  \n",
       "4       Night  \n",
       "\n",
       "[5 rows x 23 columns]"
      ],
      "text/html": [
       "<div>\n",
       "<style scoped>\n",
       "    .dataframe tbody tr th:only-of-type {\n",
       "        vertical-align: middle;\n",
       "    }\n",
       "\n",
       "    .dataframe tbody tr th {\n",
       "        vertical-align: top;\n",
       "    }\n",
       "\n",
       "    .dataframe thead th {\n",
       "        text-align: right;\n",
       "    }\n",
       "</style>\n",
       "<table border=\"1\" class=\"dataframe\">\n",
       "  <thead>\n",
       "    <tr style=\"text-align: right;\">\n",
       "      <th></th>\n",
       "      <th>Crash ID</th>\n",
       "      <th>State</th>\n",
       "      <th>Month</th>\n",
       "      <th>Year</th>\n",
       "      <th>Dayweek</th>\n",
       "      <th>Time</th>\n",
       "      <th>Crash Type</th>\n",
       "      <th>Bus Involvement</th>\n",
       "      <th>Heavy Rigid Truck Involvement</th>\n",
       "      <th>Articulated Truck Involvement</th>\n",
       "      <th>...</th>\n",
       "      <th>Age</th>\n",
       "      <th>National Remoteness Areas</th>\n",
       "      <th>SA4 Name 2016</th>\n",
       "      <th>National LGA Name 2017</th>\n",
       "      <th>National Road Type</th>\n",
       "      <th>Christmas Period</th>\n",
       "      <th>Easter Period</th>\n",
       "      <th>Age Group</th>\n",
       "      <th>Day of week</th>\n",
       "      <th>Time of day</th>\n",
       "    </tr>\n",
       "  </thead>\n",
       "  <tbody>\n",
       "    <tr>\n",
       "      <th>0</th>\n",
       "      <td>20212133</td>\n",
       "      <td>Vic</td>\n",
       "      <td>9</td>\n",
       "      <td>2021</td>\n",
       "      <td>Sunday</td>\n",
       "      <td>0:30</td>\n",
       "      <td>Single</td>\n",
       "      <td>NaN</td>\n",
       "      <td>NaN</td>\n",
       "      <td>NaN</td>\n",
       "      <td>...</td>\n",
       "      <td>38</td>\n",
       "      <td>Inner Regional Australia</td>\n",
       "      <td>Melbourne - Outer East</td>\n",
       "      <td>Yarra Ranges (S)</td>\n",
       "      <td>Arterial Road</td>\n",
       "      <td>No</td>\n",
       "      <td>No</td>\n",
       "      <td>26_to_39</td>\n",
       "      <td>Weekend</td>\n",
       "      <td>Night</td>\n",
       "    </tr>\n",
       "    <tr>\n",
       "      <th>1</th>\n",
       "      <td>20214022</td>\n",
       "      <td>SA</td>\n",
       "      <td>9</td>\n",
       "      <td>2021</td>\n",
       "      <td>Saturday</td>\n",
       "      <td>23:31</td>\n",
       "      <td>Multiple</td>\n",
       "      <td>No</td>\n",
       "      <td>No</td>\n",
       "      <td>No</td>\n",
       "      <td>...</td>\n",
       "      <td>28</td>\n",
       "      <td>Major Cities of Australia</td>\n",
       "      <td>Adelaide - North</td>\n",
       "      <td>Playford (C)</td>\n",
       "      <td>NaN</td>\n",
       "      <td>No</td>\n",
       "      <td>No</td>\n",
       "      <td>26_to_39</td>\n",
       "      <td>Weekend</td>\n",
       "      <td>Night</td>\n",
       "    </tr>\n",
       "    <tr>\n",
       "      <th>2</th>\n",
       "      <td>20212096</td>\n",
       "      <td>Vic</td>\n",
       "      <td>9</td>\n",
       "      <td>2021</td>\n",
       "      <td>Saturday</td>\n",
       "      <td>23:00</td>\n",
       "      <td>Single</td>\n",
       "      <td>NaN</td>\n",
       "      <td>NaN</td>\n",
       "      <td>NaN</td>\n",
       "      <td>...</td>\n",
       "      <td>19</td>\n",
       "      <td>Inner Regional Australia</td>\n",
       "      <td>Hume</td>\n",
       "      <td>Wangaratta (RC)</td>\n",
       "      <td>Access road</td>\n",
       "      <td>No</td>\n",
       "      <td>No</td>\n",
       "      <td>17_to_25</td>\n",
       "      <td>Weekend</td>\n",
       "      <td>Night</td>\n",
       "    </tr>\n",
       "    <tr>\n",
       "      <th>3</th>\n",
       "      <td>20212145</td>\n",
       "      <td>Vic</td>\n",
       "      <td>9</td>\n",
       "      <td>2021</td>\n",
       "      <td>Saturday</td>\n",
       "      <td>22:25</td>\n",
       "      <td>Single</td>\n",
       "      <td>NaN</td>\n",
       "      <td>NaN</td>\n",
       "      <td>NaN</td>\n",
       "      <td>...</td>\n",
       "      <td>23</td>\n",
       "      <td>Outer Regional Australia</td>\n",
       "      <td>Hume</td>\n",
       "      <td>Wangaratta (RC)</td>\n",
       "      <td>Arterial Road</td>\n",
       "      <td>No</td>\n",
       "      <td>No</td>\n",
       "      <td>17_to_25</td>\n",
       "      <td>Weekend</td>\n",
       "      <td>Night</td>\n",
       "    </tr>\n",
       "    <tr>\n",
       "      <th>4</th>\n",
       "      <td>20212075</td>\n",
       "      <td>Vic</td>\n",
       "      <td>9</td>\n",
       "      <td>2021</td>\n",
       "      <td>Saturday</td>\n",
       "      <td>5:15</td>\n",
       "      <td>Single</td>\n",
       "      <td>NaN</td>\n",
       "      <td>NaN</td>\n",
       "      <td>NaN</td>\n",
       "      <td>...</td>\n",
       "      <td>46</td>\n",
       "      <td>Major Cities of Australia</td>\n",
       "      <td>Melbourne - South East</td>\n",
       "      <td>Casey (C)</td>\n",
       "      <td>Local Road</td>\n",
       "      <td>No</td>\n",
       "      <td>No</td>\n",
       "      <td>40_to_64</td>\n",
       "      <td>Weekend</td>\n",
       "      <td>Night</td>\n",
       "    </tr>\n",
       "  </tbody>\n",
       "</table>\n",
       "<p>5 rows × 23 columns</p>\n",
       "</div>"
      ]
     },
     "execution_count": 74,
     "metadata": {},
     "output_type": "execute_result"
    }
   ],
   "execution_count": 74
  },
  {
   "metadata": {
    "ExecuteTime": {
     "end_time": "2025-05-03T17:42:45.240812Z",
     "start_time": "2025-05-03T17:42:45.201818Z"
    }
   },
   "cell_type": "code",
   "source": "df.info() # -> Informações do dataframe, como tipos de dados e valores nulos. Verificamos que esse dataset já não traz nenhum nulo, mas isso não está completamente certo, veremos mais para frente isso.",
   "id": "dee45903d936e36d",
   "outputs": [
    {
     "name": "stdout",
     "output_type": "stream",
     "text": [
      "<class 'pandas.core.frame.DataFrame'>\n",
      "RangeIndex: 52843 entries, 0 to 52842\n",
      "Data columns (total 23 columns):\n",
      " #   Column                         Non-Null Count  Dtype \n",
      "---  ------                         --------------  ----- \n",
      " 0   Crash ID                       52843 non-null  int64 \n",
      " 1   State                          52843 non-null  object\n",
      " 2   Month                          52843 non-null  int64 \n",
      " 3   Year                           52843 non-null  int64 \n",
      " 4   Dayweek                        52843 non-null  object\n",
      " 5   Time                           52803 non-null  object\n",
      " 6   Crash Type                     52843 non-null  object\n",
      " 7   Bus Involvement                52821 non-null  object\n",
      " 8   Heavy Rigid Truck Involvement  32328 non-null  object\n",
      " 9   Articulated Truck Involvement  52821 non-null  object\n",
      " 10  Speed Limit                    52141 non-null  object\n",
      " 11  Road User                      52843 non-null  object\n",
      " 12  Gender                         52816 non-null  object\n",
      " 13  Age                            52843 non-null  int64 \n",
      " 14  National Remoteness Areas      6878 non-null   object\n",
      " 15  SA4 Name 2016                  6892 non-null   object\n",
      " 16  National LGA Name 2017         6893 non-null   object\n",
      " 17  National Road Type             6877 non-null   object\n",
      " 18  Christmas Period               52843 non-null  object\n",
      " 19  Easter Period                  52843 non-null  object\n",
      " 20  Age Group                      52753 non-null  object\n",
      " 21  Day of week                    52843 non-null  object\n",
      " 22  Time of day                    52843 non-null  object\n",
      "dtypes: int64(4), object(19)\n",
      "memory usage: 9.3+ MB\n"
     ]
    }
   ],
   "execution_count": 75
  },
  {
   "metadata": {
    "ExecuteTime": {
     "end_time": "2025-05-03T17:42:45.374154Z",
     "start_time": "2025-05-03T17:42:45.355169Z"
    }
   },
   "cell_type": "code",
   "source": "df.describe() # -> Estatísticas descritivas do dataframe, a olho nu assim, não conseguimos tirar muita informação relevante",
   "id": "abfcf65cf22a24b9",
   "outputs": [
    {
     "data": {
      "text/plain": [
       "           Crash ID         Month          Year           Age\n",
       "count  5.284300e+04  52843.000000  52843.000000  52843.000000\n",
       "mean   2.003021e+07      6.568685   2002.729974     39.662377\n",
       "std    9.383542e+04      3.457347      9.378570     21.806198\n",
       "min    1.989100e+07      1.000000   1989.000000     -9.000000\n",
       "25%    1.995111e+07      4.000000   1995.000000     22.000000\n",
       "50%    2.002144e+07      7.000000   2002.000000     34.000000\n",
       "75%    2.010408e+07     10.000000   2010.000000     55.000000\n",
       "max    2.021801e+07     12.000000   2021.000000    101.000000"
      ],
      "text/html": [
       "<div>\n",
       "<style scoped>\n",
       "    .dataframe tbody tr th:only-of-type {\n",
       "        vertical-align: middle;\n",
       "    }\n",
       "\n",
       "    .dataframe tbody tr th {\n",
       "        vertical-align: top;\n",
       "    }\n",
       "\n",
       "    .dataframe thead th {\n",
       "        text-align: right;\n",
       "    }\n",
       "</style>\n",
       "<table border=\"1\" class=\"dataframe\">\n",
       "  <thead>\n",
       "    <tr style=\"text-align: right;\">\n",
       "      <th></th>\n",
       "      <th>Crash ID</th>\n",
       "      <th>Month</th>\n",
       "      <th>Year</th>\n",
       "      <th>Age</th>\n",
       "    </tr>\n",
       "  </thead>\n",
       "  <tbody>\n",
       "    <tr>\n",
       "      <th>count</th>\n",
       "      <td>5.284300e+04</td>\n",
       "      <td>52843.000000</td>\n",
       "      <td>52843.000000</td>\n",
       "      <td>52843.000000</td>\n",
       "    </tr>\n",
       "    <tr>\n",
       "      <th>mean</th>\n",
       "      <td>2.003021e+07</td>\n",
       "      <td>6.568685</td>\n",
       "      <td>2002.729974</td>\n",
       "      <td>39.662377</td>\n",
       "    </tr>\n",
       "    <tr>\n",
       "      <th>std</th>\n",
       "      <td>9.383542e+04</td>\n",
       "      <td>3.457347</td>\n",
       "      <td>9.378570</td>\n",
       "      <td>21.806198</td>\n",
       "    </tr>\n",
       "    <tr>\n",
       "      <th>min</th>\n",
       "      <td>1.989100e+07</td>\n",
       "      <td>1.000000</td>\n",
       "      <td>1989.000000</td>\n",
       "      <td>-9.000000</td>\n",
       "    </tr>\n",
       "    <tr>\n",
       "      <th>25%</th>\n",
       "      <td>1.995111e+07</td>\n",
       "      <td>4.000000</td>\n",
       "      <td>1995.000000</td>\n",
       "      <td>22.000000</td>\n",
       "    </tr>\n",
       "    <tr>\n",
       "      <th>50%</th>\n",
       "      <td>2.002144e+07</td>\n",
       "      <td>7.000000</td>\n",
       "      <td>2002.000000</td>\n",
       "      <td>34.000000</td>\n",
       "    </tr>\n",
       "    <tr>\n",
       "      <th>75%</th>\n",
       "      <td>2.010408e+07</td>\n",
       "      <td>10.000000</td>\n",
       "      <td>2010.000000</td>\n",
       "      <td>55.000000</td>\n",
       "    </tr>\n",
       "    <tr>\n",
       "      <th>max</th>\n",
       "      <td>2.021801e+07</td>\n",
       "      <td>12.000000</td>\n",
       "      <td>2021.000000</td>\n",
       "      <td>101.000000</td>\n",
       "    </tr>\n",
       "  </tbody>\n",
       "</table>\n",
       "</div>"
      ]
     },
     "execution_count": 76,
     "metadata": {},
     "output_type": "execute_result"
    }
   ],
   "execution_count": 76
  },
  {
   "metadata": {},
   "cell_type": "markdown",
   "source": "## Dropar colunas que não são relevantes para o modelo.",
   "id": "38b6aa85b80e13a3"
  },
  {
   "metadata": {
    "ExecuteTime": {
     "end_time": "2025-05-03T17:42:45.512626Z",
     "start_time": "2025-05-03T17:42:45.491757Z"
    }
   },
   "cell_type": "code",
   "source": [
    "df.drop(columns=[\n",
    "    'Crash ID', 'Month', 'Year', 'Dayweek', 'Time', 'Age',\n",
    "    'SA4 Name 2016', 'National LGA Name 2017', 'National Road Type',\n",
    "], inplace=True)\n",
    "\n",
    "df.head() # -> Verificamos se as colunas foram realmente removidas"
   ],
   "id": "803f161697ad3445",
   "outputs": [
    {
     "data": {
      "text/plain": [
       "  State Crash Type Bus Involvement Heavy Rigid Truck Involvement  \\\n",
       "0   Vic     Single             NaN                           NaN   \n",
       "1    SA   Multiple              No                            No   \n",
       "2   Vic     Single             NaN                           NaN   \n",
       "3   Vic     Single             NaN                           NaN   \n",
       "4   Vic     Single             NaN                           NaN   \n",
       "\n",
       "  Articulated Truck Involvement Speed Limit         Road User  Gender  \\\n",
       "0                           NaN         NaN  Motorcycle rider    Male   \n",
       "1                            No         110        Pedestrian  Female   \n",
       "2                           NaN         NaN         Passenger    Male   \n",
       "3                           NaN         NaN            Driver    Male   \n",
       "4                           NaN         NaN  Motorcycle rider    Male   \n",
       "\n",
       "   National Remoteness Areas Christmas Period Easter Period Age Group  \\\n",
       "0   Inner Regional Australia               No            No  26_to_39   \n",
       "1  Major Cities of Australia               No            No  26_to_39   \n",
       "2   Inner Regional Australia               No            No  17_to_25   \n",
       "3   Outer Regional Australia               No            No  17_to_25   \n",
       "4  Major Cities of Australia               No            No  40_to_64   \n",
       "\n",
       "  Day of week Time of day  \n",
       "0     Weekend       Night  \n",
       "1     Weekend       Night  \n",
       "2     Weekend       Night  \n",
       "3     Weekend       Night  \n",
       "4     Weekend       Night  "
      ],
      "text/html": [
       "<div>\n",
       "<style scoped>\n",
       "    .dataframe tbody tr th:only-of-type {\n",
       "        vertical-align: middle;\n",
       "    }\n",
       "\n",
       "    .dataframe tbody tr th {\n",
       "        vertical-align: top;\n",
       "    }\n",
       "\n",
       "    .dataframe thead th {\n",
       "        text-align: right;\n",
       "    }\n",
       "</style>\n",
       "<table border=\"1\" class=\"dataframe\">\n",
       "  <thead>\n",
       "    <tr style=\"text-align: right;\">\n",
       "      <th></th>\n",
       "      <th>State</th>\n",
       "      <th>Crash Type</th>\n",
       "      <th>Bus Involvement</th>\n",
       "      <th>Heavy Rigid Truck Involvement</th>\n",
       "      <th>Articulated Truck Involvement</th>\n",
       "      <th>Speed Limit</th>\n",
       "      <th>Road User</th>\n",
       "      <th>Gender</th>\n",
       "      <th>National Remoteness Areas</th>\n",
       "      <th>Christmas Period</th>\n",
       "      <th>Easter Period</th>\n",
       "      <th>Age Group</th>\n",
       "      <th>Day of week</th>\n",
       "      <th>Time of day</th>\n",
       "    </tr>\n",
       "  </thead>\n",
       "  <tbody>\n",
       "    <tr>\n",
       "      <th>0</th>\n",
       "      <td>Vic</td>\n",
       "      <td>Single</td>\n",
       "      <td>NaN</td>\n",
       "      <td>NaN</td>\n",
       "      <td>NaN</td>\n",
       "      <td>NaN</td>\n",
       "      <td>Motorcycle rider</td>\n",
       "      <td>Male</td>\n",
       "      <td>Inner Regional Australia</td>\n",
       "      <td>No</td>\n",
       "      <td>No</td>\n",
       "      <td>26_to_39</td>\n",
       "      <td>Weekend</td>\n",
       "      <td>Night</td>\n",
       "    </tr>\n",
       "    <tr>\n",
       "      <th>1</th>\n",
       "      <td>SA</td>\n",
       "      <td>Multiple</td>\n",
       "      <td>No</td>\n",
       "      <td>No</td>\n",
       "      <td>No</td>\n",
       "      <td>110</td>\n",
       "      <td>Pedestrian</td>\n",
       "      <td>Female</td>\n",
       "      <td>Major Cities of Australia</td>\n",
       "      <td>No</td>\n",
       "      <td>No</td>\n",
       "      <td>26_to_39</td>\n",
       "      <td>Weekend</td>\n",
       "      <td>Night</td>\n",
       "    </tr>\n",
       "    <tr>\n",
       "      <th>2</th>\n",
       "      <td>Vic</td>\n",
       "      <td>Single</td>\n",
       "      <td>NaN</td>\n",
       "      <td>NaN</td>\n",
       "      <td>NaN</td>\n",
       "      <td>NaN</td>\n",
       "      <td>Passenger</td>\n",
       "      <td>Male</td>\n",
       "      <td>Inner Regional Australia</td>\n",
       "      <td>No</td>\n",
       "      <td>No</td>\n",
       "      <td>17_to_25</td>\n",
       "      <td>Weekend</td>\n",
       "      <td>Night</td>\n",
       "    </tr>\n",
       "    <tr>\n",
       "      <th>3</th>\n",
       "      <td>Vic</td>\n",
       "      <td>Single</td>\n",
       "      <td>NaN</td>\n",
       "      <td>NaN</td>\n",
       "      <td>NaN</td>\n",
       "      <td>NaN</td>\n",
       "      <td>Driver</td>\n",
       "      <td>Male</td>\n",
       "      <td>Outer Regional Australia</td>\n",
       "      <td>No</td>\n",
       "      <td>No</td>\n",
       "      <td>17_to_25</td>\n",
       "      <td>Weekend</td>\n",
       "      <td>Night</td>\n",
       "    </tr>\n",
       "    <tr>\n",
       "      <th>4</th>\n",
       "      <td>Vic</td>\n",
       "      <td>Single</td>\n",
       "      <td>NaN</td>\n",
       "      <td>NaN</td>\n",
       "      <td>NaN</td>\n",
       "      <td>NaN</td>\n",
       "      <td>Motorcycle rider</td>\n",
       "      <td>Male</td>\n",
       "      <td>Major Cities of Australia</td>\n",
       "      <td>No</td>\n",
       "      <td>No</td>\n",
       "      <td>40_to_64</td>\n",
       "      <td>Weekend</td>\n",
       "      <td>Night</td>\n",
       "    </tr>\n",
       "  </tbody>\n",
       "</table>\n",
       "</div>"
      ]
     },
     "execution_count": 77,
     "metadata": {},
     "output_type": "execute_result"
    }
   ],
   "execution_count": 77
  },
  {
   "metadata": {},
   "cell_type": "markdown",
   "source": "### Separando as variáveis preditoras e a variável target.",
   "id": "a599e4ba67116a54"
  },
  {
   "metadata": {
    "ExecuteTime": {
     "end_time": "2025-05-03T17:42:45.715938Z",
     "start_time": "2025-05-03T17:42:45.657382Z"
    }
   },
   "cell_type": "code",
   "source": [
    "X = df.drop(columns=['Crash Type'])\n",
    "y = df['Crash Type']\n",
    "df_model = df.dropna(subset=X.columns.tolist() + ['Crash Type']) # Caso tenha algum nulo, removemos a linha inteira\n",
    "\n",
    "df_model.head()"
   ],
   "id": "3a9c4488513f8404",
   "outputs": [
    {
     "data": {
      "text/plain": [
       "   State Crash Type Bus Involvement Heavy Rigid Truck Involvement  \\\n",
       "1     SA   Multiple              No                            No   \n",
       "5    Qld   Multiple              No                            No   \n",
       "9    Qld     Single              No                            No   \n",
       "10    SA     Single              No                            No   \n",
       "11   Qld   Multiple              No                            No   \n",
       "\n",
       "   Articulated Truck Involvement Speed Limit         Road User  Gender  \\\n",
       "1                             No         110        Pedestrian  Female   \n",
       "5                             No         100  Motorcycle rider    Male   \n",
       "9                             No          60            Driver    Male   \n",
       "10                            No          80            Driver    Male   \n",
       "11                            No          50  Motorcycle rider    Male   \n",
       "\n",
       "    National Remoteness Areas Christmas Period Easter Period Age Group  \\\n",
       "1   Major Cities of Australia               No            No  26_to_39   \n",
       "5   Major Cities of Australia               No            No  17_to_25   \n",
       "9   Major Cities of Australia               No            No  40_to_64   \n",
       "10   Inner Regional Australia               No            No  17_to_25   \n",
       "11  Major Cities of Australia               No            No  40_to_64   \n",
       "\n",
       "   Day of week Time of day  \n",
       "1      Weekend       Night  \n",
       "5      Weekend       Night  \n",
       "9      Weekend       Night  \n",
       "10     Weekday       Night  \n",
       "11     Weekend       Night  "
      ],
      "text/html": [
       "<div>\n",
       "<style scoped>\n",
       "    .dataframe tbody tr th:only-of-type {\n",
       "        vertical-align: middle;\n",
       "    }\n",
       "\n",
       "    .dataframe tbody tr th {\n",
       "        vertical-align: top;\n",
       "    }\n",
       "\n",
       "    .dataframe thead th {\n",
       "        text-align: right;\n",
       "    }\n",
       "</style>\n",
       "<table border=\"1\" class=\"dataframe\">\n",
       "  <thead>\n",
       "    <tr style=\"text-align: right;\">\n",
       "      <th></th>\n",
       "      <th>State</th>\n",
       "      <th>Crash Type</th>\n",
       "      <th>Bus Involvement</th>\n",
       "      <th>Heavy Rigid Truck Involvement</th>\n",
       "      <th>Articulated Truck Involvement</th>\n",
       "      <th>Speed Limit</th>\n",
       "      <th>Road User</th>\n",
       "      <th>Gender</th>\n",
       "      <th>National Remoteness Areas</th>\n",
       "      <th>Christmas Period</th>\n",
       "      <th>Easter Period</th>\n",
       "      <th>Age Group</th>\n",
       "      <th>Day of week</th>\n",
       "      <th>Time of day</th>\n",
       "    </tr>\n",
       "  </thead>\n",
       "  <tbody>\n",
       "    <tr>\n",
       "      <th>1</th>\n",
       "      <td>SA</td>\n",
       "      <td>Multiple</td>\n",
       "      <td>No</td>\n",
       "      <td>No</td>\n",
       "      <td>No</td>\n",
       "      <td>110</td>\n",
       "      <td>Pedestrian</td>\n",
       "      <td>Female</td>\n",
       "      <td>Major Cities of Australia</td>\n",
       "      <td>No</td>\n",
       "      <td>No</td>\n",
       "      <td>26_to_39</td>\n",
       "      <td>Weekend</td>\n",
       "      <td>Night</td>\n",
       "    </tr>\n",
       "    <tr>\n",
       "      <th>5</th>\n",
       "      <td>Qld</td>\n",
       "      <td>Multiple</td>\n",
       "      <td>No</td>\n",
       "      <td>No</td>\n",
       "      <td>No</td>\n",
       "      <td>100</td>\n",
       "      <td>Motorcycle rider</td>\n",
       "      <td>Male</td>\n",
       "      <td>Major Cities of Australia</td>\n",
       "      <td>No</td>\n",
       "      <td>No</td>\n",
       "      <td>17_to_25</td>\n",
       "      <td>Weekend</td>\n",
       "      <td>Night</td>\n",
       "    </tr>\n",
       "    <tr>\n",
       "      <th>9</th>\n",
       "      <td>Qld</td>\n",
       "      <td>Single</td>\n",
       "      <td>No</td>\n",
       "      <td>No</td>\n",
       "      <td>No</td>\n",
       "      <td>60</td>\n",
       "      <td>Driver</td>\n",
       "      <td>Male</td>\n",
       "      <td>Major Cities of Australia</td>\n",
       "      <td>No</td>\n",
       "      <td>No</td>\n",
       "      <td>40_to_64</td>\n",
       "      <td>Weekend</td>\n",
       "      <td>Night</td>\n",
       "    </tr>\n",
       "    <tr>\n",
       "      <th>10</th>\n",
       "      <td>SA</td>\n",
       "      <td>Single</td>\n",
       "      <td>No</td>\n",
       "      <td>No</td>\n",
       "      <td>No</td>\n",
       "      <td>80</td>\n",
       "      <td>Driver</td>\n",
       "      <td>Male</td>\n",
       "      <td>Inner Regional Australia</td>\n",
       "      <td>No</td>\n",
       "      <td>No</td>\n",
       "      <td>17_to_25</td>\n",
       "      <td>Weekday</td>\n",
       "      <td>Night</td>\n",
       "    </tr>\n",
       "    <tr>\n",
       "      <th>11</th>\n",
       "      <td>Qld</td>\n",
       "      <td>Multiple</td>\n",
       "      <td>No</td>\n",
       "      <td>No</td>\n",
       "      <td>No</td>\n",
       "      <td>50</td>\n",
       "      <td>Motorcycle rider</td>\n",
       "      <td>Male</td>\n",
       "      <td>Major Cities of Australia</td>\n",
       "      <td>No</td>\n",
       "      <td>No</td>\n",
       "      <td>40_to_64</td>\n",
       "      <td>Weekend</td>\n",
       "      <td>Night</td>\n",
       "    </tr>\n",
       "  </tbody>\n",
       "</table>\n",
       "</div>"
      ]
     },
     "execution_count": 78,
     "metadata": {},
     "output_type": "execute_result"
    }
   ],
   "execution_count": 78
  },
  {
   "metadata": {},
   "cell_type": "markdown",
   "source": "### Se tinha algum valor nulo, agora já resolveu. Atualizamos o X e o y abaixo com o novo dataset sem nulos.",
   "id": "1ad6bc33aa87d159"
  },
  {
   "metadata": {
    "ExecuteTime": {
     "end_time": "2025-05-03T17:42:45.868763Z",
     "start_time": "2025-05-03T17:42:45.861269Z"
    }
   },
   "cell_type": "code",
   "source": [
    "# Atualiza X e y com dados sem nulos\n",
    "X = df_model.drop(columns=['Crash Type'])\n",
    "y = df_model['Crash Type']\n"
   ],
   "id": "d7d2286c759257ef",
   "outputs": [],
   "execution_count": 79
  },
  {
   "metadata": {},
   "cell_type": "markdown",
   "source": "### Codificação das variáveis categóricas",
   "id": "708c3a0592db377d"
  },
  {
   "metadata": {
    "ExecuteTime": {
     "end_time": "2025-05-03T17:42:46.077113Z",
     "start_time": "2025-05-03T17:42:46.070920Z"
    }
   },
   "cell_type": "code",
   "source": [
    "# Seleciona as colunas categóricas, ou seja, aquelas que são do tipo object (string)\n",
    "categorical_cols = X.select_dtypes(include=['object']).columns.tolist()\n",
    "categorical_cols"
   ],
   "id": "b5a4848e9106b8b6",
   "outputs": [
    {
     "data": {
      "text/plain": [
       "['State',\n",
       " 'Bus Involvement',\n",
       " 'Heavy Rigid Truck Involvement',\n",
       " 'Articulated Truck Involvement',\n",
       " 'Speed Limit',\n",
       " 'Road User',\n",
       " 'Gender',\n",
       " 'National Remoteness Areas',\n",
       " 'Christmas Period',\n",
       " 'Easter Period',\n",
       " 'Age Group',\n",
       " 'Day of week',\n",
       " 'Time of day']"
      ]
     },
     "execution_count": 80,
     "metadata": {},
     "output_type": "execute_result"
    }
   ],
   "execution_count": 80
  },
  {
   "metadata": {
    "ExecuteTime": {
     "end_time": "2025-05-03T17:42:46.168096Z",
     "start_time": "2025-05-03T17:42:46.164122Z"
    }
   },
   "cell_type": "code",
   "source": [
    "from sklearn.compose import ColumnTransformer # -> Para transformar as colunas\n",
    "from sklearn.preprocessing import OneHotEncoder # -> Para codificar as variáveis categóricas\n",
    "# Cria o OneHotEncoder para codificar as variáveis categóricas\n",
    "\n",
    "preprocessor = ColumnTransformer(\n",
    "    transformers=[\n",
    "        ('cat', OneHotEncoder(handle_unknown='ignore'), categorical_cols) # -> Codifica as variáveis categóricas\n",
    "    ],\n",
    "    remainder='passthrough' # -> Mantém as colunas que não são categóricas\n",
    ")"
   ],
   "id": "ee0186a1cf5648c2",
   "outputs": [],
   "execution_count": 81
  },
  {
   "metadata": {},
   "cell_type": "markdown",
   "source": "## Divisão dos dados em treino e teste",
   "id": "42f95a126303dc4f"
  },
  {
   "metadata": {
    "ExecuteTime": {
     "end_time": "2025-05-03T17:42:46.224440Z",
     "start_time": "2025-05-03T17:42:46.217122Z"
    }
   },
   "cell_type": "code",
   "source": [
    "from sklearn.model_selection import train_test_split\n",
    "X_train, X_test, y_train, y_test = train_test_split(X, y, train_size=0.2, random_state=42) # -> Divide os dados em treino e teste, 80% para treino e 20% para teste"
   ],
   "id": "7c947a145848be1e",
   "outputs": [],
   "execution_count": 82
  },
  {
   "metadata": {},
   "cell_type": "markdown",
   "source": "## Modelos",
   "id": "c25b5e6eb48d24b0"
  },
  {
   "metadata": {
    "ExecuteTime": {
     "end_time": "2025-05-03T17:42:46.274327Z",
     "start_time": "2025-05-03T17:42:46.270812Z"
    }
   },
   "cell_type": "code",
   "source": [
    "from sklearn.ensemble import RandomForestClassifier\n",
    "from sklearn.linear_model import LogisticRegression\n",
    "from sklearn.svm import SVC\n",
    "\n",
    "models = {\n",
    "    \"Random Forest\": RandomForestClassifier(random_state=42),\n",
    "    \"Logistic Regression\": LogisticRegression(random_state=42),\n",
    "    'SVM': SVC()\n",
    "}"
   ],
   "id": "3902dd2eeb6d537f",
   "outputs": [],
   "execution_count": 83
  },
  {
   "metadata": {},
   "cell_type": "markdown",
   "source": "### Treinamento dos modelos e avaliação",
   "id": "9e73e55a38b44551"
  },
  {
   "metadata": {
    "ExecuteTime": {
     "end_time": "2025-05-03T17:43:32.968196Z",
     "start_time": "2025-05-03T17:43:31.605602Z"
    }
   },
   "cell_type": "code",
   "source": [
    "from sklearn.metrics import confusion_matrix, classification_report\n",
    "from sklearn.pipeline import Pipeline\n",
    "\n",
    "for name, model in models.items():\n",
    "    print(f\"        \\n==== Treinando {name} ====\")\n",
    "    pipeline = Pipeline(steps =[\n",
    "        ('preprocessor', preprocessor),\n",
    "        ('classifier', model)\n",
    "    ])\n",
    "\n",
    "    pipeline.fit(X_train, y_train) # -> Treina o modelo\n",
    "    y_pred = pipeline.predict(X_test)\n",
    "\n",
    "    print(confusion_matrix(y_test, y_pred))\n",
    "    print(classification_report(y_test, y_pred))"
   ],
   "id": "9f0d8e46d9a3676d",
   "outputs": [
    {
     "name": "stdout",
     "output_type": "stream",
     "text": [
      "        \n",
      "==== Treinando Random Forest ====\n",
      "[[1519  845]\n",
      " [ 844 2226]]\n",
      "              precision    recall  f1-score   support\n",
      "\n",
      "    Multiple       0.64      0.64      0.64      2364\n",
      "      Single       0.72      0.73      0.72      3070\n",
      "\n",
      "    accuracy                           0.69      5434\n",
      "   macro avg       0.68      0.68      0.68      5434\n",
      "weighted avg       0.69      0.69      0.69      5434\n",
      "\n",
      "        \n",
      "==== Treinando Logistic Regression ====\n",
      "[[1626  738]\n",
      " [ 848 2222]]\n",
      "              precision    recall  f1-score   support\n",
      "\n",
      "    Multiple       0.66      0.69      0.67      2364\n",
      "      Single       0.75      0.72      0.74      3070\n",
      "\n",
      "    accuracy                           0.71      5434\n",
      "   macro avg       0.70      0.71      0.70      5434\n",
      "weighted avg       0.71      0.71      0.71      5434\n",
      "\n",
      "        \n",
      "==== Treinando SVM ====\n",
      "[[1570  794]\n",
      " [ 764 2306]]\n",
      "              precision    recall  f1-score   support\n",
      "\n",
      "    Multiple       0.67      0.66      0.67      2364\n",
      "      Single       0.74      0.75      0.75      3070\n",
      "\n",
      "    accuracy                           0.71      5434\n",
      "   macro avg       0.71      0.71      0.71      5434\n",
      "weighted avg       0.71      0.71      0.71      5434\n",
      "\n"
     ]
    }
   ],
   "execution_count": 85
  },
  {
   "metadata": {},
   "cell_type": "markdown",
   "source": "### Não gostei muito dos resultados, então vou tentar fazer um GridSearchCV para ver se consigo melhorar o resultado.",
   "id": "f5db988f5d089130"
  },
  {
   "metadata": {},
   "cell_type": "markdown",
   "source": "Random Forest",
   "id": "b916255ef18dbd2"
  },
  {
   "metadata": {
    "ExecuteTime": {
     "end_time": "2025-05-03T18:28:24.457944Z",
     "start_time": "2025-05-03T18:28:12.432654Z"
    }
   },
   "cell_type": "code",
   "source": [
    "from sklearn.model_selection import GridSearchCV\n",
    "\n",
    "param_grid_rf = {\n",
    "    'n_estimators': [100, 200],\n",
    "    'max_depth': [None, 10, 20],\n",
    "    'min_samples_split': [2, 5],\n",
    "    'min_samples_leaf': [1, 2]\n",
    "}\n",
    "\n",
    "grid_rf = GridSearchCV(RandomForestClassifier(random_state=42), param_grid_rf, cv=5, n_jobs=-1)\n",
    "grid_rf.fit(X_train, y_train)\n",
    "\n",
    "print(\"Melhores parâmetros para Random Forest:\", grid_rf.best_params_)\n",
    "y_pred_rd = grid_rf.predict(X_test)\n",
    "print(confusion_matrix(y_test, y_pred_rd))\n",
    "print(classification_report(y_test, y_pred_rd))"
   ],
   "id": "65f880ccc27cdcaa",
   "outputs": [
    {
     "name": "stdout",
     "output_type": "stream",
     "text": [
      "Melhores parâmetros para Random Forest: {'max_depth': 10, 'min_samples_leaf': 2, 'min_samples_split': 5, 'n_estimators': 100}\n",
      "[[ 457  429]\n",
      " [ 150 1002]]\n",
      "              precision    recall  f1-score   support\n",
      "\n",
      "    Multiple       0.75      0.52      0.61       886\n",
      "      Single       0.70      0.87      0.78      1152\n",
      "\n",
      "    accuracy                           0.72      2038\n",
      "   macro avg       0.73      0.69      0.69      2038\n",
      "weighted avg       0.72      0.72      0.70      2038\n",
      "\n"
     ]
    }
   ],
   "execution_count": 96
  },
  {
   "metadata": {},
   "cell_type": "markdown",
   "source": "SVM",
   "id": "db60114b31f5d5be"
  },
  {
   "metadata": {
    "ExecuteTime": {
     "end_time": "2025-05-03T18:37:01.804688Z",
     "start_time": "2025-05-03T18:36:50.756398Z"
    }
   },
   "cell_type": "code",
   "source": [
    "param_grid_svm = {\n",
    "    'C': [0.1, 1, 10],\n",
    "    'kernel': ['linear', 'rbf'],\n",
    "    'gamma': ['scale', 'auto']\n",
    "}\n",
    "\n",
    "grid_svm = GridSearchCV(SVC(), param_grid_svm, cv=5, n_jobs=-1)\n",
    "grid_svm.fit(X_train, y_train)\n",
    "\n",
    "print(\"Melhores parâmetros - SVM:\", grid_svm.best_params_)\n",
    "y_pred_svm = grid_svm.predict(X_test)\n",
    "print(confusion_matrix(y_test, y_pred_svm))\n",
    "print(classification_report(y_test, y_pred_svm))"
   ],
   "id": "7f354462906cff1c",
   "outputs": [
    {
     "name": "stdout",
     "output_type": "stream",
     "text": [
      "Melhores parâmetros - SVM: {'C': 10, 'gamma': 'auto', 'kernel': 'rbf'}\n",
      "[[467 419]\n",
      " [164 988]]\n",
      "              precision    recall  f1-score   support\n",
      "\n",
      "    Multiple       0.74      0.53      0.62       886\n",
      "      Single       0.70      0.86      0.77      1152\n",
      "\n",
      "    accuracy                           0.71      2038\n",
      "   macro avg       0.72      0.69      0.69      2038\n",
      "weighted avg       0.72      0.71      0.70      2038\n",
      "\n"
     ]
    }
   ],
   "execution_count": 97
  },
  {
   "metadata": {},
   "cell_type": "markdown",
   "source": "Regressão Logística",
   "id": "b9152671d3389e9d"
  },
  {
   "metadata": {
    "ExecuteTime": {
     "end_time": "2025-05-03T18:37:17.564910Z",
     "start_time": "2025-05-03T18:37:17.328076Z"
    }
   },
   "cell_type": "code",
   "source": [
    "param_grid_log = {\n",
    "    'C': [0.01, 0.1, 1, 10],\n",
    "    'penalty': ['l2'],\n",
    "    'solver': ['liblinear', 'lbfgs']\n",
    "}\n",
    "\n",
    "grid_log = GridSearchCV(LogisticRegression(max_iter=1000), param_grid_log, cv=5, n_jobs=-1)\n",
    "grid_log.fit(X_train, y_train)\n",
    "\n",
    "print(\"Melhores parâmetros - Logistic Regression:\", grid_log.best_params_)\n",
    "y_pred_log = grid_log.predict(X_test)\n",
    "print(confusion_matrix(y_test, y_pred_log))\n",
    "print(classification_report(y_test, y_pred_log))"
   ],
   "id": "bf36086df7ee342a",
   "outputs": [
    {
     "name": "stdout",
     "output_type": "stream",
     "text": [
      "Melhores parâmetros - Logistic Regression: {'C': 10, 'penalty': 'l2', 'solver': 'lbfgs'}\n",
      "[[529 357]\n",
      " [244 908]]\n",
      "              precision    recall  f1-score   support\n",
      "\n",
      "    Multiple       0.68      0.60      0.64       886\n",
      "      Single       0.72      0.79      0.75      1152\n",
      "\n",
      "    accuracy                           0.71      2038\n",
      "   macro avg       0.70      0.69      0.69      2038\n",
      "weighted avg       0.70      0.71      0.70      2038\n",
      "\n"
     ]
    }
   ],
   "execution_count": 98
  },
  {
   "metadata": {},
   "cell_type": "markdown",
   "source": "## ** Bônus ** : KNN",
   "id": "97dd31226fa451a5"
  },
  {
   "metadata": {
    "ExecuteTime": {
     "end_time": "2025-05-03T18:17:34.709583Z",
     "start_time": "2025-05-03T18:17:34.534724Z"
    }
   },
   "cell_type": "code",
   "source": [
    "# Vamos testar com o SelectKBest, que é um método de seleção de recursos que seleciona as k melhores características com base em um teste estatístico univariado.\n",
    "\n",
    "# Primeiro, transformar colunas categóricas em variáveis dummies (0/1)\n",
    "X_encoded = pd.get_dummies(X)\n",
    "\n",
    "# Agora sim, aplicar SelectKBest\n",
    "from sklearn.feature_selection import SelectKBest, chi2\n",
    "selector = SelectKBest(score_func=chi2, k=15)  # ou k='all' se quiser ver os scores de tudo\n",
    "X_selected = selector.fit_transform(X_encoded, y)\n"
   ],
   "id": "653a789eddd23486",
   "outputs": [],
   "execution_count": 91
  },
  {
   "metadata": {},
   "cell_type": "markdown",
   "source": "Para checarmos quais as colunas com mais peso, podemos fazer o seguinte:",
   "id": "96ad893687982d6d"
  },
  {
   "metadata": {
    "ExecuteTime": {
     "end_time": "2025-05-03T18:18:03.950563Z",
     "start_time": "2025-05-03T18:18:03.945947Z"
    }
   },
   "cell_type": "code",
   "source": [
    "mask = selector.get_support()\n",
    "selected_features = X_encoded.columns[mask]\n",
    "print(selected_features)\n"
   ],
   "id": "97cb23259e63aa64",
   "outputs": [
    {
     "name": "stdout",
     "output_type": "stream",
     "text": [
      "Index(['State_NT', 'Bus Involvement_Yes', 'Heavy Rigid Truck Involvement_Yes',\n",
      "       'Articulated Truck Involvement_No', 'Articulated Truck Involvement_Yes',\n",
      "       'Speed Limit_50', 'Road User_Motorcycle rider',\n",
      "       'Road User_Pedal cyclist', 'Road User_Pedestrian',\n",
      "       'National Remoteness Areas_Major Cities of Australia',\n",
      "       'National Remoteness Areas_Remote Australia',\n",
      "       'National Remoteness Areas_Very Remote Australia',\n",
      "       'Day of week_Weekend', 'Time of day_Day', 'Time of day_Night'],\n",
      "      dtype='object')\n"
     ]
    }
   ],
   "execution_count": 92
  },
  {
   "metadata": {
    "ExecuteTime": {
     "end_time": "2025-05-03T18:20:00.637112Z",
     "start_time": "2025-05-03T18:20:00.302532Z"
    }
   },
   "cell_type": "code",
   "source": [
    "from sklearn.preprocessing import StandardScaler\n",
    "\n",
    "# Separar em treino e teste (com os dados já selecionados)\n",
    "X_train, X_test, y_train, y_test = train_test_split(X_selected, y, test_size=0.3, random_state=42)\n",
    "\n",
    "# KNN é sensível à escala → padronizar os dados\n",
    "scaler = StandardScaler()\n",
    "X_train_scaled = scaler.fit_transform(X_train)\n",
    "X_test_scaled = scaler.transform(X_test)\n",
    "\n",
    "# Treinar o modelo\n",
    "knn = KNeighborsClassifier(n_neighbors=5)  # você pode testar diferentes k depois\n",
    "knn.fit(X_train_scaled, y_train)\n",
    "\n",
    "# Fazer previsões\n",
    "y_pred = knn.predict(X_test_scaled)\n",
    "\n",
    "# Avaliar desempenho\n",
    "print(\"==== Treinando KNN ====\")\n",
    "print(confusion_matrix(y_test, y_pred))\n",
    "print(classification_report(y_test, y_pred))"
   ],
   "id": "7cd1014751005434",
   "outputs": [
    {
     "name": "stdout",
     "output_type": "stream",
     "text": [
      "==== Treinando KNN ====\n",
      "[[456 430]\n",
      " [168 984]]\n",
      "              precision    recall  f1-score   support\n",
      "\n",
      "    Multiple       0.73      0.51      0.60       886\n",
      "      Single       0.70      0.85      0.77      1152\n",
      "\n",
      "    accuracy                           0.71      2038\n",
      "   macro avg       0.71      0.68      0.69      2038\n",
      "weighted avg       0.71      0.71      0.70      2038\n",
      "\n"
     ]
    }
   ],
   "execution_count": 93
  },
  {
   "metadata": {
    "ExecuteTime": {
     "end_time": "2025-05-03T18:39:16.941731Z",
     "start_time": "2025-05-03T18:39:07.811720Z"
    }
   },
   "cell_type": "code",
   "source": [
    "\n",
    "from sklearn.metrics import accuracy_score\n",
    "\n",
    "accuracies = []\n",
    "k_values = range(1, 31)  # Testar K de 1 até 30\n",
    "\n",
    "for k in k_values:\n",
    "    knn = KNeighborsClassifier(n_neighbors=k)\n",
    "    knn.fit(X_train, y_train)\n",
    "    y_pred = knn.predict(X_test)\n",
    "    acc = accuracy_score(y_test, y_pred)\n",
    "    accuracies.append(acc)\n",
    "\n",
    "# Plotar os resultados\n",
    "plt.figure(figsize=(10, 5))\n",
    "plt.plot(k_values, accuracies, marker='o')\n",
    "plt.title('Acurácia do KNN para diferentes valores de K')\n",
    "plt.xlabel('Valor de K')\n",
    "plt.ylabel('Acurácia')\n",
    "plt.xticks(k_values)\n",
    "plt.grid(True)\n",
    "plt.show()\n",
    "\n",
    "# Melhor K\n",
    "melhor_k = k_values[accuracies.index(max(accuracies))]\n",
    "print(f\"Melhor valor de K: {melhor_k} com acurácia de {max(accuracies):.4f}\")"
   ],
   "id": "570c8e2d3caef5a2",
   "outputs": [
    {
     "data": {
      "text/plain": [
       "<Figure size 1000x500 with 1 Axes>"
      ],
      "image/png": "[encoded data removed]"
     },
     "metadata": {},
     "output_type": "display_data"
    },
    {
     "name": "stdout",
     "output_type": "stream",
     "text": [
      "Melhor valor de K: 25 com acurácia de 0.7095\n"
     ]
    }
   ],
   "execution_count": 99
  },
  {
   "metadata": {},
   "cell_type": "markdown",
   "source": [
    "O dado com melhor acurácia foi 25, mas não significa que ele seja o melhor K a se utilizar, pois vendo no gráfico, poucos 'k's depois, começa uma queda.\n",
    "O ideal é pegarmos por exemplo o K=11, que se mantém em um intervalo numa média quase linear. Isso pode significar que algum padrão foi identificado naquela quantidade de vizinhos."
   ],
   "id": "b688f51c8daf065e"
  },
  {
   "metadata": {},
   "cell_type": "code",
   "outputs": [],
   "execution_count": null,
   "source": "",
   "id": "599ac8443c76f6fb"
  }
 ],
 "metadata": {
  "kernelspec": {
   "display_name": "Python 3",
   "language": "python",
   "name": "python3"
  },
  "language_info": {
   "codemirror_mode": {
    "name": "ipython",
    "version": 2
   },
   "file_extension": ".py",
   "mimetype": "text/x-python",
   "name": "python",
   "nbconvert_exporter": "python",
   "pygments_lexer": "ipython2",
   "version": "2.7.6"
  }
 },
 "nbformat": 4,
 "nbformat_minor": 5
}
