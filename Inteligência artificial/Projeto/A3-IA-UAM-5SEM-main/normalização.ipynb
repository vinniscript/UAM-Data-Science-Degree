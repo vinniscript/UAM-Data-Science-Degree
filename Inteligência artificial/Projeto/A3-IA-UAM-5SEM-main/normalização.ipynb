{
 "cells": [
  {
   "cell_type": "code",
   "execution_count": 1,
   "id": "b3121c6d",
   "metadata": {},
   "outputs": [],
   "source": [
    "import pandas as pd\n",
    "import numpy as np\n",
    "from sklearn.model_selection import train_test_split, GridSearchCV\n",
    "from sklearn.pipeline import Pipeline\n",
    "from sklearn.compose import ColumnTransformer\n",
    "from sklearn.preprocessing import OneHotEncoder, StandardScaler\n",
    "from sklearn.linear_model import LogisticRegression\n",
    "from sklearn.svm import SVC\n",
    "from sklearn.ensemble import RandomForestClassifier\n",
    "from sklearn.metrics import classification_report, confusion_matrix\n"
   ]
  },
  {
   "cell_type": "code",
   "execution_count": 2,
   "id": "f38702a0",
   "metadata": {},
   "outputs": [
    {
     "name": "stderr",
     "output_type": "stream",
     "text": [
      "c:\\Users\\vinicius.sousa\\OneDrive - Cast Informatica SA\\Área de Trabalho\\_Atendimento\\.Scripts\\Powershell\\Projetos Cast\\data\\A3\\Lib\\site-packages\\tqdm\\auto.py:21: TqdmWarning: IProgress not found. Please update jupyter and ipywidgets. See https://ipywidgets.readthedocs.io/en/stable/user_install.html\n",
      "  from .autonotebook import tqdm as notebook_tqdm\n"
     ]
    },
    {
     "name": "stdout",
     "output_type": "stream",
     "text": [
      "Path to dataset files: C:\\Users\\vinicius.sousa\\.cache\\kagglehub\\datasets\\deepcontractor\\australian-fatal-car-accident-data-19892021\\versions\\2\n"
     ]
    }
   ],
   "source": [
    "import kagglehub\n",
    "\n",
    "# Pega a última versão do dataset\n",
    "path = kagglehub.dataset_download(\"deepcontractor/australian-fatal-car-accident-data-19892021\")\n",
    "\n",
    "print(\"Path to dataset files:\", path)\n",
    "\n",
    "df = pd.read_csv(path + \"/Crash_Data.csv\", low_memory=False) # -> Lê o arquivo CSV\n",
    "\n",
    "# Remover colunas irrelevantes\n",
    "df.drop(columns=[\n",
    "    'Crash ID', 'Month', 'Year', 'Dayweek', 'Time', 'Age',\n",
    "    'SA4 Name 2016', 'National LGA Name 2017', 'National Road Type'\n",
    "], inplace=True)\n",
    "\n",
    "# Definir variáveis dependentes e independentes\n",
    "X = df.drop(columns=['Crash Type'])\n",
    "y = df['Crash Type']\n",
    "\n",
    "# Identificar colunas categóricas e numéricas\n",
    "categorical_cols = X.select_dtypes(include=['object']).columns.tolist()\n",
    "numerical_cols = X.select_dtypes(include=['int64', 'float64']).columns.tolist()\n",
    "\n",
    "# Dividir o dataset em treino e teste\n",
    "X_train, X_test, y_train, y_test = train_test_split(X, y, test_size=0.2, random_state=42)\n"
   ]
  },
  {
   "cell_type": "code",
   "execution_count": 3,
   "id": "7daaf1d2",
   "metadata": {},
   "outputs": [],
   "source": [
    "# Pipeline de pré-processamento para colunas categóricas\n",
    "categorical_transformer = OneHotEncoder(handle_unknown='ignore')\n",
    "\n",
    "# Pipeline de pré-processamento para colunas numéricas\n",
    "numerical_transformer = StandardScaler()\n",
    "\n",
    "# Combinar os pré-processadores usando ColumnTransformer\n",
    "preprocessor = ColumnTransformer(\n",
    "    transformers=[\n",
    "        ('num', numerical_transformer, numerical_cols),\n",
    "        ('cat', categorical_transformer, categorical_cols)\n",
    "    ])\n"
   ]
  },
  {
   "cell_type": "code",
   "execution_count": 4,
   "id": "fe2f38c2",
   "metadata": {},
   "outputs": [],
   "source": [
    "# Dicionário de modelos e seus respectivos grids de hiperparâmetros\n",
    "models = {\n",
    "    'Logistic Regression': {\n",
    "        'model': LogisticRegression(max_iter=1000),\n",
    "        'params': {\n",
    "            'model__C': [0.01, 0.1, 1, 10],\n",
    "            'model__penalty': ['l2'],\n",
    "            'model__solver': ['lbfgs']\n",
    "        }\n",
    "    },\n",
    "    'SVM': {\n",
    "        'model': SVC(),\n",
    "        'params': {\n",
    "            'model__C': [0.1, 1, 10],\n",
    "            'model__kernel': ['linear', 'rbf'],\n",
    "            'model__gamma': ['scale', 'auto']\n",
    "        }\n",
    "    },\n",
    "    'Random Forest': {\n",
    "        'model': RandomForestClassifier(),\n",
    "        'params': {\n",
    "            'model__n_estimators': [100, 200],\n",
    "            'model__max_depth': [None, 10, 20],\n",
    "            'model__min_samples_split': [2, 5]\n",
    "        }\n",
    "    }\n",
    "}\n"
   ]
  },
  {
   "cell_type": "code",
   "execution_count": 5,
   "id": "e68f9aee",
   "metadata": {},
   "outputs": [
    {
     "name": "stdout",
     "output_type": "stream",
     "text": [
      "\n",
      "🔍 Treinando e otimizando: Logistic Regression\n",
      "Fitting 5 folds for each of 4 candidates, totalling 20 fits\n",
      "Melhores hiperparâmetros para Logistic Regression: {'model__C': 0.1, 'model__penalty': 'l2', 'model__solver': 'lbfgs'}\n",
      "Matriz de Confusão:\n",
      "[[2951 1777]\n",
      " [1243 4598]]\n",
      "Relatório de Classificação:\n",
      "              precision    recall  f1-score   support\n",
      "\n",
      "    Multiple       0.70      0.62      0.66      4728\n",
      "      Single       0.72      0.79      0.75      5841\n",
      "\n",
      "    accuracy                           0.71     10569\n",
      "   macro avg       0.71      0.71      0.71     10569\n",
      "weighted avg       0.71      0.71      0.71     10569\n",
      "\n",
      "\n",
      "🔍 Treinando e otimizando: SVM\n",
      "Fitting 5 folds for each of 12 candidates, totalling 60 fits\n",
      "Melhores hiperparâmetros para SVM: {'model__C': 10, 'model__gamma': 'scale', 'model__kernel': 'rbf'}\n",
      "Matriz de Confusão:\n",
      "[[3066 1662]\n",
      " [1309 4532]]\n",
      "Relatório de Classificação:\n",
      "              precision    recall  f1-score   support\n",
      "\n",
      "    Multiple       0.70      0.65      0.67      4728\n",
      "      Single       0.73      0.78      0.75      5841\n",
      "\n",
      "    accuracy                           0.72     10569\n",
      "   macro avg       0.72      0.71      0.71     10569\n",
      "weighted avg       0.72      0.72      0.72     10569\n",
      "\n",
      "\n",
      "🔍 Treinando e otimizando: Random Forest\n",
      "Fitting 5 folds for each of 12 candidates, totalling 60 fits\n",
      "Melhores hiperparâmetros para Random Forest: {'model__max_depth': 20, 'model__min_samples_split': 5, 'model__n_estimators': 100}\n",
      "Matriz de Confusão:\n",
      "[[3061 1667]\n",
      " [1346 4495]]\n",
      "Relatório de Classificação:\n",
      "              precision    recall  f1-score   support\n",
      "\n",
      "    Multiple       0.69      0.65      0.67      4728\n",
      "      Single       0.73      0.77      0.75      5841\n",
      "\n",
      "    accuracy                           0.71     10569\n",
      "   macro avg       0.71      0.71      0.71     10569\n",
      "weighted avg       0.71      0.71      0.71     10569\n",
      "\n"
     ]
    }
   ],
   "source": [
    "for model_name, mp in models.items():\n",
    "    print(f\"\\n🔍 Treinando e otimizando: {model_name}\")\n",
    "    \n",
    "    # Criar o pipeline completo\n",
    "    pipeline = Pipeline(steps=[\n",
    "        ('preprocessor', preprocessor),\n",
    "        ('model', mp['model'])\n",
    "    ])\n",
    "    \n",
    "    # Configurar o GridSearchCV\n",
    "    grid_search = GridSearchCV(pipeline, mp['params'], cv=5, n_jobs=-1, verbose=1)\n",
    "    \n",
    "    # Treinar o modelo\n",
    "    grid_search.fit(X_train, y_train)\n",
    "    \n",
    "    # Exibir os melhores hiperparâmetros\n",
    "    print(f\"Melhores hiperparâmetros para {model_name}: {grid_search.best_params_}\")\n",
    "    \n",
    "    # Avaliar o modelo no conjunto de teste\n",
    "    y_pred = grid_search.predict(X_test)\n",
    "    print(\"Matriz de Confusão:\")\n",
    "    print(confusion_matrix(y_test, y_pred))\n",
    "    print(\"Relatório de Classificação:\")\n",
    "    print(classification_report(y_test, y_pred))\n"
   ]
  },
  {
   "cell_type": "code",
   "execution_count": null,
   "id": "4fe8e351",
   "metadata": {},
   "outputs": [],
   "source": []
  }
 ],
 "metadata": {
  "kernelspec": {
   "display_name": "A3",
   "language": "python",
   "name": "python3"
  },
  "language_info": {
   "codemirror_mode": {
    "name": "ipython",
    "version": 3
   },
   "file_extension": ".py",
   "mimetype": "text/x-python",
   "name": "python",
   "nbconvert_exporter": "python",
   "pygments_lexer": "ipython3",
   "version": "3.13.3"
  }
 },
 "nbformat": 4,
 "nbformat_minor": 5
}
