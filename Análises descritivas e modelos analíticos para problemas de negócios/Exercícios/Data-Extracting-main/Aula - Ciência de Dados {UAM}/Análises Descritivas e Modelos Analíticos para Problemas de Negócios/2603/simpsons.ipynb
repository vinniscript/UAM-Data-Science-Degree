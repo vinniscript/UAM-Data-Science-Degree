{
 "cells": [
  {
   "cell_type": "markdown",
   "source": [
    "# Usando KNN para classificar novos dados"
   ],
   "metadata": {
    "collapsed": false
   },
   "id": "b0efac5594f74900"
  },
  {
   "cell_type": "code",
   "execution_count": 24,
   "id": "initial_id",
   "metadata": {
    "collapsed": true,
    "ExecuteTime": {
     "end_time": "2024-03-30T15:09:50.987461Z",
     "start_time": "2024-03-30T15:09:50.984634Z"
    }
   },
   "outputs": [],
   "source": [
    "import pandas as pd\n",
    "from sklearn.neighbors import KNeighborsClassifier"
   ]
  },
  {
   "cell_type": "code",
   "outputs": [
    {
     "name": "stdout",
     "output_type": "stream",
     "text": [
      "   Comprimento  Peso  Idade Classe\n",
      "0         0.00   114     36      M\n",
      "1        25.40    68     34      F\n",
      "2         5.08    40     10      M\n",
      "3        15.24    35      8      F\n",
      "4        10.16     9      1      F\n",
      "5         2.54    77     70      M\n",
      "6        20.32    72     41      F\n",
      "7        25.40    81     38      M\n",
      "8        15.24    90     45      M\n"
     ]
    }
   ],
   "source": [
    "# Carregando os dados\n",
    "\n",
    "df_simpsons = pd.read_excel(\"calvos.xlsx\", header=0)\n",
    "df_novo = pd.read_excel(\"comic.xlsx\", header=0)\n",
    "\n",
    "# Visualizando os dados\n",
    "print(df_simpsons)"
   ],
   "metadata": {
    "collapsed": false,
    "ExecuteTime": {
     "end_time": "2024-03-30T15:09:51.034895Z",
     "start_time": "2024-03-30T15:09:50.988463Z"
    }
   },
   "id": "b0b8ecc3fca3d9be",
   "execution_count": 25
  },
  {
   "cell_type": "code",
   "outputs": [
    {
     "name": "stdout",
     "output_type": "stream",
     "text": [
      "   Comprimento  Peso  Idade\n",
      "0        20.32   131     38\n"
     ]
    }
   ],
   "source": [
    "print(df_novo)"
   ],
   "metadata": {
    "collapsed": false,
    "ExecuteTime": {
     "end_time": "2024-03-30T15:09:51.039692Z",
     "start_time": "2024-03-30T15:09:51.035898Z"
    }
   },
   "id": "cf1d6938b472ee1f",
   "execution_count": 26
  },
  {
   "cell_type": "code",
   "outputs": [],
   "source": [
    " # Treinando o modelo\n",
    "X = df_simpsons.drop(columns=[\"Classe\"]) # Excluimos a coluna classe, pois ela é o que queremos prever"
   ],
   "metadata": {
    "collapsed": false,
    "ExecuteTime": {
     "end_time": "2024-03-30T15:09:51.046499Z",
     "start_time": "2024-03-30T15:09:51.040694Z"
    }
   },
   "id": "d11f8f9888c101e8",
   "execution_count": 27
  },
  {
   "cell_type": "code",
   "outputs": [],
   "source": [
    "y = df_simpsons[\"Classe\"] # A classe é o que queremos prever (target)"
   ],
   "metadata": {
    "collapsed": false,
    "ExecuteTime": {
     "end_time": "2024-03-30T15:09:51.053053Z",
     "start_time": "2024-03-30T15:09:51.048494Z"
    }
   },
   "id": "5a9e3490b5afb541",
   "execution_count": 28
  },
  {
   "cell_type": "code",
   "outputs": [
    {
     "name": "stdout",
     "output_type": "stream",
     "text": [
      "Modelo treinado com sucesso!\n",
      "KNeighborsClassifier(n_neighbors=3)\n",
      "Classe do novo dado:  ['M']\n"
     ]
    }
   ],
   "source": [
    "knn = KNeighborsClassifier(n_neighbors=3) # Instanciando o modelo com 3 vizinhos mais próximos (k=3) \n",
    "knn.fit(X,y) # O fit é o método que treina o modelo com os dados de treino (X,y)\n",
    "print(\"Modelo treinado com sucesso!\")\n",
    "print(knn)\n",
    "\n",
    "saida = knn.predict(df_novo) # O predict é o método que prevê a classe de novos dados (df_novo)\n",
    "print(\"Classe do novo dado: \", saida) # Exibindo a classe prevista\n"
   ],
   "metadata": {
    "collapsed": false,
    "ExecuteTime": {
     "end_time": "2024-03-30T15:09:51.064139Z",
     "start_time": "2024-03-30T15:09:51.054044Z"
    }
   },
   "id": "688efbfcc5c2d690",
   "execution_count": 29
  },
  {
   "cell_type": "code",
   "outputs": [
    {
     "name": "stdout",
     "output_type": "stream",
     "text": [
      "(array([[26.56882384, 41.90234361, 50.25740144]]), array([[0, 8, 7]], dtype=int64))\n"
     ]
    }
   ],
   "source": [
    "print(knn.kneighbors(df_novo))"
   ],
   "metadata": {
    "collapsed": false,
    "ExecuteTime": {
     "end_time": "2024-03-30T15:09:51.070182Z",
     "start_time": "2024-03-30T15:09:51.065141Z"
    }
   },
   "id": "da841ffd050e83ac",
   "execution_count": 30
  },
  {
   "cell_type": "code",
   "outputs": [
    {
     "name": "stdout",
     "output_type": "stream",
     "text": [
      "  (0, 0)\t1.0\n",
      "  (0, 8)\t1.0\n",
      "  (0, 7)\t1.0\n"
     ]
    }
   ],
   "source": [
    "print(knn.kneighbors_graph(df_novo)) # isso é um grafo de vizinhos mais próximos (não é muito útil), parece que mexe com pesos"
   ],
   "metadata": {
    "collapsed": false,
    "ExecuteTime": {
     "end_time": "2024-03-30T15:09:51.077974Z",
     "start_time": "2024-03-30T15:09:51.071184Z"
    }
   },
   "id": "4240ae6bd4280268",
   "execution_count": 31
  }
 ],
 "metadata": {
  "kernelspec": {
   "display_name": "Python 3",
   "language": "python",
   "name": "python3"
  },
  "language_info": {
   "codemirror_mode": {
    "name": "ipython",
    "version": 2
   },
   "file_extension": ".py",
   "mimetype": "text/x-python",
   "name": "python",
   "nbconvert_exporter": "python",
   "pygments_lexer": "ipython2",
   "version": "2.7.6"
  }
 },
 "nbformat": 4,
 "nbformat_minor": 5
}
