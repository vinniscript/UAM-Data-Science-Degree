{
 "cells": [
  {
   "cell_type": "code",
   "outputs": [],
   "source": [
    "import mysql.connector"
   ],
   "metadata": {
    "collapsed": false,
    "ExecuteTime": {
     "end_time": "2024-03-08T22:33:36.562095Z",
     "start_time": "2024-03-08T22:33:36.508699Z"
    }
   },
   "id": "aadd1ec101bee0ba",
   "execution_count": 1
  },
  {
   "cell_type": "code",
   "outputs": [],
   "source": [
    "conn = mysql.connector.connect(host='localhost', database='loja', user='root', password='')"
   ],
   "metadata": {
    "collapsed": false,
    "ExecuteTime": {
     "end_time": "2024-03-08T22:35:18.218611Z",
     "start_time": "2024-03-08T22:35:18.214097Z"
    }
   },
   "id": "db5d05fb8db56cc0",
   "execution_count": 3
  },
  {
   "cell_type": "code",
   "outputs": [
    {
     "name": "stdout",
     "output_type": "stream",
     "text": [
      "Conectado ao MySQL\n"
     ]
    }
   ],
   "source": [
    "if conn.is_connected():\n",
    "    print('Conectado ao MySQL')"
   ],
   "metadata": {
    "collapsed": false,
    "ExecuteTime": {
     "end_time": "2024-03-08T22:35:41.963817Z",
     "start_time": "2024-03-08T22:35:41.960313Z"
    }
   },
   "id": "bb909411035608c3",
   "execution_count": 4
  },
  {
   "cell_type": "code",
   "outputs": [],
   "source": [
    "cursor = conn.cursor()"
   ],
   "metadata": {
    "collapsed": false,
    "ExecuteTime": {
     "end_time": "2024-03-08T22:35:52.412116Z",
     "start_time": "2024-03-08T22:35:52.409072Z"
    }
   },
   "id": "b4f7aa1ba0513d65",
   "execution_count": 5
  },
  {
   "cell_type": "code",
   "outputs": [],
   "source": [],
   "metadata": {
    "collapsed": false
   },
   "id": "b466e115c80775b4"
  }
 ],
 "metadata": {
  "kernelspec": {
   "display_name": "Python 3",
   "language": "python",
   "name": "python3"
  },
  "language_info": {
   "codemirror_mode": {
    "name": "ipython",
    "version": 2
   },
   "file_extension": ".py",
   "mimetype": "text/x-python",
   "name": "python",
   "nbconvert_exporter": "python",
   "pygments_lexer": "ipython2",
   "version": "2.7.6"
  }
 },
 "nbformat": 4,
 "nbformat_minor": 5
}
