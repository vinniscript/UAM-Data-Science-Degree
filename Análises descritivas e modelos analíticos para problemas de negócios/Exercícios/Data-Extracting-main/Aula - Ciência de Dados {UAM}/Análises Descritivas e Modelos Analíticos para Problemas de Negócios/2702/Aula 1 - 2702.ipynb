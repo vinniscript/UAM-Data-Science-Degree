{
 "cells": [
  {
   "cell_type": "code",
   "execution_count": null,
   "metadata": {},
   "outputs": [],
   "source": [
    "# Importando a biblicote pandas\n",
    "\n",
    "import pandas as pd   "
   ]
  },
  {
   "cell_type": "code",
   "execution_count": null,
   "metadata": {},
   "outputs": [],
   "source": [
    "# Lendo o arquivo csv e armazenando os dados em um DataFrame\n",
    "\n",
    "df_lenses = pd.read_csv('lenses.csv', header= None)\n",
    "df_lenses"
   ]
  },
  {
   "cell_type": "code",
   "execution_count": null,
   "metadata": {},
   "outputs": [],
   "source": [
    "# Criar indices de colunas\n",
    "\n",
    "colunas = ['indice', 'idade', 'oculos', 'astigmatismo', 'taxa_lagrimas', 'classe']\n",
    "df_lenses.columns = colunas\n",
    "df_lenses.head()"
   ]
  },
  {
   "cell_type": "code",
   "execution_count": null,
   "metadata": {},
   "outputs": [],
   "source": [
    "# Remover a coluna indice\n",
    "\n",
    "df_lenses.drop(columns = ['indice'], inplace=True) # Esse Inplace é para que a alteração seja feita no próprio dataframe. Data frame é um objeto mutável. Isso aí que você consegue ver logo abaixo\n",
    "df_lenses.head()"
   ]
  },
  {
   "cell_type": "code",
   "execution_count": null,
   "metadata": {},
   "outputs": [],
   "source": [
    "# alterar os valores das variaveis\n",
    "df_lenses['idade_txt'] = df_lenses['idade'].map({1:'young', 2:'pre-presbyopic', 3:'presbyopic'})\n",
    "\n",
    "df_lenses['oculos_txt'] = df_lenses['oculos'].map({1:'myope', 2:'hypermetrope'})\n",
    "\n",
    "df_lenses['astigmatismo_txt'] = df_lenses['astigmatismo'].map({1:'no', 2:'yes'})\n",
    "\n",
    "df_lenses['taxa_Lagrimas_txt'] = df_lenses['taxa_lagrimas'].map({1:'reduced', 2:'normal'})\n",
    "\n",
    "df_lenses['classe_txt'] = df_lenses['classe'].map({1:'hard lenses', 2:'soft lenses', 3:'no lenses'})"
   ]
  },
  {
   "cell_type": "code",
   "execution_count": null,
   "metadata": {},
   "outputs": [],
   "source": [
    "# Label Econding\n",
    "\n",
    "from sklearn.preprocessing import LabelEncoder\n",
    "\n",
    "encoder = LabelEncoder()\n"
   ]
  },
  {
   "cell_type": "code",
   "execution_count": null,
   "metadata": {},
   "outputs": [],
   "source": [
    "# Desfazendo a transformação apenas da idade e comparando com a label enconding.\n",
    "\n",
    "df_lenses['idade_txt'] = encoder.inverse_transform(df_lenses['idade_txt'])\n",
    "df_lenses[['idade_txt', 'idade']]"
   ]
  },
  {
   "cell_type": "markdown",
   "source": [
    "# One Hot Enconding faz uma codificação de uma variável categórica, preferencialmente nomial, onde cada possível valor da variável torna-se uma coluna.\n",
    "# O valor categórico da linha, na coluna respectiva, fica com valor 1 e as demais colunas codificadas ficam com valor 0."
   ],
   "metadata": {
    "collapsed": false
   }
  },
  {
   "cell_type": "markdown",
   "source": [],
   "metadata": {
    "collapsed": false
   }
  },
  {
   "cell_type": "code",
   "outputs": [],
   "source": [
    "from sklearn.preprocessing import OneHotEncoder"
   ],
   "metadata": {
    "collapsed": false
   },
   "execution_count": null
  },
  {
   "cell_type": "code",
   "outputs": [],
   "source": [
    "ohe = OneHotEncoder()\n",
    "ohe.fit(df_lenses[['idade_txt']]) # 2 Colchetes para que o resultado seja um dataframe e não uma série.\n",
    "# Séries são unidimensionais, dataframes são bidimensionais. Isso significa que uma série é uma coluna de um dataframe.\n",
    "df_encoded = ohe.transform(df_lenses[['idade_txt']])\n",
    "df_encoded\n"
   ],
   "metadata": {
    "collapsed": false
   },
   "execution_count": null
  },
  {
   "cell_type": "code",
   "outputs": [],
   "source": [
    "df_encoded = pd.DataFrame(df_encoded.toarray(), columns= ohe.get_feature_names_out(['idade_txt']))\n",
    "df_encoded"
   ],
   "metadata": {
    "collapsed": false
   },
   "execution_count": null
  },
  {
   "cell_type": "code",
   "outputs": [],
   "source": [
    "df_ohe = pd.concat([df_lenses, df_encoded], axis=1)\n",
    "df_ohe"
   ],
   "metadata": {
    "collapsed": false
   },
   "execution_count": null
  },
  {
   "cell_type": "code",
   "outputs": [],
   "source": [
    "df_lenses.shape"
   ],
   "metadata": {
    "collapsed": false
   },
   "execution_count": null
  },
  {
   "cell_type": "code",
   "outputs": [],
   "source": [
    "ohe2 = OneHotEncoder(handle_unknown='ignore', sparse_output = False)"
   ],
   "metadata": {
    "collapsed": false
   },
   "execution_count": null
  },
  {
   "cell_type": "code",
   "outputs": [],
   "source": [
    "ohe2.fit(df_lenses[['oculos_txt']])\n",
    "df_encoded = ohe2.transform(df_lenses[['oculos_txt']])\n",
    "df_encoded"
   ],
   "metadata": {
    "collapsed": false
   },
   "execution_count": null
  },
  {
   "cell_type": "code",
   "outputs": [],
   "source": [
    "df_encoded = pd.DataFrame(df_encoded, columns= ohe2.get_feature_names_out(['oculos_txt']))\n",
    "df_encoded"
   ],
   "metadata": {
    "collapsed": false
   },
   "execution_count": null
  },
  {
   "cell_type": "code",
   "outputs": [],
   "source": [
    "df_ohe2 = pd.concat([df_ohe, df_encoded], axis=1)\n",
    "df_ohe2"
   ],
   "metadata": {
    "collapsed": false
   },
   "execution_count": null
  },
  {
   "cell_type": "markdown",
   "source": [
    "1- Quando usar o Label Encoder e o One Hot Encoder? - Label Encoder para variáveis ordinais e One Hot Encoder para variáveis nominais.\n",
    "2 - Quais são os problemas ao se utilizar o One Hot Encoder? - multicolinaridade\n",
    "\n",
    "Multicolinearidade - Ridge\n",
    "\n",
    "Dummies"
   ],
   "metadata": {
    "collapsed": false
   }
  },
  {
   "cell_type": "markdown",
   "source": [
    "### Variaveis Dummies"
   ],
   "metadata": {
    "collapsed": false
   }
  },
  {
   "cell_type": "code",
   "outputs": [],
   "source": [
    "import numpy as np"
   ],
   "metadata": {
    "collapsed": false
   },
   "execution_count": null
  },
  {
   "cell_type": "code",
   "outputs": [],
   "source": [
    "#idade_txt\n",
    "df_dummies = pd.get_dummies(df_lenses['idade_txt'], prefix= 'idade', dtype = np.float64, drop_first= True) # Transforma a variável categórica em variáveis dummies, ou seja 0 e 1. Booleano\n",
    "df_dummies"
   ],
   "metadata": {
    "collapsed": false
   },
   "execution_count": null
  },
  {
   "cell_type": "code",
   "outputs": [],
   "source": [
    "df_dummies = pd.concat([df_lenses, df_dummies], axis=1)\n",
    "df_dummies"
   ],
   "metadata": {
    "collapsed": false
   },
   "execution_count": null
  }
 ],
 "metadata": {
  "kernelspec": {
   "display_name": "base",
   "language": "python",
   "name": "python3"
  },
  "language_info": {
   "codemirror_mode": {
    "name": "ipython",
    "version": 3
   },
   "file_extension": ".py",
   "mimetype": "text/x-python",
   "name": "python",
   "nbconvert_exporter": "python",
   "pygments_lexer": "ipython3",
   "version": "0.0.0"
  }
 },
 "nbformat": 4,
 "nbformat_minor": 2
}
