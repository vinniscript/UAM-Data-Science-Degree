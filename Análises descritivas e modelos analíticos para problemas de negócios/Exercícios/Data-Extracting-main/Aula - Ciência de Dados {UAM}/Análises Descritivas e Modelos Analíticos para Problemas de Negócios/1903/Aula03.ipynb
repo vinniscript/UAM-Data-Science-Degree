{
 "cells": [
  {
   "cell_type": "code",
   "execution_count": 41,
   "id": "initial_id",
   "metadata": {
    "collapsed": true,
    "ExecuteTime": {
     "end_time": "2024-03-19T23:55:15.578300Z",
     "start_time": "2024-03-19T23:55:15.575477Z"
    }
   },
   "outputs": [],
   "source": [
    "import pandas as pd"
   ]
  },
  {
   "cell_type": "code",
   "outputs": [
    {
     "data": {
      "text/plain": "     0  1  2  3  4  5\n0    1  1  1  1  1  3\n1    2  1  1  1  2  2\n2    3  1  1  2  1  3\n3    4  1  1  2  2  1\n4    5  1  2  1  1  3\n5    6  1  2  1  2  2\n6    7  1  2  2  1  3\n7    8  1  2  2  2  1\n8    9  2  1  1  1  3\n9   10  2  1  1  2  2\n10  11  2  1  2  1  3\n11  12  2  1  2  2  1\n12  13  2  2  1  1  3\n13  14  2  2  1  2  2\n14  15  2  2  2  1  3\n15  16  2  2  2  2  3\n16  17  3  1  1  1  3\n17  18  3  1  1  2  3\n18  19  3  1  2  1  3\n19  20  3  1  2  2  1\n20  21  3  2  1  1  3\n21  22  3  2  1  2  2\n22  23  3  2  2  1  3\n23  24  3  2  2  2  3",
      "text/html": "<div>\n<style scoped>\n    .dataframe tbody tr th:only-of-type {\n        vertical-align: middle;\n    }\n\n    .dataframe tbody tr th {\n        vertical-align: top;\n    }\n\n    .dataframe thead th {\n        text-align: right;\n    }\n</style>\n<table border=\"1\" class=\"dataframe\">\n  <thead>\n    <tr style=\"text-align: right;\">\n      <th></th>\n      <th>0</th>\n      <th>1</th>\n      <th>2</th>\n      <th>3</th>\n      <th>4</th>\n      <th>5</th>\n    </tr>\n  </thead>\n  <tbody>\n    <tr>\n      <th>0</th>\n      <td>1</td>\n      <td>1</td>\n      <td>1</td>\n      <td>1</td>\n      <td>1</td>\n      <td>3</td>\n    </tr>\n    <tr>\n      <th>1</th>\n      <td>2</td>\n      <td>1</td>\n      <td>1</td>\n      <td>1</td>\n      <td>2</td>\n      <td>2</td>\n    </tr>\n    <tr>\n      <th>2</th>\n      <td>3</td>\n      <td>1</td>\n      <td>1</td>\n      <td>2</td>\n      <td>1</td>\n      <td>3</td>\n    </tr>\n    <tr>\n      <th>3</th>\n      <td>4</td>\n      <td>1</td>\n      <td>1</td>\n      <td>2</td>\n      <td>2</td>\n      <td>1</td>\n    </tr>\n    <tr>\n      <th>4</th>\n      <td>5</td>\n      <td>1</td>\n      <td>2</td>\n      <td>1</td>\n      <td>1</td>\n      <td>3</td>\n    </tr>\n    <tr>\n      <th>5</th>\n      <td>6</td>\n      <td>1</td>\n      <td>2</td>\n      <td>1</td>\n      <td>2</td>\n      <td>2</td>\n    </tr>\n    <tr>\n      <th>6</th>\n      <td>7</td>\n      <td>1</td>\n      <td>2</td>\n      <td>2</td>\n      <td>1</td>\n      <td>3</td>\n    </tr>\n    <tr>\n      <th>7</th>\n      <td>8</td>\n      <td>1</td>\n      <td>2</td>\n      <td>2</td>\n      <td>2</td>\n      <td>1</td>\n    </tr>\n    <tr>\n      <th>8</th>\n      <td>9</td>\n      <td>2</td>\n      <td>1</td>\n      <td>1</td>\n      <td>1</td>\n      <td>3</td>\n    </tr>\n    <tr>\n      <th>9</th>\n      <td>10</td>\n      <td>2</td>\n      <td>1</td>\n      <td>1</td>\n      <td>2</td>\n      <td>2</td>\n    </tr>\n    <tr>\n      <th>10</th>\n      <td>11</td>\n      <td>2</td>\n      <td>1</td>\n      <td>2</td>\n      <td>1</td>\n      <td>3</td>\n    </tr>\n    <tr>\n      <th>11</th>\n      <td>12</td>\n      <td>2</td>\n      <td>1</td>\n      <td>2</td>\n      <td>2</td>\n      <td>1</td>\n    </tr>\n    <tr>\n      <th>12</th>\n      <td>13</td>\n      <td>2</td>\n      <td>2</td>\n      <td>1</td>\n      <td>1</td>\n      <td>3</td>\n    </tr>\n    <tr>\n      <th>13</th>\n      <td>14</td>\n      <td>2</td>\n      <td>2</td>\n      <td>1</td>\n      <td>2</td>\n      <td>2</td>\n    </tr>\n    <tr>\n      <th>14</th>\n      <td>15</td>\n      <td>2</td>\n      <td>2</td>\n      <td>2</td>\n      <td>1</td>\n      <td>3</td>\n    </tr>\n    <tr>\n      <th>15</th>\n      <td>16</td>\n      <td>2</td>\n      <td>2</td>\n      <td>2</td>\n      <td>2</td>\n      <td>3</td>\n    </tr>\n    <tr>\n      <th>16</th>\n      <td>17</td>\n      <td>3</td>\n      <td>1</td>\n      <td>1</td>\n      <td>1</td>\n      <td>3</td>\n    </tr>\n    <tr>\n      <th>17</th>\n      <td>18</td>\n      <td>3</td>\n      <td>1</td>\n      <td>1</td>\n      <td>2</td>\n      <td>3</td>\n    </tr>\n    <tr>\n      <th>18</th>\n      <td>19</td>\n      <td>3</td>\n      <td>1</td>\n      <td>2</td>\n      <td>1</td>\n      <td>3</td>\n    </tr>\n    <tr>\n      <th>19</th>\n      <td>20</td>\n      <td>3</td>\n      <td>1</td>\n      <td>2</td>\n      <td>2</td>\n      <td>1</td>\n    </tr>\n    <tr>\n      <th>20</th>\n      <td>21</td>\n      <td>3</td>\n      <td>2</td>\n      <td>1</td>\n      <td>1</td>\n      <td>3</td>\n    </tr>\n    <tr>\n      <th>21</th>\n      <td>22</td>\n      <td>3</td>\n      <td>2</td>\n      <td>1</td>\n      <td>2</td>\n      <td>2</td>\n    </tr>\n    <tr>\n      <th>22</th>\n      <td>23</td>\n      <td>3</td>\n      <td>2</td>\n      <td>2</td>\n      <td>1</td>\n      <td>3</td>\n    </tr>\n    <tr>\n      <th>23</th>\n      <td>24</td>\n      <td>3</td>\n      <td>2</td>\n      <td>2</td>\n      <td>2</td>\n      <td>3</td>\n    </tr>\n  </tbody>\n</table>\n</div>"
     },
     "execution_count": 42,
     "metadata": {},
     "output_type": "execute_result"
    }
   ],
   "source": [
    "df_lenses = pd.read_csv('Lenses/lenses.csv', header= None)\n",
    "df_lenses"
   ],
   "metadata": {
    "collapsed": false,
    "ExecuteTime": {
     "end_time": "2024-03-19T23:55:15.598985Z",
     "start_time": "2024-03-19T23:55:15.590296Z"
    }
   },
   "id": "bd73adf1fb04a094",
   "execution_count": 42
  },
  {
   "cell_type": "code",
   "outputs": [
    {
     "data": {
      "text/plain": "   indice  idade  oculos  astigmatismo  taxa_lagrimas  classe\n0       1      1       1             1              1       3\n1       2      1       1             1              2       2\n2       3      1       1             2              1       3\n3       4      1       1             2              2       1\n4       5      1       2             1              1       3",
      "text/html": "<div>\n<style scoped>\n    .dataframe tbody tr th:only-of-type {\n        vertical-align: middle;\n    }\n\n    .dataframe tbody tr th {\n        vertical-align: top;\n    }\n\n    .dataframe thead th {\n        text-align: right;\n    }\n</style>\n<table border=\"1\" class=\"dataframe\">\n  <thead>\n    <tr style=\"text-align: right;\">\n      <th></th>\n      <th>indice</th>\n      <th>idade</th>\n      <th>oculos</th>\n      <th>astigmatismo</th>\n      <th>taxa_lagrimas</th>\n      <th>classe</th>\n    </tr>\n  </thead>\n  <tbody>\n    <tr>\n      <th>0</th>\n      <td>1</td>\n      <td>1</td>\n      <td>1</td>\n      <td>1</td>\n      <td>1</td>\n      <td>3</td>\n    </tr>\n    <tr>\n      <th>1</th>\n      <td>2</td>\n      <td>1</td>\n      <td>1</td>\n      <td>1</td>\n      <td>2</td>\n      <td>2</td>\n    </tr>\n    <tr>\n      <th>2</th>\n      <td>3</td>\n      <td>1</td>\n      <td>1</td>\n      <td>2</td>\n      <td>1</td>\n      <td>3</td>\n    </tr>\n    <tr>\n      <th>3</th>\n      <td>4</td>\n      <td>1</td>\n      <td>1</td>\n      <td>2</td>\n      <td>2</td>\n      <td>1</td>\n    </tr>\n    <tr>\n      <th>4</th>\n      <td>5</td>\n      <td>1</td>\n      <td>2</td>\n      <td>1</td>\n      <td>1</td>\n      <td>3</td>\n    </tr>\n  </tbody>\n</table>\n</div>"
     },
     "execution_count": 43,
     "metadata": {},
     "output_type": "execute_result"
    }
   ],
   "source": [
    "# Criar indices de colunas\n",
    "\n",
    "colunas = ['indice', 'idade', 'oculos', 'astigmatismo', 'taxa_lagrimas', 'classe']\n",
    "df_lenses.columns = colunas\n",
    "df_lenses.head()"
   ],
   "metadata": {
    "collapsed": false,
    "ExecuteTime": {
     "end_time": "2024-03-19T23:55:15.607292Z",
     "start_time": "2024-03-19T23:55:15.599975Z"
    }
   },
   "id": "b4a24ab50bcf90c",
   "execution_count": 43
  },
  {
   "cell_type": "code",
   "outputs": [
    {
     "data": {
      "text/plain": "   idade  oculos  astigmatismo  taxa_lagrimas  classe\n0      1       1             1              1       3\n1      1       1             1              2       2\n2      1       1             2              1       3\n3      1       1             2              2       1\n4      1       2             1              1       3",
      "text/html": "<div>\n<style scoped>\n    .dataframe tbody tr th:only-of-type {\n        vertical-align: middle;\n    }\n\n    .dataframe tbody tr th {\n        vertical-align: top;\n    }\n\n    .dataframe thead th {\n        text-align: right;\n    }\n</style>\n<table border=\"1\" class=\"dataframe\">\n  <thead>\n    <tr style=\"text-align: right;\">\n      <th></th>\n      <th>idade</th>\n      <th>oculos</th>\n      <th>astigmatismo</th>\n      <th>taxa_lagrimas</th>\n      <th>classe</th>\n    </tr>\n  </thead>\n  <tbody>\n    <tr>\n      <th>0</th>\n      <td>1</td>\n      <td>1</td>\n      <td>1</td>\n      <td>1</td>\n      <td>3</td>\n    </tr>\n    <tr>\n      <th>1</th>\n      <td>1</td>\n      <td>1</td>\n      <td>1</td>\n      <td>2</td>\n      <td>2</td>\n    </tr>\n    <tr>\n      <th>2</th>\n      <td>1</td>\n      <td>1</td>\n      <td>2</td>\n      <td>1</td>\n      <td>3</td>\n    </tr>\n    <tr>\n      <th>3</th>\n      <td>1</td>\n      <td>1</td>\n      <td>2</td>\n      <td>2</td>\n      <td>1</td>\n    </tr>\n    <tr>\n      <th>4</th>\n      <td>1</td>\n      <td>2</td>\n      <td>1</td>\n      <td>1</td>\n      <td>3</td>\n    </tr>\n  </tbody>\n</table>\n</div>"
     },
     "execution_count": 44,
     "metadata": {},
     "output_type": "execute_result"
    }
   ],
   "source": [
    "# Remover a coluna indice\n",
    "\n",
    "df_lenses.drop(columns = ['indice'], inplace=True) # Esse Inplace é para que a alteração seja feita no próprio dataframe. Data frame é um objeto mutável. Isso aí que você consegue ver logo abaixo\n",
    "df_lenses.head()"
   ],
   "metadata": {
    "collapsed": false,
    "ExecuteTime": {
     "end_time": "2024-03-19T23:55:15.617149Z",
     "start_time": "2024-03-19T23:55:15.608287Z"
    }
   },
   "id": "608044acdc78cdcc",
   "execution_count": 44
  },
  {
   "cell_type": "code",
   "outputs": [
    {
     "data": {
      "text/plain": "   idade  oculos  astigmatismo  taxa_lagrimas  classe idade_txt    oculos_txt  \\\n0      1       1             1              1       3     young         myope   \n1      1       1             1              2       2     young         myope   \n2      1       1             2              1       3     young         myope   \n3      1       1             2              2       1     young         myope   \n4      1       2             1              1       3     young  hypermetrope   \n\n  astigmatismo_txt taxa_Lagrimas_txt classe_txt  \n0               no           reduced         no  \n1               no            normal       soft  \n2              yes           reduced         no  \n3              yes            normal       hard  \n4               no           reduced         no  ",
      "text/html": "<div>\n<style scoped>\n    .dataframe tbody tr th:only-of-type {\n        vertical-align: middle;\n    }\n\n    .dataframe tbody tr th {\n        vertical-align: top;\n    }\n\n    .dataframe thead th {\n        text-align: right;\n    }\n</style>\n<table border=\"1\" class=\"dataframe\">\n  <thead>\n    <tr style=\"text-align: right;\">\n      <th></th>\n      <th>idade</th>\n      <th>oculos</th>\n      <th>astigmatismo</th>\n      <th>taxa_lagrimas</th>\n      <th>classe</th>\n      <th>idade_txt</th>\n      <th>oculos_txt</th>\n      <th>astigmatismo_txt</th>\n      <th>taxa_Lagrimas_txt</th>\n      <th>classe_txt</th>\n    </tr>\n  </thead>\n  <tbody>\n    <tr>\n      <th>0</th>\n      <td>1</td>\n      <td>1</td>\n      <td>1</td>\n      <td>1</td>\n      <td>3</td>\n      <td>young</td>\n      <td>myope</td>\n      <td>no</td>\n      <td>reduced</td>\n      <td>no</td>\n    </tr>\n    <tr>\n      <th>1</th>\n      <td>1</td>\n      <td>1</td>\n      <td>1</td>\n      <td>2</td>\n      <td>2</td>\n      <td>young</td>\n      <td>myope</td>\n      <td>no</td>\n      <td>normal</td>\n      <td>soft</td>\n    </tr>\n    <tr>\n      <th>2</th>\n      <td>1</td>\n      <td>1</td>\n      <td>2</td>\n      <td>1</td>\n      <td>3</td>\n      <td>young</td>\n      <td>myope</td>\n      <td>yes</td>\n      <td>reduced</td>\n      <td>no</td>\n    </tr>\n    <tr>\n      <th>3</th>\n      <td>1</td>\n      <td>1</td>\n      <td>2</td>\n      <td>2</td>\n      <td>1</td>\n      <td>young</td>\n      <td>myope</td>\n      <td>yes</td>\n      <td>normal</td>\n      <td>hard</td>\n    </tr>\n    <tr>\n      <th>4</th>\n      <td>1</td>\n      <td>2</td>\n      <td>1</td>\n      <td>1</td>\n      <td>3</td>\n      <td>young</td>\n      <td>hypermetrope</td>\n      <td>no</td>\n      <td>reduced</td>\n      <td>no</td>\n    </tr>\n  </tbody>\n</table>\n</div>"
     },
     "execution_count": 45,
     "metadata": {},
     "output_type": "execute_result"
    }
   ],
   "source": [
    "# alterar os valores das variaveis\n",
    "df_lenses['idade_txt'] = df_lenses['idade'].map({1:'young', 2:'pre-presbyopic', 3:'presbyopic'})\n",
    "df_lenses['oculos_txt'] = df_lenses['oculos'].map({1:'myope', 2:'hypermetrope'})\n",
    "df_lenses['astigmatismo_txt'] = df_lenses['astigmatismo'].map({1:'no', 2:'yes'})\n",
    "df_lenses['taxa_Lagrimas_txt'] = df_lenses['taxa_lagrimas'].map({1:'reduced', 2:'normal'})\n",
    "df_lenses['classe_txt'] = df_lenses['classe'].map({1:'hard', 2:'soft', 3:'no'})\n",
    "\n",
    "df_lenses.head()"
   ],
   "metadata": {
    "collapsed": false,
    "ExecuteTime": {
     "end_time": "2024-03-19T23:55:15.631092Z",
     "start_time": "2024-03-19T23:55:15.618146Z"
    }
   },
   "id": "b8d246e6dfd94191",
   "execution_count": 45
  },
  {
   "cell_type": "code",
   "outputs": [],
   "source": [
    "from sklearn.preprocessing import TargetEncoder\n",
    "import category_encoders as ce # Esse é um pacote que tem um monte de codificadores de variáveis categóricas"
   ],
   "metadata": {
    "collapsed": false,
    "ExecuteTime": {
     "end_time": "2024-03-19T23:55:15.638097Z",
     "start_time": "2024-03-19T23:55:15.632089Z"
    }
   },
   "id": "16c022213e6643a8",
   "execution_count": 46
  },
  {
   "cell_type": "code",
   "outputs": [],
   "source": [
    "target_encoding = ce.TargetEncoder(cols=['taxa_Lagrimas_txt']) # Aqui eu estou criando um objeto do tipo TargetEncoder. O parâmetro cols é para dizer quais colunas eu quero codificar\n",
    "\n",
    "# O target_encoding armazena a relação entre a variável que eu quero codificar e a variável resposta, ou seja, ele armazena a média da variável resposta para cada valor da variável que eu quero codificar.\n",
    "\n",
    "# Somamos todas as variáveis resposta para cada valor da variável que eu quero codificar e dividimos pelo número de vezes que cada valor aparece. Isso é a média da variável resposta para cada valor da variável que eu quero codificar.\n",
    "\n",
    "target_encoding.fit(df_lenses['taxa_Lagrimas_txt'], df_lenses['classe']) # Aqui eu estou treinando o codificador. O primeiro parâmetro é a variável que eu quero codificar e o segundo é a variável resposta\n",
    "\n",
    "novo_valor = target_encoding.transform(df_lenses[['taxa_Lagrimas_txt']]) # Aqui eu estou aplicando a transformação. O parâmetro é a variável que eu quero codificar\n"
   ],
   "metadata": {
    "collapsed": false,
    "ExecuteTime": {
     "end_time": "2024-03-20T00:07:55.486Z",
     "start_time": "2024-03-20T00:07:55.474984Z"
    }
   },
   "id": "31fb3fb0475ecb9",
   "execution_count": 55
  },
  {
   "cell_type": "code",
   "outputs": [
    {
     "data": {
      "text/plain": "classe_txt\nno      15\nsoft     5\nhard     4\nName: count, dtype: int64"
     },
     "execution_count": 62,
     "metadata": {},
     "output_type": "execute_result"
    }
   ],
   "source": [
    "df_target = pd.concat([df_lenses, novo_valor], axis=1)\n",
    "df_lenses['classe_txt'].value_counts()\n"
   ],
   "metadata": {
    "collapsed": false,
    "ExecuteTime": {
     "end_time": "2024-03-20T00:11:57.172494Z",
     "start_time": "2024-03-20T00:11:57.167826Z"
    }
   },
   "id": "3a3656bc77b7554b",
   "execution_count": 62
  },
  {
   "cell_type": "code",
   "outputs": [],
   "source": [
    "df_target"
   ],
   "metadata": {
    "collapsed": false
   },
   "id": "c2961b5c7d49042c"
  }
 ],
 "metadata": {
  "kernelspec": {
   "display_name": "Python 3",
   "language": "python",
   "name": "python3"
  },
  "language_info": {
   "codemirror_mode": {
    "name": "ipython",
    "version": 2
   },
   "file_extension": ".py",
   "mimetype": "text/x-python",
   "name": "python",
   "nbconvert_exporter": "python",
   "pygments_lexer": "ipython2",
   "version": "2.7.6"
  }
 },
 "nbformat": 4,
 "nbformat_minor": 5
}
