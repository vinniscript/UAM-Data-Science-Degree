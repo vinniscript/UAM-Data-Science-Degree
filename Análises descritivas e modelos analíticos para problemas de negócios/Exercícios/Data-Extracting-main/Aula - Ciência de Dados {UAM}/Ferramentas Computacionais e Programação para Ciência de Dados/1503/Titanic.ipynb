{
 "cells": [
  {
   "cell_type": "code",
   "execution_count": 3,
   "id": "initial_id",
   "metadata": {
    "collapsed": true,
    "ExecuteTime": {
     "end_time": "2024-03-22T16:00:47.144124Z",
     "start_time": "2024-03-22T16:00:47.140482Z"
    }
   },
   "outputs": [],
   "source": [
    "import pandas as pd\n",
    "import seaborn as sns\n",
    "import matplotlib.pyplot as plt"
   ]
  },
  {
   "cell_type": "code",
   "outputs": [],
   "source": [
    "titanic = pd.read_csv(\"https://raw.githubusercontent.com/ppnp-remoto/14-datasets/master/titanic.csv\")\n",
    "#titanic.head() Traz um resumo dos primeiros resultados do DataFrame"
   ],
   "metadata": {
    "collapsed": false,
    "ExecuteTime": {
     "end_time": "2024-03-22T16:00:47.392538Z",
     "start_time": "2024-03-22T16:00:47.146126Z"
    }
   },
   "id": "9027c3cd81b4fcbe",
   "execution_count": 4
  },
  {
   "cell_type": "markdown",
   "source": [
    "# PERGUNTAS\n",
    "\n",
    "    * Quantas pessoas tinham apartir de 50 anos?\n",
    "\n",
    "    * Quantas pessoas eram menores de idade?\n",
    "\n",
    "    * Quantos sobreviventes por sexo?\n"
   ],
   "metadata": {
    "collapsed": false
   },
   "id": "e09859b72e7c3b49"
  },
  {
   "cell_type": "markdown",
   "source": [],
   "metadata": {
    "collapsed": false
   },
   "id": "47e383eaa84161ff"
  },
  {
   "cell_type": "code",
   "outputs": [
    {
     "data": {
      "text/plain": "     PassengerId  Survived  Pclass  \\\n6              7         0       1   \n11            12         1       1   \n15            16         1       2   \n33            34         0       2   \n54            55         0       1   \n..           ...       ...     ...   \n820          821         1       1   \n829          830         1       1   \n851          852         0       3   \n857          858         1       1   \n879          880         1       1   \n\n                                                  Name     Sex   Age  SibSp  \\\n6                              McCarthy, Mr. Timothy J    male  54.0      0   \n11                            Bonnell, Miss. Elizabeth  female  58.0      0   \n15                    Hewlett, Mrs. (Mary D Kingcome)   female  55.0      0   \n33                               Wheadon, Mr. Edward H    male  66.0      0   \n54                      Ostby, Mr. Engelhart Cornelius    male  65.0      0   \n..                                                 ...     ...   ...    ...   \n820  Hays, Mrs. Charles Melville (Clara Jennings Gr...  female  52.0      1   \n829          Stone, Mrs. George Nelson (Martha Evelyn)  female  62.0      0   \n851                                Svensson, Mr. Johan    male  74.0      0   \n857                             Daly, Mr. Peter Denis     male  51.0      0   \n879      Potter, Mrs. Thomas Jr (Lily Alexenia Wilson)  female  56.0      0   \n\n     Parch      Ticket     Fare Cabin Embarked  \n6        0       17463  51.8625   E46        S  \n11       0      113783  26.5500  C103        S  \n15       0      248706  16.0000   NaN        S  \n33       0  C.A. 24579  10.5000   NaN        S  \n54       1      113509  61.9792   B30        C  \n..     ...         ...      ...   ...      ...  \n820      1       12749  93.5000   B69        S  \n829      0      113572  80.0000   B28      NaN  \n851      0      347060   7.7750   NaN        S  \n857      0      113055  26.5500   E17        S  \n879      1       11767  83.1583   C50        C  \n\n[64 rows x 12 columns]",
      "text/html": "<div>\n<style scoped>\n    .dataframe tbody tr th:only-of-type {\n        vertical-align: middle;\n    }\n\n    .dataframe tbody tr th {\n        vertical-align: top;\n    }\n\n    .dataframe thead th {\n        text-align: right;\n    }\n</style>\n<table border=\"1\" class=\"dataframe\">\n  <thead>\n    <tr style=\"text-align: right;\">\n      <th></th>\n      <th>PassengerId</th>\n      <th>Survived</th>\n      <th>Pclass</th>\n      <th>Name</th>\n      <th>Sex</th>\n      <th>Age</th>\n      <th>SibSp</th>\n      <th>Parch</th>\n      <th>Ticket</th>\n      <th>Fare</th>\n      <th>Cabin</th>\n      <th>Embarked</th>\n    </tr>\n  </thead>\n  <tbody>\n    <tr>\n      <th>6</th>\n      <td>7</td>\n      <td>0</td>\n      <td>1</td>\n      <td>McCarthy, Mr. Timothy J</td>\n      <td>male</td>\n      <td>54.0</td>\n      <td>0</td>\n      <td>0</td>\n      <td>17463</td>\n      <td>51.8625</td>\n      <td>E46</td>\n      <td>S</td>\n    </tr>\n    <tr>\n      <th>11</th>\n      <td>12</td>\n      <td>1</td>\n      <td>1</td>\n      <td>Bonnell, Miss. Elizabeth</td>\n      <td>female</td>\n      <td>58.0</td>\n      <td>0</td>\n      <td>0</td>\n      <td>113783</td>\n      <td>26.5500</td>\n      <td>C103</td>\n      <td>S</td>\n    </tr>\n    <tr>\n      <th>15</th>\n      <td>16</td>\n      <td>1</td>\n      <td>2</td>\n      <td>Hewlett, Mrs. (Mary D Kingcome)</td>\n      <td>female</td>\n      <td>55.0</td>\n      <td>0</td>\n      <td>0</td>\n      <td>248706</td>\n      <td>16.0000</td>\n      <td>NaN</td>\n      <td>S</td>\n    </tr>\n    <tr>\n      <th>33</th>\n      <td>34</td>\n      <td>0</td>\n      <td>2</td>\n      <td>Wheadon, Mr. Edward H</td>\n      <td>male</td>\n      <td>66.0</td>\n      <td>0</td>\n      <td>0</td>\n      <td>C.A. 24579</td>\n      <td>10.5000</td>\n      <td>NaN</td>\n      <td>S</td>\n    </tr>\n    <tr>\n      <th>54</th>\n      <td>55</td>\n      <td>0</td>\n      <td>1</td>\n      <td>Ostby, Mr. Engelhart Cornelius</td>\n      <td>male</td>\n      <td>65.0</td>\n      <td>0</td>\n      <td>1</td>\n      <td>113509</td>\n      <td>61.9792</td>\n      <td>B30</td>\n      <td>C</td>\n    </tr>\n    <tr>\n      <th>...</th>\n      <td>...</td>\n      <td>...</td>\n      <td>...</td>\n      <td>...</td>\n      <td>...</td>\n      <td>...</td>\n      <td>...</td>\n      <td>...</td>\n      <td>...</td>\n      <td>...</td>\n      <td>...</td>\n      <td>...</td>\n    </tr>\n    <tr>\n      <th>820</th>\n      <td>821</td>\n      <td>1</td>\n      <td>1</td>\n      <td>Hays, Mrs. Charles Melville (Clara Jennings Gr...</td>\n      <td>female</td>\n      <td>52.0</td>\n      <td>1</td>\n      <td>1</td>\n      <td>12749</td>\n      <td>93.5000</td>\n      <td>B69</td>\n      <td>S</td>\n    </tr>\n    <tr>\n      <th>829</th>\n      <td>830</td>\n      <td>1</td>\n      <td>1</td>\n      <td>Stone, Mrs. George Nelson (Martha Evelyn)</td>\n      <td>female</td>\n      <td>62.0</td>\n      <td>0</td>\n      <td>0</td>\n      <td>113572</td>\n      <td>80.0000</td>\n      <td>B28</td>\n      <td>NaN</td>\n    </tr>\n    <tr>\n      <th>851</th>\n      <td>852</td>\n      <td>0</td>\n      <td>3</td>\n      <td>Svensson, Mr. Johan</td>\n      <td>male</td>\n      <td>74.0</td>\n      <td>0</td>\n      <td>0</td>\n      <td>347060</td>\n      <td>7.7750</td>\n      <td>NaN</td>\n      <td>S</td>\n    </tr>\n    <tr>\n      <th>857</th>\n      <td>858</td>\n      <td>1</td>\n      <td>1</td>\n      <td>Daly, Mr. Peter Denis</td>\n      <td>male</td>\n      <td>51.0</td>\n      <td>0</td>\n      <td>0</td>\n      <td>113055</td>\n      <td>26.5500</td>\n      <td>E17</td>\n      <td>S</td>\n    </tr>\n    <tr>\n      <th>879</th>\n      <td>880</td>\n      <td>1</td>\n      <td>1</td>\n      <td>Potter, Mrs. Thomas Jr (Lily Alexenia Wilson)</td>\n      <td>female</td>\n      <td>56.0</td>\n      <td>0</td>\n      <td>1</td>\n      <td>11767</td>\n      <td>83.1583</td>\n      <td>C50</td>\n      <td>C</td>\n    </tr>\n  </tbody>\n</table>\n<p>64 rows × 12 columns</p>\n</div>"
     },
     "execution_count": 5,
     "metadata": {},
     "output_type": "execute_result"
    }
   ],
   "source": [
    "# Quantas pessoas tinha mais de 50 anos?\n",
    "\n",
    "titanic[titanic.Age > 50]"
   ],
   "metadata": {
    "collapsed": false,
    "ExecuteTime": {
     "end_time": "2024-03-22T16:00:47.413227Z",
     "start_time": "2024-03-22T16:00:47.394528Z"
    }
   },
   "id": "38a35c2db33bca01",
   "execution_count": 5
  },
  {
   "cell_type": "code",
   "outputs": [],
   "source": [
    "# Pode-se fazer querys por aqui também.\n",
    "\n",
    "cinquentaMais = titanic.query(\"Age >= 50\")\n",
    "#cinquentaMais.PassengerId.count()"
   ],
   "metadata": {
    "collapsed": false,
    "ExecuteTime": {
     "end_time": "2024-03-22T16:00:47.420589Z",
     "start_time": "2024-03-22T16:00:47.414230Z"
    }
   },
   "id": "e7eb85d90183b8fe",
   "execution_count": 6
  },
  {
   "cell_type": "code",
   "outputs": [
    {
     "name": "stdout",
     "output_type": "stream",
     "text": [
      "Haviam 74 pessoas a partir de 50 anos abordo do Titanic.\n"
     ]
    }
   ],
   "source": [
    "print(f\"Haviam {titanic[titanic.Age >= 50].shape[0]} pessoas a partir de 50 anos abordo do Titanic.\")"
   ],
   "metadata": {
    "collapsed": false,
    "ExecuteTime": {
     "end_time": "2024-03-22T16:00:47.427535Z",
     "start_time": "2024-03-22T16:00:47.421592Z"
    }
   },
   "id": "163061dd6b0e92fe",
   "execution_count": 7
  },
  {
   "cell_type": "code",
   "outputs": [],
   "source": [
    "# Quantas pessoas eram menores de idade\n",
    "\n",
    "menoresIdade = titanic.query(\"Age < 18\")\n",
    "#menoresIdade.PassengerId.count()"
   ],
   "metadata": {
    "collapsed": false,
    "ExecuteTime": {
     "end_time": "2024-03-22T16:00:47.436102Z",
     "start_time": "2024-03-22T16:00:47.429539Z"
    }
   },
   "id": "5630f7b83058e980",
   "execution_count": 8
  },
  {
   "cell_type": "code",
   "outputs": [
    {
     "name": "stdout",
     "output_type": "stream",
     "text": [
      "Haviam 61 pessoas menores de idade sobreviventes à bordo do Titanic.\n"
     ]
    }
   ],
   "source": [
    "print(f\"Haviam {titanic[ (titanic.Age < 18) & (titanic.Survived == 1) ].shape[0]} pessoas menores de idade sobreviventes à bordo do Titanic.\")"
   ],
   "metadata": {
    "collapsed": false,
    "ExecuteTime": {
     "end_time": "2024-03-22T16:00:47.444561Z",
     "start_time": "2024-03-22T16:00:47.437105Z"
    }
   },
   "id": "5f77a080b9955a5d",
   "execution_count": 9
  },
  {
   "cell_type": "code",
   "outputs": [
    {
     "data": {
      "text/plain": "      Sex  Quantidade\n0  female          22\n1    male          52",
      "text/html": "<div>\n<style scoped>\n    .dataframe tbody tr th:only-of-type {\n        vertical-align: middle;\n    }\n\n    .dataframe tbody tr th {\n        vertical-align: top;\n    }\n\n    .dataframe thead th {\n        text-align: right;\n    }\n</style>\n<table border=\"1\" class=\"dataframe\">\n  <thead>\n    <tr style=\"text-align: right;\">\n      <th></th>\n      <th>Sex</th>\n      <th>Quantidade</th>\n    </tr>\n  </thead>\n  <tbody>\n    <tr>\n      <th>0</th>\n      <td>female</td>\n      <td>22</td>\n    </tr>\n    <tr>\n      <th>1</th>\n      <td>male</td>\n      <td>52</td>\n    </tr>\n  </tbody>\n</table>\n</div>"
     },
     "execution_count": 32,
     "metadata": {},
     "output_type": "execute_result"
    }
   ],
   "source": [
    "# Sobreviventes por sexo\n",
    "\n",
    "mais50 = cinquentaMais[['PassengerId', 'Sex']].groupby('Sex', as_index=False).count()\n",
    "# Renomear colunas com o método rename\n",
    "mais50.rename(columns={\"PassengerId\": \"Quantidade\"}, inplace=True)\n",
    "\n",
    "mais50\n"
   ],
   "metadata": {
    "collapsed": false,
    "ExecuteTime": {
     "end_time": "2024-03-22T16:18:27.798566Z",
     "start_time": "2024-03-22T16:18:27.790482Z"
    }
   },
   "id": "f91103801d713d2a",
   "execution_count": 32
  },
  {
   "cell_type": "code",
   "outputs": [
    {
     "data": {
      "text/plain": "<Figure size 640x480 with 1 Axes>",
      "image/png": "[encoded data removed]"
     },
     "metadata": {},
     "output_type": "display_data"
    }
   ],
   "source": [
    "sns.set(style=\"whitegrid\")\n",
    "sns.barplot(x=\"Sex\", y=\"Quantidade\", hue = 'Sex', data=mais50)\n",
    "plt.title(\"Sobreviventes por sexo\")\n",
    "plt.show()"
   ],
   "metadata": {
    "collapsed": false,
    "ExecuteTime": {
     "end_time": "2024-03-22T16:41:20.132725Z",
     "start_time": "2024-03-22T16:41:19.990954Z"
    }
   },
   "id": "b8eed2d8387774ee",
   "execution_count": 35
  },
  {
   "cell_type": "markdown",
   "source": [
    "# EXERCÍCIO\n",
    "\n",
    "    * Quantas pessoas sobreviveram por classe?\n"
   ],
   "metadata": {
    "collapsed": false
   },
   "id": "9af555e80350d259"
  },
  {
   "cell_type": "code",
   "outputs": [],
   "source": [
    "# Quantas pessoas sobreviveram por classe?\n",
    "\n",
    "survived = titanic.query('Survived == 1')\n",
    "survivedPerClass = survived[ [\"Pclass\", \"PassengerId\"] ].groupby(\"Pclass\", as_index=False).count()\n",
    "survivedPerClass.rename(columns={\"PassengerId\": \"Quantidade\"}, inplace=True)"
   ],
   "metadata": {
    "collapsed": false,
    "ExecuteTime": {
     "end_time": "2024-03-22T16:58:42.199991Z",
     "start_time": "2024-03-22T16:58:42.193025Z"
    }
   },
   "id": "29e937f76b3f3ada",
   "execution_count": 62
  },
  {
   "cell_type": "code",
   "outputs": [
    {
     "data": {
      "text/plain": "<Figure size 640x480 with 1 Axes>",
      "image/png": "[encoded data removed]"
     },
     "metadata": {},
     "output_type": "display_data"
    }
   ],
   "source": [
    "sns.barplot(x=\"Pclass\", y=\"Quantidade\", data=survivedPerClass)\n",
    "sns.set(style=\"whitegrid\")\n",
    "sns.set_palette(\"pastel\")"
   ],
   "metadata": {
    "collapsed": false,
    "ExecuteTime": {
     "end_time": "2024-03-22T16:58:42.853397Z",
     "start_time": "2024-03-22T16:58:42.738010Z"
    }
   },
   "id": "1385226f181413a9",
   "execution_count": 63
  },
  {
   "cell_type": "markdown",
   "source": [
    "# Exercício:\n",
    "\n",
    "* Escolher uma base de dados no IBGE ou qualquer outro lugar\n",
    "* Executar 3 diferentes consultas nesta base, e gerar um gráfico com pelo menos uma das consultas"
   ],
   "metadata": {
    "collapsed": false
   },
   "id": "b1f64e27e39ceb9d"
  },
  {
   "cell_type": "code",
   "outputs": [],
   "source": [],
   "metadata": {
    "collapsed": false
   },
   "id": "fd43cf6fda756a2c"
  }
 ],
 "metadata": {
  "kernelspec": {
   "display_name": "Python 3",
   "language": "python",
   "name": "python3"
  },
  "language_info": {
   "codemirror_mode": {
    "name": "ipython",
    "version": 2
   },
   "file_extension": ".py",
   "mimetype": "text/x-python",
   "name": "python",
   "nbconvert_exporter": "python",
   "pygments_lexer": "ipython2",
   "version": "2.7.6"
  }
 },
 "nbformat": 4,
 "nbformat_minor": 5
}
