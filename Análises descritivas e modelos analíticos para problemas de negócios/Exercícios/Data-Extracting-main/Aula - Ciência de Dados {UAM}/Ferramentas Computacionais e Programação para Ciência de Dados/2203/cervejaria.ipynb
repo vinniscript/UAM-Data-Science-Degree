{
 "cells": [
  {
   "cell_type": "code",
   "execution_count": 110,
   "id": "initial_id",
   "metadata": {
    "collapsed": true,
    "ExecuteTime": {
     "end_time": "2024-03-23T00:34:26.824722Z",
     "start_time": "2024-03-23T00:34:26.821384Z"
    }
   },
   "outputs": [],
   "source": [
    "import pandas as pd"
   ]
  },
  {
   "cell_type": "code",
   "outputs": [
    {
     "name": "stdout",
     "output_type": "stream",
     "text": [
      "<class 'pandas.core.frame.DataFrame'>\n",
      "RangeIndex: 368 entries, 0 to 367\n",
      "Data columns (total 7 columns):\n",
      " #   Column                       Non-Null Count  Dtype  \n",
      "---  ------                       --------------  -----  \n",
      " 0   Data                         368 non-null    object \n",
      " 1   Temperatura Media (C)        368 non-null    object \n",
      " 2   Temperatura Minima (C)       366 non-null    object \n",
      " 3   Temperatura Maxima (C)       367 non-null    object \n",
      " 4   Precipitacao (mm)            368 non-null    object \n",
      " 5   Final de Semana              367 non-null    float64\n",
      " 6   Consumo de cerveja (litros)  368 non-null    float64\n",
      "dtypes: float64(2), object(5)\n",
      "memory usage: 20.3+ KB\n"
     ]
    }
   ],
   "source": [
    "df = pd.read_csv(\"https://raw.githubusercontent.com/nataliavalentin/base-cervejas/master/Heineken_Consumo_aula.csv\")\n",
    "\n",
    "df.info() # Verificando os tipos de dados e colunas"
   ],
   "metadata": {
    "collapsed": false,
    "ExecuteTime": {
     "end_time": "2024-03-23T00:34:26.898770Z",
     "start_time": "2024-03-23T00:34:26.846720Z"
    }
   },
   "id": "61227fd2f3d308a7",
   "execution_count": 111
  },
  {
   "cell_type": "code",
   "outputs": [
    {
     "data": {
      "text/plain": "           Data Temperatura Media (C) Temperatura Minima (C)  \\\n218  2015-08-04                 21,04                   15,2   \n179  2015-06-26                 15,26                     12   \n245  2015-08-31                 24,54                   16,6   \n330  2015-11-24                 21,36                   19,3   \n57   2015-02-24                  24,3                   20,5   \n\n    Temperatura Maxima (C) Precipitacao (mm)  Final de Semana  \\\n218                   27,4                 0              0.0   \n179                   20,9                 0              0.0   \n245                   32,2                 0              0.0   \n330                   22,6                 7              0.0   \n57                    31,9                 0              0.0   \n\n     Consumo de cerveja (litros)  \n218                       27.724  \n179                       21.860  \n245                       28.441  \n330                       21.689  \n57                        26.959  ",
      "text/html": "<div>\n<style scoped>\n    .dataframe tbody tr th:only-of-type {\n        vertical-align: middle;\n    }\n\n    .dataframe tbody tr th {\n        vertical-align: top;\n    }\n\n    .dataframe thead th {\n        text-align: right;\n    }\n</style>\n<table border=\"1\" class=\"dataframe\">\n  <thead>\n    <tr style=\"text-align: right;\">\n      <th></th>\n      <th>Data</th>\n      <th>Temperatura Media (C)</th>\n      <th>Temperatura Minima (C)</th>\n      <th>Temperatura Maxima (C)</th>\n      <th>Precipitacao (mm)</th>\n      <th>Final de Semana</th>\n      <th>Consumo de cerveja (litros)</th>\n    </tr>\n  </thead>\n  <tbody>\n    <tr>\n      <th>218</th>\n      <td>2015-08-04</td>\n      <td>21,04</td>\n      <td>15,2</td>\n      <td>27,4</td>\n      <td>0</td>\n      <td>0.0</td>\n      <td>27.724</td>\n    </tr>\n    <tr>\n      <th>179</th>\n      <td>2015-06-26</td>\n      <td>15,26</td>\n      <td>12</td>\n      <td>20,9</td>\n      <td>0</td>\n      <td>0.0</td>\n      <td>21.860</td>\n    </tr>\n    <tr>\n      <th>245</th>\n      <td>2015-08-31</td>\n      <td>24,54</td>\n      <td>16,6</td>\n      <td>32,2</td>\n      <td>0</td>\n      <td>0.0</td>\n      <td>28.441</td>\n    </tr>\n    <tr>\n      <th>330</th>\n      <td>2015-11-24</td>\n      <td>21,36</td>\n      <td>19,3</td>\n      <td>22,6</td>\n      <td>7</td>\n      <td>0.0</td>\n      <td>21.689</td>\n    </tr>\n    <tr>\n      <th>57</th>\n      <td>2015-02-24</td>\n      <td>24,3</td>\n      <td>20,5</td>\n      <td>31,9</td>\n      <td>0</td>\n      <td>0.0</td>\n      <td>26.959</td>\n    </tr>\n  </tbody>\n</table>\n</div>"
     },
     "execution_count": 112,
     "metadata": {},
     "output_type": "execute_result"
    }
   ],
   "source": [
    "df.sample(5) # Verificando 5 amostras aleatórias"
   ],
   "metadata": {
    "collapsed": false,
    "ExecuteTime": {
     "end_time": "2024-03-23T00:34:26.923771Z",
     "start_time": "2024-03-23T00:34:26.914769Z"
    }
   },
   "id": "aebffbc030bc8dcd",
   "execution_count": 112
  },
  {
   "cell_type": "code",
   "outputs": [
    {
     "data": {
      "text/plain": "         data temperatura_media_c temperatura_minima_c temperatura_maxima_c  \\\n0  2015-01-01                27,3                 23,9                 32,5   \n1  2015-01-01                27,3                 23,9                 32,5   \n2  2015-01-02               27,02                 24,5                 33,5   \n3  2015-01-03               24,82                 22,4                  NaN   \n4  2015-01-04               23,98                 21,5                 28,6   \n\n  precipitacao_mm  final_de_semana  consumo_de_cerveja_litros  \n0               0              0.0                     25.461  \n1               0              0.0                     25.461  \n2               0              0.0                     28.972  \n3               0              1.0                     30.814  \n4             1,2              1.0                     29.799  ",
      "text/html": "<div>\n<style scoped>\n    .dataframe tbody tr th:only-of-type {\n        vertical-align: middle;\n    }\n\n    .dataframe tbody tr th {\n        vertical-align: top;\n    }\n\n    .dataframe thead th {\n        text-align: right;\n    }\n</style>\n<table border=\"1\" class=\"dataframe\">\n  <thead>\n    <tr style=\"text-align: right;\">\n      <th></th>\n      <th>data</th>\n      <th>temperatura_media_c</th>\n      <th>temperatura_minima_c</th>\n      <th>temperatura_maxima_c</th>\n      <th>precipitacao_mm</th>\n      <th>final_de_semana</th>\n      <th>consumo_de_cerveja_litros</th>\n    </tr>\n  </thead>\n  <tbody>\n    <tr>\n      <th>0</th>\n      <td>2015-01-01</td>\n      <td>27,3</td>\n      <td>23,9</td>\n      <td>32,5</td>\n      <td>0</td>\n      <td>0.0</td>\n      <td>25.461</td>\n    </tr>\n    <tr>\n      <th>1</th>\n      <td>2015-01-01</td>\n      <td>27,3</td>\n      <td>23,9</td>\n      <td>32,5</td>\n      <td>0</td>\n      <td>0.0</td>\n      <td>25.461</td>\n    </tr>\n    <tr>\n      <th>2</th>\n      <td>2015-01-02</td>\n      <td>27,02</td>\n      <td>24,5</td>\n      <td>33,5</td>\n      <td>0</td>\n      <td>0.0</td>\n      <td>28.972</td>\n    </tr>\n    <tr>\n      <th>3</th>\n      <td>2015-01-03</td>\n      <td>24,82</td>\n      <td>22,4</td>\n      <td>NaN</td>\n      <td>0</td>\n      <td>1.0</td>\n      <td>30.814</td>\n    </tr>\n    <tr>\n      <th>4</th>\n      <td>2015-01-04</td>\n      <td>23,98</td>\n      <td>21,5</td>\n      <td>28,6</td>\n      <td>1,2</td>\n      <td>1.0</td>\n      <td>29.799</td>\n    </tr>\n  </tbody>\n</table>\n</div>"
     },
     "execution_count": 113,
     "metadata": {},
     "output_type": "execute_result"
    }
   ],
   "source": [
    "df.columns = df.columns.str.replace(\" \", \"_\") # Substituindo espaços por underline na colunas\n",
    "df.columns = df.columns.str.replace(\"[)(]\", \"\", regex=True) # Removendo parênteses\n",
    "df.columns = df.columns.str.lower() # Transformando as colunas em minúsculas\n",
    "\n",
    "df.head()"
   ],
   "metadata": {
    "collapsed": false,
    "ExecuteTime": {
     "end_time": "2024-03-23T00:34:26.936018Z",
     "start_time": "2024-03-23T00:34:26.924771Z"
    }
   },
   "id": "63f8488281f01038",
   "execution_count": 113
  },
  {
   "cell_type": "code",
   "outputs": [],
   "source": [
    "df.rename(columns={\"consumo_de_cerveja_litros\":\"consumo\"}, inplace=True) # Renomeando a coluna consumo_de_cerveja_(litros) para consumo"
   ],
   "metadata": {
    "collapsed": false,
    "ExecuteTime": {
     "end_time": "2024-03-23T00:34:26.953737Z",
     "start_time": "2024-03-23T00:34:26.950015Z"
    }
   },
   "id": "31632837c9414338",
   "execution_count": 114
  },
  {
   "cell_type": "code",
   "outputs": [
    {
     "data": {
      "text/plain": "         data temperatura_media_c temperatura_minima_c temperatura_maxima_c  \\\n0  2015-01-01                27,3                 23,9                 32,5   \n1  2015-01-01                27,3                 23,9                 32,5   \n2  2015-01-02               27,02                 24,5                 33,5   \n3  2015-01-03               24,82                 22,4                  NaN   \n4  2015-01-04               23,98                 21,5                 28,6   \n\n  precipitacao_mm  final_de_semana  consumo  \n0               0              0.0   25.461  \n1               0              0.0   25.461  \n2               0              0.0   28.972  \n3               0              1.0   30.814  \n4             1,2              1.0   29.799  ",
      "text/html": "<div>\n<style scoped>\n    .dataframe tbody tr th:only-of-type {\n        vertical-align: middle;\n    }\n\n    .dataframe tbody tr th {\n        vertical-align: top;\n    }\n\n    .dataframe thead th {\n        text-align: right;\n    }\n</style>\n<table border=\"1\" class=\"dataframe\">\n  <thead>\n    <tr style=\"text-align: right;\">\n      <th></th>\n      <th>data</th>\n      <th>temperatura_media_c</th>\n      <th>temperatura_minima_c</th>\n      <th>temperatura_maxima_c</th>\n      <th>precipitacao_mm</th>\n      <th>final_de_semana</th>\n      <th>consumo</th>\n    </tr>\n  </thead>\n  <tbody>\n    <tr>\n      <th>0</th>\n      <td>2015-01-01</td>\n      <td>27,3</td>\n      <td>23,9</td>\n      <td>32,5</td>\n      <td>0</td>\n      <td>0.0</td>\n      <td>25.461</td>\n    </tr>\n    <tr>\n      <th>1</th>\n      <td>2015-01-01</td>\n      <td>27,3</td>\n      <td>23,9</td>\n      <td>32,5</td>\n      <td>0</td>\n      <td>0.0</td>\n      <td>25.461</td>\n    </tr>\n    <tr>\n      <th>2</th>\n      <td>2015-01-02</td>\n      <td>27,02</td>\n      <td>24,5</td>\n      <td>33,5</td>\n      <td>0</td>\n      <td>0.0</td>\n      <td>28.972</td>\n    </tr>\n    <tr>\n      <th>3</th>\n      <td>2015-01-03</td>\n      <td>24,82</td>\n      <td>22,4</td>\n      <td>NaN</td>\n      <td>0</td>\n      <td>1.0</td>\n      <td>30.814</td>\n    </tr>\n    <tr>\n      <th>4</th>\n      <td>2015-01-04</td>\n      <td>23,98</td>\n      <td>21,5</td>\n      <td>28,6</td>\n      <td>1,2</td>\n      <td>1.0</td>\n      <td>29.799</td>\n    </tr>\n  </tbody>\n</table>\n</div>"
     },
     "execution_count": 115,
     "metadata": {},
     "output_type": "execute_result"
    }
   ],
   "source": [
    "df.head()"
   ],
   "metadata": {
    "collapsed": false,
    "ExecuteTime": {
     "end_time": "2024-03-23T00:34:27.001518Z",
     "start_time": "2024-03-23T00:34:26.992740Z"
    }
   },
   "id": "10b48c18e11ea5ba",
   "execution_count": 115
  },
  {
   "cell_type": "markdown",
   "source": [
    "# Verificar se existem dados faltantes"
   ],
   "metadata": {
    "collapsed": false
   },
   "id": "fb869b96652a91e0"
  },
  {
   "cell_type": "code",
   "outputs": [
    {
     "data": {
      "text/plain": "True"
     },
     "execution_count": 116,
     "metadata": {},
     "output_type": "execute_result"
    }
   ],
   "source": [
    "df.isnull().values.any() # Verificando se existem valores faltantes"
   ],
   "metadata": {
    "collapsed": false,
    "ExecuteTime": {
     "end_time": "2024-03-23T00:34:27.028519Z",
     "start_time": "2024-03-23T00:34:27.023518Z"
    }
   },
   "id": "ca02d5c277a37cff",
   "execution_count": 116
  },
  {
   "cell_type": "code",
   "outputs": [
    {
     "data": {
      "text/plain": "data                    0\ntemperatura_media_c     0\ntemperatura_minima_c    2\ntemperatura_maxima_c    1\nprecipitacao_mm         0\nfinal_de_semana         1\nconsumo                 0\ndtype: int64"
     },
     "execution_count": 117,
     "metadata": {},
     "output_type": "execute_result"
    }
   ],
   "source": [
    "df.isnull().sum() # Verificando a quantidade de valores faltantes por coluna"
   ],
   "metadata": {
    "collapsed": false,
    "ExecuteTime": {
     "end_time": "2024-03-23T00:34:27.117563Z",
     "start_time": "2024-03-23T00:34:27.111538Z"
    }
   },
   "id": "354622c03fb1dfb",
   "execution_count": 117
  },
  {
   "cell_type": "code",
   "outputs": [],
   "source": [
    "df['temperatura_maxima_c'] = df['temperatura_maxima_c'].str.replace(\",\", \".\").astype(float) # Substituindo vírgula por ponto e convertendo para float\n",
    "df['temperatura_media_c'] = df['temperatura_media_c'].str.replace(\",\", \".\").astype(float) # Substituindo vírgula por ponto e convertendo para float\n",
    "df['temperatura_minima_c'] = df['temperatura_minima_c'].str.replace(\",\", \".\").astype(float) # Substituindo vírgula por ponto e convertendo para float\n",
    "df['precipitacao_mm'] = df['precipitacao_mm'].str.replace(\",\", \".\").astype(float) # Substituindo vírgula por ponto e convertendo para float\n",
    "\n",
    "# Organizar as datas em colunas para facilitar as análises, separando dia, mês e ano."
   ],
   "metadata": {
    "collapsed": false,
    "ExecuteTime": {
     "end_time": "2024-03-23T00:34:27.179264Z",
     "start_time": "2024-03-23T00:34:27.171081Z"
    }
   },
   "id": "57c17e4bce840bda",
   "execution_count": 118
  },
  {
   "cell_type": "code",
   "outputs": [
    {
     "data": {
      "text/plain": "        data  temperatura_media_c  temperatura_minima_c  temperatura_maxima_c  \\\n0 2015-01-01                27.30                  23.9                  32.5   \n1 2015-01-01                27.30                  23.9                  32.5   \n2 2015-01-02                27.02                  24.5                  33.5   \n3 2015-01-03                24.82                  22.4                   NaN   \n4 2015-01-04                23.98                  21.5                  28.6   \n\n   precipitacao_mm  final_de_semana  consumo  mes  dia  dia_semana  \n0              0.0              0.0   25.461    1    1           3  \n1              0.0              0.0   25.461    1    1           3  \n2              0.0              0.0   28.972    1    2           4  \n3              0.0              1.0   30.814    1    3           5  \n4              1.2              1.0   29.799    1    4           6  ",
      "text/html": "<div>\n<style scoped>\n    .dataframe tbody tr th:only-of-type {\n        vertical-align: middle;\n    }\n\n    .dataframe tbody tr th {\n        vertical-align: top;\n    }\n\n    .dataframe thead th {\n        text-align: right;\n    }\n</style>\n<table border=\"1\" class=\"dataframe\">\n  <thead>\n    <tr style=\"text-align: right;\">\n      <th></th>\n      <th>data</th>\n      <th>temperatura_media_c</th>\n      <th>temperatura_minima_c</th>\n      <th>temperatura_maxima_c</th>\n      <th>precipitacao_mm</th>\n      <th>final_de_semana</th>\n      <th>consumo</th>\n      <th>mes</th>\n      <th>dia</th>\n      <th>dia_semana</th>\n    </tr>\n  </thead>\n  <tbody>\n    <tr>\n      <th>0</th>\n      <td>2015-01-01</td>\n      <td>27.30</td>\n      <td>23.9</td>\n      <td>32.5</td>\n      <td>0.0</td>\n      <td>0.0</td>\n      <td>25.461</td>\n      <td>1</td>\n      <td>1</td>\n      <td>3</td>\n    </tr>\n    <tr>\n      <th>1</th>\n      <td>2015-01-01</td>\n      <td>27.30</td>\n      <td>23.9</td>\n      <td>32.5</td>\n      <td>0.0</td>\n      <td>0.0</td>\n      <td>25.461</td>\n      <td>1</td>\n      <td>1</td>\n      <td>3</td>\n    </tr>\n    <tr>\n      <th>2</th>\n      <td>2015-01-02</td>\n      <td>27.02</td>\n      <td>24.5</td>\n      <td>33.5</td>\n      <td>0.0</td>\n      <td>0.0</td>\n      <td>28.972</td>\n      <td>1</td>\n      <td>2</td>\n      <td>4</td>\n    </tr>\n    <tr>\n      <th>3</th>\n      <td>2015-01-03</td>\n      <td>24.82</td>\n      <td>22.4</td>\n      <td>NaN</td>\n      <td>0.0</td>\n      <td>1.0</td>\n      <td>30.814</td>\n      <td>1</td>\n      <td>3</td>\n      <td>5</td>\n    </tr>\n    <tr>\n      <th>4</th>\n      <td>2015-01-04</td>\n      <td>23.98</td>\n      <td>21.5</td>\n      <td>28.6</td>\n      <td>1.2</td>\n      <td>1.0</td>\n      <td>29.799</td>\n      <td>1</td>\n      <td>4</td>\n      <td>6</td>\n    </tr>\n  </tbody>\n</table>\n</div>"
     },
     "execution_count": 119,
     "metadata": {},
     "output_type": "execute_result"
    }
   ],
   "source": [
    "df['data'] = pd.to_datetime(df['data'])\n",
    "df['mes'] = pd.to_datetime(df['data']).dt.month\n",
    "df['dia'] = pd.to_datetime(df['data']).dt.day\n",
    "df['dia_semana'] = pd.to_datetime(df['data']).dt.dayofweek\n",
    "\n",
    "df.head()"
   ],
   "metadata": {
    "collapsed": false,
    "ExecuteTime": {
     "end_time": "2024-03-23T00:34:27.335755Z",
     "start_time": "2024-03-23T00:34:27.321291Z"
    }
   },
   "id": "e73e28cb7b7690cc",
   "execution_count": 119
  },
  {
   "cell_type": "code",
   "outputs": [
    {
     "data": {
      "text/plain": "3"
     },
     "execution_count": 120,
     "metadata": {},
     "output_type": "execute_result"
    }
   ],
   "source": [
    "df.duplicated().sum()"
   ],
   "metadata": {
    "collapsed": false,
    "ExecuteTime": {
     "end_time": "2024-03-23T00:34:27.364530Z",
     "start_time": "2024-03-23T00:34:27.358755Z"
    }
   },
   "id": "432c022d9148026a",
   "execution_count": 120
  },
  {
   "cell_type": "code",
   "outputs": [
    {
     "data": {
      "text/plain": "Empty DataFrame\nColumns: [data, temperatura_media_c, temperatura_minima_c, temperatura_maxima_c, precipitacao_mm, final_de_semana, consumo, mes, dia, dia_semana]\nIndex: []",
      "text/html": "<div>\n<style scoped>\n    .dataframe tbody tr th:only-of-type {\n        vertical-align: middle;\n    }\n\n    .dataframe tbody tr th {\n        vertical-align: top;\n    }\n\n    .dataframe thead th {\n        text-align: right;\n    }\n</style>\n<table border=\"1\" class=\"dataframe\">\n  <thead>\n    <tr style=\"text-align: right;\">\n      <th></th>\n      <th>data</th>\n      <th>temperatura_media_c</th>\n      <th>temperatura_minima_c</th>\n      <th>temperatura_maxima_c</th>\n      <th>precipitacao_mm</th>\n      <th>final_de_semana</th>\n      <th>consumo</th>\n      <th>mes</th>\n      <th>dia</th>\n      <th>dia_semana</th>\n    </tr>\n  </thead>\n  <tbody>\n  </tbody>\n</table>\n</div>"
     },
     "execution_count": 121,
     "metadata": {},
     "output_type": "execute_result"
    }
   ],
   "source": [
    "df = df.drop_duplicates() # Removendo linhas duplicadas\n",
    "df[df.duplicated()]"
   ],
   "metadata": {
    "collapsed": false,
    "ExecuteTime": {
     "end_time": "2024-03-23T00:34:27.413922Z",
     "start_time": "2024-03-23T00:34:27.403534Z"
    }
   },
   "id": "fd261a1320368f32",
   "execution_count": 121
  },
  {
   "cell_type": "code",
   "outputs": [
    {
     "data": {
      "text/plain": "                      data  temperatura_media_c  temperatura_minima_c  \\\ncount                  365           365.000000            363.000000   \nmean   2015-07-02 00:00:00            21.226356             17.436639   \nmin    2015-01-01 00:00:00            12.900000             10.600000   \n25%    2015-04-02 00:00:00            19.020000             15.250000   \n50%    2015-07-02 00:00:00            21.380000             17.900000   \n75%    2015-10-01 00:00:00            23.280000             19.500000   \nmax    2015-12-31 00:00:00            28.860000             24.500000   \nstd                    NaN             3.180108              2.812375   \n\n       temperatura_maxima_c  precipitacao_mm  final_de_semana     consumo  \\\ncount            364.000000       365.000000       364.000000  365.000000   \nmean              26.602473         5.196712         0.285714   25.401367   \nmin               14.500000         0.000000         0.000000   14.343000   \n25%               23.800000         0.000000         0.000000   22.008000   \n50%               26.900000         0.000000         0.000000   24.867000   \n75%               29.400000         3.200000         1.000000   28.631000   \nmax               36.500000        94.800000         1.000000   37.937000   \nstd                4.319852        12.417844         0.452376    4.399143   \n\n              mes         dia  dia_semana  \ncount  365.000000  365.000000       365.0  \nmean     6.526027   15.720548         3.0  \nmin      1.000000    1.000000         0.0  \n25%      4.000000    8.000000         1.0  \n50%      7.000000   16.000000         3.0  \n75%     10.000000   23.000000         5.0  \nmax     12.000000   31.000000         6.0  \nstd      3.452584    8.808321         2.0  ",
      "text/html": "<div>\n<style scoped>\n    .dataframe tbody tr th:only-of-type {\n        vertical-align: middle;\n    }\n\n    .dataframe tbody tr th {\n        vertical-align: top;\n    }\n\n    .dataframe thead th {\n        text-align: right;\n    }\n</style>\n<table border=\"1\" class=\"dataframe\">\n  <thead>\n    <tr style=\"text-align: right;\">\n      <th></th>\n      <th>data</th>\n      <th>temperatura_media_c</th>\n      <th>temperatura_minima_c</th>\n      <th>temperatura_maxima_c</th>\n      <th>precipitacao_mm</th>\n      <th>final_de_semana</th>\n      <th>consumo</th>\n      <th>mes</th>\n      <th>dia</th>\n      <th>dia_semana</th>\n    </tr>\n  </thead>\n  <tbody>\n    <tr>\n      <th>count</th>\n      <td>365</td>\n      <td>365.000000</td>\n      <td>363.000000</td>\n      <td>364.000000</td>\n      <td>365.000000</td>\n      <td>364.000000</td>\n      <td>365.000000</td>\n      <td>365.000000</td>\n      <td>365.000000</td>\n      <td>365.0</td>\n    </tr>\n    <tr>\n      <th>mean</th>\n      <td>2015-07-02 00:00:00</td>\n      <td>21.226356</td>\n      <td>17.436639</td>\n      <td>26.602473</td>\n      <td>5.196712</td>\n      <td>0.285714</td>\n      <td>25.401367</td>\n      <td>6.526027</td>\n      <td>15.720548</td>\n      <td>3.0</td>\n    </tr>\n    <tr>\n      <th>min</th>\n      <td>2015-01-01 00:00:00</td>\n      <td>12.900000</td>\n      <td>10.600000</td>\n      <td>14.500000</td>\n      <td>0.000000</td>\n      <td>0.000000</td>\n      <td>14.343000</td>\n      <td>1.000000</td>\n      <td>1.000000</td>\n      <td>0.0</td>\n    </tr>\n    <tr>\n      <th>25%</th>\n      <td>2015-04-02 00:00:00</td>\n      <td>19.020000</td>\n      <td>15.250000</td>\n      <td>23.800000</td>\n      <td>0.000000</td>\n      <td>0.000000</td>\n      <td>22.008000</td>\n      <td>4.000000</td>\n      <td>8.000000</td>\n      <td>1.0</td>\n    </tr>\n    <tr>\n      <th>50%</th>\n      <td>2015-07-02 00:00:00</td>\n      <td>21.380000</td>\n      <td>17.900000</td>\n      <td>26.900000</td>\n      <td>0.000000</td>\n      <td>0.000000</td>\n      <td>24.867000</td>\n      <td>7.000000</td>\n      <td>16.000000</td>\n      <td>3.0</td>\n    </tr>\n    <tr>\n      <th>75%</th>\n      <td>2015-10-01 00:00:00</td>\n      <td>23.280000</td>\n      <td>19.500000</td>\n      <td>29.400000</td>\n      <td>3.200000</td>\n      <td>1.000000</td>\n      <td>28.631000</td>\n      <td>10.000000</td>\n      <td>23.000000</td>\n      <td>5.0</td>\n    </tr>\n    <tr>\n      <th>max</th>\n      <td>2015-12-31 00:00:00</td>\n      <td>28.860000</td>\n      <td>24.500000</td>\n      <td>36.500000</td>\n      <td>94.800000</td>\n      <td>1.000000</td>\n      <td>37.937000</td>\n      <td>12.000000</td>\n      <td>31.000000</td>\n      <td>6.0</td>\n    </tr>\n    <tr>\n      <th>std</th>\n      <td>NaN</td>\n      <td>3.180108</td>\n      <td>2.812375</td>\n      <td>4.319852</td>\n      <td>12.417844</td>\n      <td>0.452376</td>\n      <td>4.399143</td>\n      <td>3.452584</td>\n      <td>8.808321</td>\n      <td>2.0</td>\n    </tr>\n  </tbody>\n</table>\n</div>"
     },
     "execution_count": 122,
     "metadata": {},
     "output_type": "execute_result"
    }
   ],
   "source": [
    "df.describe()"
   ],
   "metadata": {
    "collapsed": false,
    "ExecuteTime": {
     "end_time": "2024-03-23T00:34:27.471377Z",
     "start_time": "2024-03-23T00:34:27.448924Z"
    }
   },
   "id": "9d4e70ddf97597c3",
   "execution_count": 122
  },
  {
   "cell_type": "code",
   "outputs": [],
   "source": [
    "df.dropna(how=\"any\", inplace=True) # Removendo linhas com valores faltantes em qualquer coluna"
   ],
   "metadata": {
    "collapsed": false,
    "ExecuteTime": {
     "end_time": "2024-03-23T00:34:27.556556Z",
     "start_time": "2024-03-23T00:34:27.551391Z"
    }
   },
   "id": "b63cb2187d9f4916",
   "execution_count": 123
  },
  {
   "cell_type": "code",
   "outputs": [
    {
     "data": {
      "text/plain": "                                data  temperatura_media_c  \\\ncount                            361           361.000000   \nmean   2015-07-03 20:24:35.900276992            21.171080   \nmin              2015-01-01 00:00:00            12.900000   \n25%              2015-04-05 00:00:00            18.920000   \n50%              2015-07-04 00:00:00            21.360000   \n75%              2015-10-02 00:00:00            23.180000   \nmax              2015-12-31 00:00:00            28.860000   \nstd                              NaN             3.148306   \n\n       temperatura_minima_c  temperatura_maxima_c  precipitacao_mm  \\\ncount            361.000000            361.000000       361.000000   \nmean              17.410526             26.553186         5.240443   \nmin               10.600000             14.500000         0.000000   \n25%               15.200000             23.800000         0.000000   \n50%               17.900000             26.800000         0.000000   \n75%               19.500000             29.400000         3.200000   \nmax               24.500000             36.500000        94.800000   \nstd                2.798025              4.293237        12.478133   \n\n       final_de_semana     consumo         mes         dia  dia_semana  \ncount       361.000000  361.000000  361.000000  361.000000   361.00000  \nmean          0.282548   25.342424    6.584488   15.803324     2.98892  \nmin           0.000000   14.343000    1.000000    1.000000     0.00000  \n25%           0.000000   22.001000    4.000000    8.000000     1.00000  \n50%           0.000000   24.862000    7.000000   16.000000     3.00000  \n75%           1.000000   28.610000   10.000000   23.000000     5.00000  \nmax           1.000000   37.937000   12.000000   31.000000     6.00000  \nstd           0.450864    4.369907    3.426074    8.787149     1.99858  ",
      "text/html": "<div>\n<style scoped>\n    .dataframe tbody tr th:only-of-type {\n        vertical-align: middle;\n    }\n\n    .dataframe tbody tr th {\n        vertical-align: top;\n    }\n\n    .dataframe thead th {\n        text-align: right;\n    }\n</style>\n<table border=\"1\" class=\"dataframe\">\n  <thead>\n    <tr style=\"text-align: right;\">\n      <th></th>\n      <th>data</th>\n      <th>temperatura_media_c</th>\n      <th>temperatura_minima_c</th>\n      <th>temperatura_maxima_c</th>\n      <th>precipitacao_mm</th>\n      <th>final_de_semana</th>\n      <th>consumo</th>\n      <th>mes</th>\n      <th>dia</th>\n      <th>dia_semana</th>\n    </tr>\n  </thead>\n  <tbody>\n    <tr>\n      <th>count</th>\n      <td>361</td>\n      <td>361.000000</td>\n      <td>361.000000</td>\n      <td>361.000000</td>\n      <td>361.000000</td>\n      <td>361.000000</td>\n      <td>361.000000</td>\n      <td>361.000000</td>\n      <td>361.000000</td>\n      <td>361.00000</td>\n    </tr>\n    <tr>\n      <th>mean</th>\n      <td>2015-07-03 20:24:35.900276992</td>\n      <td>21.171080</td>\n      <td>17.410526</td>\n      <td>26.553186</td>\n      <td>5.240443</td>\n      <td>0.282548</td>\n      <td>25.342424</td>\n      <td>6.584488</td>\n      <td>15.803324</td>\n      <td>2.98892</td>\n    </tr>\n    <tr>\n      <th>min</th>\n      <td>2015-01-01 00:00:00</td>\n      <td>12.900000</td>\n      <td>10.600000</td>\n      <td>14.500000</td>\n      <td>0.000000</td>\n      <td>0.000000</td>\n      <td>14.343000</td>\n      <td>1.000000</td>\n      <td>1.000000</td>\n      <td>0.00000</td>\n    </tr>\n    <tr>\n      <th>25%</th>\n      <td>2015-04-05 00:00:00</td>\n      <td>18.920000</td>\n      <td>15.200000</td>\n      <td>23.800000</td>\n      <td>0.000000</td>\n      <td>0.000000</td>\n      <td>22.001000</td>\n      <td>4.000000</td>\n      <td>8.000000</td>\n      <td>1.00000</td>\n    </tr>\n    <tr>\n      <th>50%</th>\n      <td>2015-07-04 00:00:00</td>\n      <td>21.360000</td>\n      <td>17.900000</td>\n      <td>26.800000</td>\n      <td>0.000000</td>\n      <td>0.000000</td>\n      <td>24.862000</td>\n      <td>7.000000</td>\n      <td>16.000000</td>\n      <td>3.00000</td>\n    </tr>\n    <tr>\n      <th>75%</th>\n      <td>2015-10-02 00:00:00</td>\n      <td>23.180000</td>\n      <td>19.500000</td>\n      <td>29.400000</td>\n      <td>3.200000</td>\n      <td>1.000000</td>\n      <td>28.610000</td>\n      <td>10.000000</td>\n      <td>23.000000</td>\n      <td>5.00000</td>\n    </tr>\n    <tr>\n      <th>max</th>\n      <td>2015-12-31 00:00:00</td>\n      <td>28.860000</td>\n      <td>24.500000</td>\n      <td>36.500000</td>\n      <td>94.800000</td>\n      <td>1.000000</td>\n      <td>37.937000</td>\n      <td>12.000000</td>\n      <td>31.000000</td>\n      <td>6.00000</td>\n    </tr>\n    <tr>\n      <th>std</th>\n      <td>NaN</td>\n      <td>3.148306</td>\n      <td>2.798025</td>\n      <td>4.293237</td>\n      <td>12.478133</td>\n      <td>0.450864</td>\n      <td>4.369907</td>\n      <td>3.426074</td>\n      <td>8.787149</td>\n      <td>1.99858</td>\n    </tr>\n  </tbody>\n</table>\n</div>"
     },
     "execution_count": 124,
     "metadata": {},
     "output_type": "execute_result"
    }
   ],
   "source": [
    "df.describe()"
   ],
   "metadata": {
    "collapsed": false,
    "ExecuteTime": {
     "end_time": "2024-03-23T00:34:27.601619Z",
     "start_time": "2024-03-23T00:34:27.578554Z"
    }
   },
   "id": "e9652f6d0ce1058e",
   "execution_count": 124
  },
  {
   "cell_type": "markdown",
   "source": [
    "Olhando para a base em questão, quais são as possíveis perguntas a serem respondidas por essa base para supor esse consumo:\n",
    "\n",
    "-- quanto de cerveja foi consumida no final de semana e durante a semana?\n",
    "*HIPÓTESE:* existe uma relação entre consumo e o dia da semana.*\n",
    "\n",
    "-- quanto de cerveja foi consumida por mês?\n",
    "*HIPÓTESE:* existe oscilação de consumo ao longo do ano.*\n",
    "\n",
    "-- como foi a temperatura para o ano e consumo de cerveja?\n",
    "*HIPÓTESE:* existe relação entre temperatura e consumo de cerveja*\n",
    "\n",
    "-- como precipitação influencia no consumo de cerveja?\n",
    "*HIPÓTESE:* chuva influencia o consumo de cerveja*"
   ],
   "metadata": {
    "collapsed": false
   },
   "id": "fbc9f07cacecfc30"
  },
  {
   "cell_type": "code",
   "outputs": [],
   "source": [
    "import plotly.graph_objects as pg"
   ],
   "metadata": {
    "collapsed": false,
    "ExecuteTime": {
     "end_time": "2024-03-23T00:34:27.631084Z",
     "start_time": "2024-03-23T00:34:27.627636Z"
    }
   },
   "id": "159d0a3c685e7fb1",
   "execution_count": 125
  },
  {
   "cell_type": "code",
   "outputs": [
    {
     "ename": "KeyError",
     "evalue": "'consumo_de_cerveja_litros'",
     "output_type": "error",
     "traceback": [
      "\u001B[1;31m---------------------------------------------------------------------------\u001B[0m",
      "\u001B[1;31mKeyError\u001B[0m                                  Traceback (most recent call last)",
      "File \u001B[1;32m~\\anaconda3\\Lib\\site-packages\\pandas\\core\\indexes\\base.py:3791\u001B[0m, in \u001B[0;36mIndex.get_loc\u001B[1;34m(self, key)\u001B[0m\n\u001B[0;32m   3790\u001B[0m \u001B[38;5;28;01mtry\u001B[39;00m:\n\u001B[1;32m-> 3791\u001B[0m     \u001B[38;5;28;01mreturn\u001B[39;00m \u001B[38;5;28mself\u001B[39m\u001B[38;5;241m.\u001B[39m_engine\u001B[38;5;241m.\u001B[39mget_loc(casted_key)\n\u001B[0;32m   3792\u001B[0m \u001B[38;5;28;01mexcept\u001B[39;00m \u001B[38;5;167;01mKeyError\u001B[39;00m \u001B[38;5;28;01mas\u001B[39;00m err:\n",
      "File \u001B[1;32mindex.pyx:152\u001B[0m, in \u001B[0;36mpandas._libs.index.IndexEngine.get_loc\u001B[1;34m()\u001B[0m\n",
      "File \u001B[1;32mindex.pyx:181\u001B[0m, in \u001B[0;36mpandas._libs.index.IndexEngine.get_loc\u001B[1;34m()\u001B[0m\n",
      "File \u001B[1;32mpandas\\_libs\\hashtable_class_helper.pxi:7080\u001B[0m, in \u001B[0;36mpandas._libs.hashtable.PyObjectHashTable.get_item\u001B[1;34m()\u001B[0m\n",
      "File \u001B[1;32mpandas\\_libs\\hashtable_class_helper.pxi:7088\u001B[0m, in \u001B[0;36mpandas._libs.hashtable.PyObjectHashTable.get_item\u001B[1;34m()\u001B[0m\n",
      "\u001B[1;31mKeyError\u001B[0m: 'consumo_de_cerveja_litros'",
      "\nThe above exception was the direct cause of the following exception:\n",
      "\u001B[1;31mKeyError\u001B[0m                                  Traceback (most recent call last)",
      "Cell \u001B[1;32mIn[126], line 1\u001B[0m\n\u001B[1;32m----> 1\u001B[0m weekdays \u001B[38;5;241m=\u001B[39m \u001B[38;5;28msum\u001B[39m(df[df\u001B[38;5;241m.\u001B[39mfinal_de_semana \u001B[38;5;241m==\u001B[39m \u001B[38;5;241m0\u001B[39m] [\u001B[38;5;124m'\u001B[39m\u001B[38;5;124mconsumo_de_cerveja_litros\u001B[39m\u001B[38;5;124m'\u001B[39m])\n\u001B[0;32m      2\u001B[0m weekend \u001B[38;5;241m=\u001B[39m \u001B[38;5;28msum\u001B[39m(df[df\u001B[38;5;241m.\u001B[39mfinal_de_semana \u001B[38;5;241m==\u001B[39m \u001B[38;5;241m1\u001B[39m] [\u001B[38;5;124m'\u001B[39m\u001B[38;5;124mconsumo_de_cerveja_litros\u001B[39m\u001B[38;5;124m'\u001B[39m])\n\u001B[0;32m      4\u001B[0m labels \u001B[38;5;241m=\u001B[39m [\u001B[38;5;124m\"\u001B[39m\u001B[38;5;124mdias de semana\u001B[39m\u001B[38;5;124m\"\u001B[39m, \u001B[38;5;124m\"\u001B[39m\u001B[38;5;124mfinais de semana\u001B[39m\u001B[38;5;124m\"\u001B[39m]\n",
      "File \u001B[1;32m~\\anaconda3\\Lib\\site-packages\\pandas\\core\\frame.py:3893\u001B[0m, in \u001B[0;36mDataFrame.__getitem__\u001B[1;34m(self, key)\u001B[0m\n\u001B[0;32m   3891\u001B[0m \u001B[38;5;28;01mif\u001B[39;00m \u001B[38;5;28mself\u001B[39m\u001B[38;5;241m.\u001B[39mcolumns\u001B[38;5;241m.\u001B[39mnlevels \u001B[38;5;241m>\u001B[39m \u001B[38;5;241m1\u001B[39m:\n\u001B[0;32m   3892\u001B[0m     \u001B[38;5;28;01mreturn\u001B[39;00m \u001B[38;5;28mself\u001B[39m\u001B[38;5;241m.\u001B[39m_getitem_multilevel(key)\n\u001B[1;32m-> 3893\u001B[0m indexer \u001B[38;5;241m=\u001B[39m \u001B[38;5;28mself\u001B[39m\u001B[38;5;241m.\u001B[39mcolumns\u001B[38;5;241m.\u001B[39mget_loc(key)\n\u001B[0;32m   3894\u001B[0m \u001B[38;5;28;01mif\u001B[39;00m is_integer(indexer):\n\u001B[0;32m   3895\u001B[0m     indexer \u001B[38;5;241m=\u001B[39m [indexer]\n",
      "File \u001B[1;32m~\\anaconda3\\Lib\\site-packages\\pandas\\core\\indexes\\base.py:3798\u001B[0m, in \u001B[0;36mIndex.get_loc\u001B[1;34m(self, key)\u001B[0m\n\u001B[0;32m   3793\u001B[0m     \u001B[38;5;28;01mif\u001B[39;00m \u001B[38;5;28misinstance\u001B[39m(casted_key, \u001B[38;5;28mslice\u001B[39m) \u001B[38;5;129;01mor\u001B[39;00m (\n\u001B[0;32m   3794\u001B[0m         \u001B[38;5;28misinstance\u001B[39m(casted_key, abc\u001B[38;5;241m.\u001B[39mIterable)\n\u001B[0;32m   3795\u001B[0m         \u001B[38;5;129;01mand\u001B[39;00m \u001B[38;5;28many\u001B[39m(\u001B[38;5;28misinstance\u001B[39m(x, \u001B[38;5;28mslice\u001B[39m) \u001B[38;5;28;01mfor\u001B[39;00m x \u001B[38;5;129;01min\u001B[39;00m casted_key)\n\u001B[0;32m   3796\u001B[0m     ):\n\u001B[0;32m   3797\u001B[0m         \u001B[38;5;28;01mraise\u001B[39;00m InvalidIndexError(key)\n\u001B[1;32m-> 3798\u001B[0m     \u001B[38;5;28;01mraise\u001B[39;00m \u001B[38;5;167;01mKeyError\u001B[39;00m(key) \u001B[38;5;28;01mfrom\u001B[39;00m \u001B[38;5;21;01merr\u001B[39;00m\n\u001B[0;32m   3799\u001B[0m \u001B[38;5;28;01mexcept\u001B[39;00m \u001B[38;5;167;01mTypeError\u001B[39;00m:\n\u001B[0;32m   3800\u001B[0m     \u001B[38;5;66;03m# If we have a listlike key, _check_indexing_error will raise\u001B[39;00m\n\u001B[0;32m   3801\u001B[0m     \u001B[38;5;66;03m#  InvalidIndexError. Otherwise we fall through and re-raise\u001B[39;00m\n\u001B[0;32m   3802\u001B[0m     \u001B[38;5;66;03m#  the TypeError.\u001B[39;00m\n\u001B[0;32m   3803\u001B[0m     \u001B[38;5;28mself\u001B[39m\u001B[38;5;241m.\u001B[39m_check_indexing_error(key)\n",
      "\u001B[1;31mKeyError\u001B[0m: 'consumo_de_cerveja_litros'"
     ]
    }
   ],
   "source": [
    "weekdays = sum(df[df.final_de_semana == 0] ['consumo'])\n",
    "weekend = sum(df[df.final_de_semana == 1] ['consumo'])\n",
    "\n",
    "labels = [\"dias de semana\", \"finais de semana\"]\n",
    "values = [weekdays, weekend]\n",
    "cores = [\"crimson\"]\n",
    "\n",
    "grafico = pg.Figure(data = [pg.Bar(x=labels, y=values, marker_color=cores)])\n",
    "grafico.show()"
   ],
   "metadata": {
    "collapsed": false,
    "ExecuteTime": {
     "end_time": "2024-03-23T00:34:27.736644Z",
     "start_time": "2024-03-23T00:34:27.666086Z"
    }
   },
   "id": "c0c274a075b8e05b",
   "execution_count": 126
  },
  {
   "cell_type": "code",
   "outputs": [],
   "source": [
    "meaWeekdays = (df[df.final_de_semana == 0].consumo_de_cerveja_litros.mean())\n",
    "meaWeekend = (df[df.final_de_semana == 1].consumo_de_cerveja_litros.mean())\n",
    "\n",
    "#labels = [\"dias de semana\", \"finais de semana\"]\n",
    "values = [meaWeekdays, meaWeekend]\n",
    "cores = [\"crimson\"]\n",
    "\n",
    "grafico = pg.Figure(data = [pg.Bar(x=labels, y=values, marker_color=cores)])\n",
    "grafico.show()"
   ],
   "metadata": {
    "collapsed": false,
    "ExecuteTime": {
     "start_time": "2024-03-23T00:34:27.737598Z"
    }
   },
   "id": "6ce48f3d1d82a296",
   "execution_count": null
  },
  {
   "cell_type": "code",
   "outputs": [
    {
     "data": {
      "application/vnd.plotly.v1+json": {
       "data": [
        {
         "alignmentgroup": "True",
         "hovertemplate": "dia_semana=%{x}<br>consumo=%{y}<extra></extra>",
         "legendgroup": "3",
         "marker": {
          "color": "#636efa"
         },
         "name": "3",
         "notched": true,
         "offsetgroup": "3",
         "orientation": "v",
         "showlegend": true,
         "x": [
          3,
          3,
          3,
          3,
          3,
          3,
          3,
          3,
          3,
          3,
          3,
          3,
          3,
          3,
          3,
          3,
          3,
          3,
          3,
          3,
          3,
          3,
          3,
          3,
          3,
          3,
          3,
          3,
          3,
          3,
          3,
          3,
          3,
          3,
          3,
          3,
          3,
          3,
          3,
          3,
          3,
          3,
          3,
          3,
          3,
          3,
          3,
          3,
          3,
          3,
          3,
          3,
          3
         ],
         "x0": " ",
         "xaxis": "x",
         "y": [
          25.461,
          28.397,
          25.724,
          25.795,
          22.696,
          19.95,
          26.389,
          22.922,
          22.784,
          30.3,
          22.409,
          23.628,
          27.989,
          22.116,
          20.298,
          21.735,
          23.198,
          20.452,
          19.143,
          20.3,
          20.786,
          24.683,
          22.772,
          24.615,
          24.534,
          19.463,
          19.727,
          20.74,
          21.748,
          19.029,
          24.227,
          26.127,
          22.61,
          17.655,
          17.888,
          24.222,
          21.525,
          33.93,
          30.345,
          22.664,
          33.182,
          35.861,
          23.065,
          22.634,
          23.134,
          29.267,
          22.96,
          25.285,
          28.405,
          22.933,
          24.337,
          31.572,
          22.446
         ],
         "y0": " ",
         "yaxis": "y",
         "type": "box"
        },
        {
         "alignmentgroup": "True",
         "hovertemplate": "dia_semana=%{x}<br>consumo=%{y}<extra></extra>",
         "legendgroup": "4",
         "marker": {
          "color": "#EF553B"
         },
         "name": "4",
         "notched": true,
         "offsetgroup": "4",
         "orientation": "v",
         "showlegend": true,
         "x": [
          4,
          4,
          4,
          4,
          4,
          4,
          4,
          4,
          4,
          4,
          4,
          4,
          4,
          4,
          4,
          4,
          4,
          4,
          4,
          4,
          4,
          4,
          4,
          4,
          4,
          4,
          4,
          4,
          4,
          4,
          4,
          4,
          4,
          4,
          4,
          4,
          4,
          4,
          4,
          4,
          4,
          4,
          4,
          4,
          4,
          4,
          4,
          4,
          4,
          4,
          4
         ],
         "x0": " ",
         "xaxis": "x",
         "y": [
          28.972,
          29.938,
          21.784,
          26.845,
          22.821,
          24.219,
          24.567,
          26.241,
          22.654,
          21.281,
          24.213,
          24.974,
          24.867,
          24.862,
          21.593,
          24.388,
          17.939,
          18.146,
          20.538,
          20.429,
          21.245,
          25.142,
          22.375,
          16.748,
          21.86,
          14.94,
          25.698,
          22.032,
          21.104,
          24.726,
          26.58,
          25.479,
          23.243,
          22.217,
          19.345,
          21.454,
          26.311,
          29.411,
          27.488,
          23.849,
          27.387,
          26.594,
          31.649,
          20.575,
          28.647,
          20.332,
          28.979,
          29.513,
          30.74,
          27.042,
          26.308
         ],
         "y0": " ",
         "yaxis": "y",
         "type": "box"
        },
        {
         "alignmentgroup": "True",
         "hovertemplate": "dia_semana=%{x}<br>consumo=%{y}<extra></extra>",
         "legendgroup": "6",
         "marker": {
          "color": "#00cc96"
         },
         "name": "6",
         "notched": true,
         "offsetgroup": "6",
         "orientation": "v",
         "showlegend": true,
         "x": [
          6,
          6,
          6,
          6,
          6,
          6,
          6,
          6,
          6,
          6,
          6,
          6,
          6,
          6,
          6,
          6,
          6,
          6,
          6,
          6,
          6,
          6,
          6,
          6,
          6,
          6,
          6,
          6,
          6,
          6,
          6,
          6,
          6,
          6,
          6,
          6,
          6,
          6,
          6,
          6,
          6,
          6,
          6,
          6,
          6,
          6,
          6,
          6,
          6,
          6,
          6
         ],
         "x0": " ",
         "xaxis": "x",
         "y": [
          29.799,
          36.254,
          30.524,
          31.088,
          29.926,
          24.968,
          30.825,
          27.475,
          24.619,
          32.872,
          25.855,
          26.116,
          32.713,
          25.07,
          28.028,
          30.479,
          28.049,
          23.537,
          28.411,
          31.387,
          26.081,
          30.498,
          32.983,
          28.857,
          27.594,
          21.294,
          33.298,
          32.473,
          25.233,
          31.663,
          33.517,
          26.272,
          27.518,
          31.833,
          23.566,
          21.252,
          34.695,
          32.184,
          24.862,
          34.496,
          22.199,
          26.594,
          24.429,
          28.61,
          29.386,
          31.933,
          30.617,
          32.78,
          29.188,
          30.127,
          32.307
         ],
         "y0": " ",
         "yaxis": "y",
         "type": "box"
        },
        {
         "alignmentgroup": "True",
         "hovertemplate": "dia_semana=%{x}<br>consumo=%{y}<extra></extra>",
         "legendgroup": "0",
         "marker": {
          "color": "#ab63fa"
         },
         "name": "0",
         "notched": true,
         "offsetgroup": "0",
         "orientation": "v",
         "showlegend": true,
         "x": [
          0,
          0,
          0,
          0,
          0,
          0,
          0,
          0,
          0,
          0,
          0,
          0,
          0,
          0,
          0,
          0,
          0,
          0,
          0,
          0,
          0,
          0,
          0,
          0,
          0,
          0,
          0,
          0,
          0,
          0,
          0,
          0,
          0,
          0,
          0,
          0,
          0,
          0,
          0,
          0,
          0,
          0,
          0,
          0,
          0,
          0,
          0,
          0,
          0,
          0,
          0,
          0
         ],
         "x0": " ",
         "xaxis": "x",
         "y": [
          28.9,
          25.743,
          29.265,
          21.52,
          24.097,
          24.062,
          25.343,
          25.692,
          28.749,
          20.016,
          20.903,
          21.406,
          25.85,
          22.356,
          22.62,
          24.304,
          21.838,
          25.317,
          16.956,
          21.073,
          26.075,
          16.228,
          26.15,
          19.119,
          23.022,
          24.863,
          18.448,
          25.64,
          20.62,
          18.975,
          25.867,
          23.181,
          22.541,
          23.21,
          28.441,
          20.227,
          20.464,
          29.829,
          17.731,
          24.679,
          26.249,
          24.0,
          28.084,
          20.648,
          28.456,
          24.609,
          21.662,
          20.238,
          23.375,
          28.131,
          24.834,
          26.095
         ],
         "y0": " ",
         "yaxis": "y",
         "type": "box"
        },
        {
         "alignmentgroup": "True",
         "hovertemplate": "dia_semana=%{x}<br>consumo=%{y}<extra></extra>",
         "legendgroup": "1",
         "marker": {
          "color": "#FFA15A"
         },
         "name": "1",
         "notched": true,
         "offsetgroup": "1",
         "orientation": "v",
         "showlegend": true,
         "x": [
          1,
          1,
          1,
          1,
          1,
          1,
          1,
          1,
          1,
          1,
          1,
          1,
          1,
          1,
          1,
          1,
          1,
          1,
          1,
          1,
          1,
          1,
          1,
          1,
          1,
          1,
          1,
          1,
          1,
          1,
          1,
          1,
          1,
          1,
          1,
          1,
          1,
          1,
          1,
          1,
          1,
          1,
          1,
          1,
          1,
          1,
          1,
          1,
          1,
          1,
          1
         ],
         "x0": " ",
         "xaxis": "x",
         "y": [
          28.218,
          26.99,
          29.972,
          31.655,
          21.137,
          17.399,
          26.959,
          24.146,
          23.042,
          26.275,
          21.617,
          24.925,
          21.004,
          22.001,
          31.108,
          20.812,
          21.826,
          19.052,
          24.215,
          22.162,
          20.106,
          21.327,
          21.029,
          27.146,
          20.161,
          21.237,
          23.937,
          21.825,
          19.64,
          27.724,
          24.183,
          23.07,
          21.092,
          22.389,
          17.075,
          30.775,
          26.362,
          24.114,
          22.304,
          26.523,
          27.871,
          27.582,
          22.741,
          27.964,
          26.964,
          21.689,
          24.529,
          27.713,
          28.617,
          26.828,
          22.309
         ],
         "y0": " ",
         "yaxis": "y",
         "type": "box"
        },
        {
         "alignmentgroup": "True",
         "hovertemplate": "dia_semana=%{x}<br>consumo=%{y}<extra></extra>",
         "legendgroup": "2",
         "marker": {
          "color": "#19d3f3"
         },
         "name": "2",
         "notched": true,
         "offsetgroup": "2",
         "orientation": "v",
         "showlegend": true,
         "x": [
          2,
          2,
          2,
          2,
          2,
          2,
          2,
          2,
          2,
          2,
          2,
          2,
          2,
          2,
          2,
          2,
          2,
          2,
          2,
          2,
          2,
          2,
          2,
          2,
          2,
          2,
          2,
          2,
          2,
          2,
          2,
          2,
          2,
          2,
          2,
          2,
          2,
          2,
          2,
          2,
          2,
          2,
          2,
          2,
          2,
          2,
          2,
          2,
          2,
          2,
          2,
          2
         ],
         "x0": " ",
         "xaxis": "x",
         "y": [
          29.732,
          31.825,
          29.13,
          22.603,
          24.738,
          26.805,
          21.392,
          25.366,
          22.988,
          22.933,
          20.167,
          22.401,
          21.979,
          23.362,
          23.469,
          19.113,
          19.761,
          20.68,
          17.287,
          19.525,
          24.258,
          21.055,
          22.008,
          23.898,
          17.241,
          20.824,
          19.849,
          28.742,
          14.343,
          22.522,
          22.039,
          24.594,
          26.021,
          23.357,
          20.681,
          16.977,
          25.343,
          32.589,
          28.034,
          30.329,
          26.793,
          31.139,
          24.862,
          21.479,
          29.569,
          23.614,
          25.119,
          30.471,
          27.137,
          21.062,
          26.468,
          20.467
         ],
         "y0": " ",
         "yaxis": "y",
         "type": "box"
        },
        {
         "alignmentgroup": "True",
         "hovertemplate": "dia_semana=%{x}<br>consumo=%{y}<extra></extra>",
         "legendgroup": "5",
         "marker": {
          "color": "#FF6692"
         },
         "name": "5",
         "notched": true,
         "offsetgroup": "5",
         "orientation": "v",
         "showlegend": true,
         "x": [
          5,
          5,
          5,
          5,
          5,
          5,
          5,
          5,
          5,
          5,
          5,
          5,
          5,
          5,
          5,
          5,
          5,
          5,
          5,
          5,
          5,
          5,
          5,
          5,
          5,
          5,
          5,
          5,
          5,
          5,
          5,
          5,
          5,
          5,
          5,
          5,
          5,
          5,
          5,
          5,
          5,
          5,
          5,
          5,
          5,
          5,
          5,
          5,
          5,
          5,
          5
         ],
         "x0": " ",
         "xaxis": "x",
         "y": [
          37.937,
          37.69,
          28.348,
          27.03,
          28.893,
          30.231,
          30.943,
          26.467,
          29.09,
          28.844,
          28.631,
          29.76,
          33.45,
          30.505,
          33.822,
          27.42,
          25.272,
          25.489,
          23.702,
          27.25,
          25.937,
          31.129,
          29.607,
          23.055,
          24.227,
          24.632,
          26.691,
          24.827,
          20.738,
          32.467,
          31.31,
          29.621,
          30.177,
          31.681,
          21.827,
          21.814,
          31.836,
          29.637,
          24.876,
          33.33,
          32.666,
          27.657,
          35.781,
          24.33,
          26.836,
          30.392,
          34.382,
          32.451,
          29.579,
          32.536,
          21.955
         ],
         "y0": " ",
         "yaxis": "y",
         "type": "box"
        }
       ],
       "layout": {
        "template": {
         "data": {
          "histogram2dcontour": [
           {
            "type": "histogram2dcontour",
            "colorbar": {
             "outlinewidth": 0,
             "ticks": ""
            },
            "colorscale": [
             [
              0.0,
              "#0d0887"
             ],
             [
              0.1111111111111111,
              "#46039f"
             ],
             [
              0.2222222222222222,
              "#7201a8"
             ],
             [
              0.3333333333333333,
              "#9c179e"
             ],
             [
              0.4444444444444444,
              "#bd3786"
             ],
             [
              0.5555555555555556,
              "#d8576b"
             ],
             [
              0.6666666666666666,
              "#ed7953"
             ],
             [
              0.7777777777777778,
              "#fb9f3a"
             ],
             [
              0.8888888888888888,
              "#fdca26"
             ],
             [
              1.0,
              "#f0f921"
             ]
            ]
           }
          ],
          "choropleth": [
           {
            "type": "choropleth",
            "colorbar": {
             "outlinewidth": 0,
             "ticks": ""
            }
           }
          ],
          "histogram2d": [
           {
            "type": "histogram2d",
            "colorbar": {
             "outlinewidth": 0,
             "ticks": ""
            },
            "colorscale": [
             [
              0.0,
              "#0d0887"
             ],
             [
              0.1111111111111111,
              "#46039f"
             ],
             [
              0.2222222222222222,
              "#7201a8"
             ],
             [
              0.3333333333333333,
              "#9c179e"
             ],
             [
              0.4444444444444444,
              "#bd3786"
             ],
             [
              0.5555555555555556,
              "#d8576b"
             ],
             [
              0.6666666666666666,
              "#ed7953"
             ],
             [
              0.7777777777777778,
              "#fb9f3a"
             ],
             [
              0.8888888888888888,
              "#fdca26"
             ],
             [
              1.0,
              "#f0f921"
             ]
            ]
           }
          ],
          "heatmap": [
           {
            "type": "heatmap",
            "colorbar": {
             "outlinewidth": 0,
             "ticks": ""
            },
            "colorscale": [
             [
              0.0,
              "#0d0887"
             ],
             [
              0.1111111111111111,
              "#46039f"
             ],
             [
              0.2222222222222222,
              "#7201a8"
             ],
             [
              0.3333333333333333,
              "#9c179e"
             ],
             [
              0.4444444444444444,
              "#bd3786"
             ],
             [
              0.5555555555555556,
              "#d8576b"
             ],
             [
              0.6666666666666666,
              "#ed7953"
             ],
             [
              0.7777777777777778,
              "#fb9f3a"
             ],
             [
              0.8888888888888888,
              "#fdca26"
             ],
             [
              1.0,
              "#f0f921"
             ]
            ]
           }
          ],
          "heatmapgl": [
           {
            "type": "heatmapgl",
            "colorbar": {
             "outlinewidth": 0,
             "ticks": ""
            },
            "colorscale": [
             [
              0.0,
              "#0d0887"
             ],
             [
              0.1111111111111111,
              "#46039f"
             ],
             [
              0.2222222222222222,
              "#7201a8"
             ],
             [
              0.3333333333333333,
              "#9c179e"
             ],
             [
              0.4444444444444444,
              "#bd3786"
             ],
             [
              0.5555555555555556,
              "#d8576b"
             ],
             [
              0.6666666666666666,
              "#ed7953"
             ],
             [
              0.7777777777777778,
              "#fb9f3a"
             ],
             [
              0.8888888888888888,
              "#fdca26"
             ],
             [
              1.0,
              "#f0f921"
             ]
            ]
           }
          ],
          "contourcarpet": [
           {
            "type": "contourcarpet",
            "colorbar": {
             "outlinewidth": 0,
             "ticks": ""
            }
           }
          ],
          "contour": [
           {
            "type": "contour",
            "colorbar": {
             "outlinewidth": 0,
             "ticks": ""
            },
            "colorscale": [
             [
              0.0,
              "#0d0887"
             ],
             [
              0.1111111111111111,
              "#46039f"
             ],
             [
              0.2222222222222222,
              "#7201a8"
             ],
             [
              0.3333333333333333,
              "#9c179e"
             ],
             [
              0.4444444444444444,
              "#bd3786"
             ],
             [
              0.5555555555555556,
              "#d8576b"
             ],
             [
              0.6666666666666666,
              "#ed7953"
             ],
             [
              0.7777777777777778,
              "#fb9f3a"
             ],
             [
              0.8888888888888888,
              "#fdca26"
             ],
             [
              1.0,
              "#f0f921"
             ]
            ]
           }
          ],
          "surface": [
           {
            "type": "surface",
            "colorbar": {
             "outlinewidth": 0,
             "ticks": ""
            },
            "colorscale": [
             [
              0.0,
              "#0d0887"
             ],
             [
              0.1111111111111111,
              "#46039f"
             ],
             [
              0.2222222222222222,
              "#7201a8"
             ],
             [
              0.3333333333333333,
              "#9c179e"
             ],
             [
              0.4444444444444444,
              "#bd3786"
             ],
             [
              0.5555555555555556,
              "#d8576b"
             ],
             [
              0.6666666666666666,
              "#ed7953"
             ],
             [
              0.7777777777777778,
              "#fb9f3a"
             ],
             [
              0.8888888888888888,
              "#fdca26"
             ],
             [
              1.0,
              "#f0f921"
             ]
            ]
           }
          ],
          "mesh3d": [
           {
            "type": "mesh3d",
            "colorbar": {
             "outlinewidth": 0,
             "ticks": ""
            }
           }
          ],
          "scatter": [
           {
            "fillpattern": {
             "fillmode": "overlay",
             "size": 10,
             "solidity": 0.2
            },
            "type": "scatter"
           }
          ],
          "parcoords": [
           {
            "type": "parcoords",
            "line": {
             "colorbar": {
              "outlinewidth": 0,
              "ticks": ""
             }
            }
           }
          ],
          "scatterpolargl": [
           {
            "type": "scatterpolargl",
            "marker": {
             "colorbar": {
              "outlinewidth": 0,
              "ticks": ""
             }
            }
           }
          ],
          "bar": [
           {
            "error_x": {
             "color": "#2a3f5f"
            },
            "error_y": {
             "color": "#2a3f5f"
            },
            "marker": {
             "line": {
              "color": "#E5ECF6",
              "width": 0.5
             },
             "pattern": {
              "fillmode": "overlay",
              "size": 10,
              "solidity": 0.2
             }
            },
            "type": "bar"
           }
          ],
          "scattergeo": [
           {
            "type": "scattergeo",
            "marker": {
             "colorbar": {
              "outlinewidth": 0,
              "ticks": ""
             }
            }
           }
          ],
          "scatterpolar": [
           {
            "type": "scatterpolar",
            "marker": {
             "colorbar": {
              "outlinewidth": 0,
              "ticks": ""
             }
            }
           }
          ],
          "histogram": [
           {
            "marker": {
             "pattern": {
              "fillmode": "overlay",
              "size": 10,
              "solidity": 0.2
             }
            },
            "type": "histogram"
           }
          ],
          "scattergl": [
           {
            "type": "scattergl",
            "marker": {
             "colorbar": {
              "outlinewidth": 0,
              "ticks": ""
             }
            }
           }
          ],
          "scatter3d": [
           {
            "type": "scatter3d",
            "line": {
             "colorbar": {
              "outlinewidth": 0,
              "ticks": ""
             }
            },
            "marker": {
             "colorbar": {
              "outlinewidth": 0,
              "ticks": ""
             }
            }
           }
          ],
          "scattermapbox": [
           {
            "type": "scattermapbox",
            "marker": {
             "colorbar": {
              "outlinewidth": 0,
              "ticks": ""
             }
            }
           }
          ],
          "scatterternary": [
           {
            "type": "scatterternary",
            "marker": {
             "colorbar": {
              "outlinewidth": 0,
              "ticks": ""
             }
            }
           }
          ],
          "scattercarpet": [
           {
            "type": "scattercarpet",
            "marker": {
             "colorbar": {
              "outlinewidth": 0,
              "ticks": ""
             }
            }
           }
          ],
          "carpet": [
           {
            "aaxis": {
             "endlinecolor": "#2a3f5f",
             "gridcolor": "white",
             "linecolor": "white",
             "minorgridcolor": "white",
             "startlinecolor": "#2a3f5f"
            },
            "baxis": {
             "endlinecolor": "#2a3f5f",
             "gridcolor": "white",
             "linecolor": "white",
             "minorgridcolor": "white",
             "startlinecolor": "#2a3f5f"
            },
            "type": "carpet"
           }
          ],
          "table": [
           {
            "cells": {
             "fill": {
              "color": "#EBF0F8"
             },
             "line": {
              "color": "white"
             }
            },
            "header": {
             "fill": {
              "color": "#C8D4E3"
             },
             "line": {
              "color": "white"
             }
            },
            "type": "table"
           }
          ],
          "barpolar": [
           {
            "marker": {
             "line": {
              "color": "#E5ECF6",
              "width": 0.5
             },
             "pattern": {
              "fillmode": "overlay",
              "size": 10,
              "solidity": 0.2
             }
            },
            "type": "barpolar"
           }
          ],
          "pie": [
           {
            "automargin": true,
            "type": "pie"
           }
          ]
         },
         "layout": {
          "autotypenumbers": "strict",
          "colorway": [
           "#636efa",
           "#EF553B",
           "#00cc96",
           "#ab63fa",
           "#FFA15A",
           "#19d3f3",
           "#FF6692",
           "#B6E880",
           "#FF97FF",
           "#FECB52"
          ],
          "font": {
           "color": "#2a3f5f"
          },
          "hovermode": "closest",
          "hoverlabel": {
           "align": "left"
          },
          "paper_bgcolor": "white",
          "plot_bgcolor": "#E5ECF6",
          "polar": {
           "bgcolor": "#E5ECF6",
           "angularaxis": {
            "gridcolor": "white",
            "linecolor": "white",
            "ticks": ""
           },
           "radialaxis": {
            "gridcolor": "white",
            "linecolor": "white",
            "ticks": ""
           }
          },
          "ternary": {
           "bgcolor": "#E5ECF6",
           "aaxis": {
            "gridcolor": "white",
            "linecolor": "white",
            "ticks": ""
           },
           "baxis": {
            "gridcolor": "white",
            "linecolor": "white",
            "ticks": ""
           },
           "caxis": {
            "gridcolor": "white",
            "linecolor": "white",
            "ticks": ""
           }
          },
          "coloraxis": {
           "colorbar": {
            "outlinewidth": 0,
            "ticks": ""
           }
          },
          "colorscale": {
           "sequential": [
            [
             0.0,
             "#0d0887"
            ],
            [
             0.1111111111111111,
             "#46039f"
            ],
            [
             0.2222222222222222,
             "#7201a8"
            ],
            [
             0.3333333333333333,
             "#9c179e"
            ],
            [
             0.4444444444444444,
             "#bd3786"
            ],
            [
             0.5555555555555556,
             "#d8576b"
            ],
            [
             0.6666666666666666,
             "#ed7953"
            ],
            [
             0.7777777777777778,
             "#fb9f3a"
            ],
            [
             0.8888888888888888,
             "#fdca26"
            ],
            [
             1.0,
             "#f0f921"
            ]
           ],
           "sequentialminus": [
            [
             0.0,
             "#0d0887"
            ],
            [
             0.1111111111111111,
             "#46039f"
            ],
            [
             0.2222222222222222,
             "#7201a8"
            ],
            [
             0.3333333333333333,
             "#9c179e"
            ],
            [
             0.4444444444444444,
             "#bd3786"
            ],
            [
             0.5555555555555556,
             "#d8576b"
            ],
            [
             0.6666666666666666,
             "#ed7953"
            ],
            [
             0.7777777777777778,
             "#fb9f3a"
            ],
            [
             0.8888888888888888,
             "#fdca26"
            ],
            [
             1.0,
             "#f0f921"
            ]
           ],
           "diverging": [
            [
             0,
             "#8e0152"
            ],
            [
             0.1,
             "#c51b7d"
            ],
            [
             0.2,
             "#de77ae"
            ],
            [
             0.3,
             "#f1b6da"
            ],
            [
             0.4,
             "#fde0ef"
            ],
            [
             0.5,
             "#f7f7f7"
            ],
            [
             0.6,
             "#e6f5d0"
            ],
            [
             0.7,
             "#b8e186"
            ],
            [
             0.8,
             "#7fbc41"
            ],
            [
             0.9,
             "#4d9221"
            ],
            [
             1,
             "#276419"
            ]
           ]
          },
          "xaxis": {
           "gridcolor": "white",
           "linecolor": "white",
           "ticks": "",
           "title": {
            "standoff": 15
           },
           "zerolinecolor": "white",
           "automargin": true,
           "zerolinewidth": 2
          },
          "yaxis": {
           "gridcolor": "white",
           "linecolor": "white",
           "ticks": "",
           "title": {
            "standoff": 15
           },
           "zerolinecolor": "white",
           "automargin": true,
           "zerolinewidth": 2
          },
          "scene": {
           "xaxis": {
            "backgroundcolor": "#E5ECF6",
            "gridcolor": "white",
            "linecolor": "white",
            "showbackground": true,
            "ticks": "",
            "zerolinecolor": "white",
            "gridwidth": 2
           },
           "yaxis": {
            "backgroundcolor": "#E5ECF6",
            "gridcolor": "white",
            "linecolor": "white",
            "showbackground": true,
            "ticks": "",
            "zerolinecolor": "white",
            "gridwidth": 2
           },
           "zaxis": {
            "backgroundcolor": "#E5ECF6",
            "gridcolor": "white",
            "linecolor": "white",
            "showbackground": true,
            "ticks": "",
            "zerolinecolor": "white",
            "gridwidth": 2
           }
          },
          "shapedefaults": {
           "line": {
            "color": "#2a3f5f"
           }
          },
          "annotationdefaults": {
           "arrowcolor": "#2a3f5f",
           "arrowhead": 0,
           "arrowwidth": 1
          },
          "geo": {
           "bgcolor": "white",
           "landcolor": "#E5ECF6",
           "subunitcolor": "white",
           "showland": true,
           "showlakes": true,
           "lakecolor": "white"
          },
          "title": {
           "x": 0.05
          },
          "mapbox": {
           "style": "light"
          }
         }
        },
        "xaxis": {
         "anchor": "y",
         "domain": [
          0.0,
          1.0
         ],
         "title": {
          "text": "dia_semana"
         },
         "categoryorder": "array",
         "categoryarray": [
          3,
          4,
          6,
          0,
          1,
          2,
          5
         ]
        },
        "yaxis": {
         "anchor": "x",
         "domain": [
          0.0,
          1.0
         ],
         "title": {
          "text": "consumo"
         }
        },
        "legend": {
         "title": {
          "text": "dia_semana"
         },
         "tracegroupgap": 0
        },
        "title": {
         "text": "Consumo de cerveja por dia da semana"
        },
        "boxmode": "overlay"
       },
       "config": {
        "plotlyServerURL": "https://plot.ly"
       }
      },
      "text/html": "<div>                            <div id=\"337954a4-adf7-4790-91ba-2b4d9cde4ccc\" class=\"plotly-graph-div\" style=\"height:525px; width:100%;\"></div>            <script type=\"text/javascript\">                require([\"plotly\"], function(Plotly) {                    window.PLOTLYENV=window.PLOTLYENV || {};                                    if (document.getElementById(\"337954a4-adf7-4790-91ba-2b4d9cde4ccc\")) {                    Plotly.newPlot(                        \"337954a4-adf7-4790-91ba-2b4d9cde4ccc\",                        [{\"alignmentgroup\":\"True\",\"hovertemplate\":\"dia_semana=%{x}<br>consumo=%{y}<extra></extra>\",\"legendgroup\":\"3\",\"marker\":{\"color\":\"#636efa\"},\"name\":\"3\",\"notched\":true,\"offsetgroup\":\"3\",\"orientation\":\"v\",\"showlegend\":true,\"x\":[3,3,3,3,3,3,3,3,3,3,3,3,3,3,3,3,3,3,3,3,3,3,3,3,3,3,3,3,3,3,3,3,3,3,3,3,3,3,3,3,3,3,3,3,3,3,3,3,3,3,3,3,3],\"x0\":\" \",\"xaxis\":\"x\",\"y\":[25.461,28.397,25.724,25.795,22.696,19.95,26.389,22.922,22.784,30.3,22.409,23.628,27.989,22.116,20.298,21.735,23.198,20.452,19.143,20.3,20.786,24.683,22.772,24.615,24.534,19.463,19.727,20.74,21.748,19.029,24.227,26.127,22.61,17.655,17.888,24.222,21.525,33.93,30.345,22.664,33.182,35.861,23.065,22.634,23.134,29.267,22.96,25.285,28.405,22.933,24.337,31.572,22.446],\"y0\":\" \",\"yaxis\":\"y\",\"type\":\"box\"},{\"alignmentgroup\":\"True\",\"hovertemplate\":\"dia_semana=%{x}<br>consumo=%{y}<extra></extra>\",\"legendgroup\":\"4\",\"marker\":{\"color\":\"#EF553B\"},\"name\":\"4\",\"notched\":true,\"offsetgroup\":\"4\",\"orientation\":\"v\",\"showlegend\":true,\"x\":[4,4,4,4,4,4,4,4,4,4,4,4,4,4,4,4,4,4,4,4,4,4,4,4,4,4,4,4,4,4,4,4,4,4,4,4,4,4,4,4,4,4,4,4,4,4,4,4,4,4,4],\"x0\":\" \",\"xaxis\":\"x\",\"y\":[28.972,29.938,21.784,26.845,22.821,24.219,24.567,26.241,22.654,21.281,24.213,24.974,24.867,24.862,21.593,24.388,17.939,18.146,20.538,20.429,21.245,25.142,22.375,16.748,21.86,14.94,25.698,22.032,21.104,24.726,26.58,25.479,23.243,22.217,19.345,21.454,26.311,29.411,27.488,23.849,27.387,26.594,31.649,20.575,28.647,20.332,28.979,29.513,30.74,27.042,26.308],\"y0\":\" \",\"yaxis\":\"y\",\"type\":\"box\"},{\"alignmentgroup\":\"True\",\"hovertemplate\":\"dia_semana=%{x}<br>consumo=%{y}<extra></extra>\",\"legendgroup\":\"6\",\"marker\":{\"color\":\"#00cc96\"},\"name\":\"6\",\"notched\":true,\"offsetgroup\":\"6\",\"orientation\":\"v\",\"showlegend\":true,\"x\":[6,6,6,6,6,6,6,6,6,6,6,6,6,6,6,6,6,6,6,6,6,6,6,6,6,6,6,6,6,6,6,6,6,6,6,6,6,6,6,6,6,6,6,6,6,6,6,6,6,6,6],\"x0\":\" \",\"xaxis\":\"x\",\"y\":[29.799,36.254,30.524,31.088,29.926,24.968,30.825,27.475,24.619,32.872,25.855,26.116,32.713,25.07,28.028,30.479,28.049,23.537,28.411,31.387,26.081,30.498,32.983,28.857,27.594,21.294,33.298,32.473,25.233,31.663,33.517,26.272,27.518,31.833,23.566,21.252,34.695,32.184,24.862,34.496,22.199,26.594,24.429,28.61,29.386,31.933,30.617,32.78,29.188,30.127,32.307],\"y0\":\" \",\"yaxis\":\"y\",\"type\":\"box\"},{\"alignmentgroup\":\"True\",\"hovertemplate\":\"dia_semana=%{x}<br>consumo=%{y}<extra></extra>\",\"legendgroup\":\"0\",\"marker\":{\"color\":\"#ab63fa\"},\"name\":\"0\",\"notched\":true,\"offsetgroup\":\"0\",\"orientation\":\"v\",\"showlegend\":true,\"x\":[0,0,0,0,0,0,0,0,0,0,0,0,0,0,0,0,0,0,0,0,0,0,0,0,0,0,0,0,0,0,0,0,0,0,0,0,0,0,0,0,0,0,0,0,0,0,0,0,0,0,0,0],\"x0\":\" \",\"xaxis\":\"x\",\"y\":[28.9,25.743,29.265,21.52,24.097,24.062,25.343,25.692,28.749,20.016,20.903,21.406,25.85,22.356,22.62,24.304,21.838,25.317,16.956,21.073,26.075,16.228,26.15,19.119,23.022,24.863,18.448,25.64,20.62,18.975,25.867,23.181,22.541,23.21,28.441,20.227,20.464,29.829,17.731,24.679,26.249,24.0,28.084,20.648,28.456,24.609,21.662,20.238,23.375,28.131,24.834,26.095],\"y0\":\" \",\"yaxis\":\"y\",\"type\":\"box\"},{\"alignmentgroup\":\"True\",\"hovertemplate\":\"dia_semana=%{x}<br>consumo=%{y}<extra></extra>\",\"legendgroup\":\"1\",\"marker\":{\"color\":\"#FFA15A\"},\"name\":\"1\",\"notched\":true,\"offsetgroup\":\"1\",\"orientation\":\"v\",\"showlegend\":true,\"x\":[1,1,1,1,1,1,1,1,1,1,1,1,1,1,1,1,1,1,1,1,1,1,1,1,1,1,1,1,1,1,1,1,1,1,1,1,1,1,1,1,1,1,1,1,1,1,1,1,1,1,1],\"x0\":\" \",\"xaxis\":\"x\",\"y\":[28.218,26.99,29.972,31.655,21.137,17.399,26.959,24.146,23.042,26.275,21.617,24.925,21.004,22.001,31.108,20.812,21.826,19.052,24.215,22.162,20.106,21.327,21.029,27.146,20.161,21.237,23.937,21.825,19.64,27.724,24.183,23.07,21.092,22.389,17.075,30.775,26.362,24.114,22.304,26.523,27.871,27.582,22.741,27.964,26.964,21.689,24.529,27.713,28.617,26.828,22.309],\"y0\":\" \",\"yaxis\":\"y\",\"type\":\"box\"},{\"alignmentgroup\":\"True\",\"hovertemplate\":\"dia_semana=%{x}<br>consumo=%{y}<extra></extra>\",\"legendgroup\":\"2\",\"marker\":{\"color\":\"#19d3f3\"},\"name\":\"2\",\"notched\":true,\"offsetgroup\":\"2\",\"orientation\":\"v\",\"showlegend\":true,\"x\":[2,2,2,2,2,2,2,2,2,2,2,2,2,2,2,2,2,2,2,2,2,2,2,2,2,2,2,2,2,2,2,2,2,2,2,2,2,2,2,2,2,2,2,2,2,2,2,2,2,2,2,2],\"x0\":\" \",\"xaxis\":\"x\",\"y\":[29.732,31.825,29.13,22.603,24.738,26.805,21.392,25.366,22.988,22.933,20.167,22.401,21.979,23.362,23.469,19.113,19.761,20.68,17.287,19.525,24.258,21.055,22.008,23.898,17.241,20.824,19.849,28.742,14.343,22.522,22.039,24.594,26.021,23.357,20.681,16.977,25.343,32.589,28.034,30.329,26.793,31.139,24.862,21.479,29.569,23.614,25.119,30.471,27.137,21.062,26.468,20.467],\"y0\":\" \",\"yaxis\":\"y\",\"type\":\"box\"},{\"alignmentgroup\":\"True\",\"hovertemplate\":\"dia_semana=%{x}<br>consumo=%{y}<extra></extra>\",\"legendgroup\":\"5\",\"marker\":{\"color\":\"#FF6692\"},\"name\":\"5\",\"notched\":true,\"offsetgroup\":\"5\",\"orientation\":\"v\",\"showlegend\":true,\"x\":[5,5,5,5,5,5,5,5,5,5,5,5,5,5,5,5,5,5,5,5,5,5,5,5,5,5,5,5,5,5,5,5,5,5,5,5,5,5,5,5,5,5,5,5,5,5,5,5,5,5,5],\"x0\":\" \",\"xaxis\":\"x\",\"y\":[37.937,37.69,28.348,27.03,28.893,30.231,30.943,26.467,29.09,28.844,28.631,29.76,33.45,30.505,33.822,27.42,25.272,25.489,23.702,27.25,25.937,31.129,29.607,23.055,24.227,24.632,26.691,24.827,20.738,32.467,31.31,29.621,30.177,31.681,21.827,21.814,31.836,29.637,24.876,33.33,32.666,27.657,35.781,24.33,26.836,30.392,34.382,32.451,29.579,32.536,21.955],\"y0\":\" \",\"yaxis\":\"y\",\"type\":\"box\"}],                        {\"template\":{\"data\":{\"histogram2dcontour\":[{\"type\":\"histogram2dcontour\",\"colorbar\":{\"outlinewidth\":0,\"ticks\":\"\"},\"colorscale\":[[0.0,\"#0d0887\"],[0.1111111111111111,\"#46039f\"],[0.2222222222222222,\"#7201a8\"],[0.3333333333333333,\"#9c179e\"],[0.4444444444444444,\"#bd3786\"],[0.5555555555555556,\"#d8576b\"],[0.6666666666666666,\"#ed7953\"],[0.7777777777777778,\"#fb9f3a\"],[0.8888888888888888,\"#fdca26\"],[1.0,\"#f0f921\"]]}],\"choropleth\":[{\"type\":\"choropleth\",\"colorbar\":{\"outlinewidth\":0,\"ticks\":\"\"}}],\"histogram2d\":[{\"type\":\"histogram2d\",\"colorbar\":{\"outlinewidth\":0,\"ticks\":\"\"},\"colorscale\":[[0.0,\"#0d0887\"],[0.1111111111111111,\"#46039f\"],[0.2222222222222222,\"#7201a8\"],[0.3333333333333333,\"#9c179e\"],[0.4444444444444444,\"#bd3786\"],[0.5555555555555556,\"#d8576b\"],[0.6666666666666666,\"#ed7953\"],[0.7777777777777778,\"#fb9f3a\"],[0.8888888888888888,\"#fdca26\"],[1.0,\"#f0f921\"]]}],\"heatmap\":[{\"type\":\"heatmap\",\"colorbar\":{\"outlinewidth\":0,\"ticks\":\"\"},\"colorscale\":[[0.0,\"#0d0887\"],[0.1111111111111111,\"#46039f\"],[0.2222222222222222,\"#7201a8\"],[0.3333333333333333,\"#9c179e\"],[0.4444444444444444,\"#bd3786\"],[0.5555555555555556,\"#d8576b\"],[0.6666666666666666,\"#ed7953\"],[0.7777777777777778,\"#fb9f3a\"],[0.8888888888888888,\"#fdca26\"],[1.0,\"#f0f921\"]]}],\"heatmapgl\":[{\"type\":\"heatmapgl\",\"colorbar\":{\"outlinewidth\":0,\"ticks\":\"\"},\"colorscale\":[[0.0,\"#0d0887\"],[0.1111111111111111,\"#46039f\"],[0.2222222222222222,\"#7201a8\"],[0.3333333333333333,\"#9c179e\"],[0.4444444444444444,\"#bd3786\"],[0.5555555555555556,\"#d8576b\"],[0.6666666666666666,\"#ed7953\"],[0.7777777777777778,\"#fb9f3a\"],[0.8888888888888888,\"#fdca26\"],[1.0,\"#f0f921\"]]}],\"contourcarpet\":[{\"type\":\"contourcarpet\",\"colorbar\":{\"outlinewidth\":0,\"ticks\":\"\"}}],\"contour\":[{\"type\":\"contour\",\"colorbar\":{\"outlinewidth\":0,\"ticks\":\"\"},\"colorscale\":[[0.0,\"#0d0887\"],[0.1111111111111111,\"#46039f\"],[0.2222222222222222,\"#7201a8\"],[0.3333333333333333,\"#9c179e\"],[0.4444444444444444,\"#bd3786\"],[0.5555555555555556,\"#d8576b\"],[0.6666666666666666,\"#ed7953\"],[0.7777777777777778,\"#fb9f3a\"],[0.8888888888888888,\"#fdca26\"],[1.0,\"#f0f921\"]]}],\"surface\":[{\"type\":\"surface\",\"colorbar\":{\"outlinewidth\":0,\"ticks\":\"\"},\"colorscale\":[[0.0,\"#0d0887\"],[0.1111111111111111,\"#46039f\"],[0.2222222222222222,\"#7201a8\"],[0.3333333333333333,\"#9c179e\"],[0.4444444444444444,\"#bd3786\"],[0.5555555555555556,\"#d8576b\"],[0.6666666666666666,\"#ed7953\"],[0.7777777777777778,\"#fb9f3a\"],[0.8888888888888888,\"#fdca26\"],[1.0,\"#f0f921\"]]}],\"mesh3d\":[{\"type\":\"mesh3d\",\"colorbar\":{\"outlinewidth\":0,\"ticks\":\"\"}}],\"scatter\":[{\"fillpattern\":{\"fillmode\":\"overlay\",\"size\":10,\"solidity\":0.2},\"type\":\"scatter\"}],\"parcoords\":[{\"type\":\"parcoords\",\"line\":{\"colorbar\":{\"outlinewidth\":0,\"ticks\":\"\"}}}],\"scatterpolargl\":[{\"type\":\"scatterpolargl\",\"marker\":{\"colorbar\":{\"outlinewidth\":0,\"ticks\":\"\"}}}],\"bar\":[{\"error_x\":{\"color\":\"#2a3f5f\"},\"error_y\":{\"color\":\"#2a3f5f\"},\"marker\":{\"line\":{\"color\":\"#E5ECF6\",\"width\":0.5},\"pattern\":{\"fillmode\":\"overlay\",\"size\":10,\"solidity\":0.2}},\"type\":\"bar\"}],\"scattergeo\":[{\"type\":\"scattergeo\",\"marker\":{\"colorbar\":{\"outlinewidth\":0,\"ticks\":\"\"}}}],\"scatterpolar\":[{\"type\":\"scatterpolar\",\"marker\":{\"colorbar\":{\"outlinewidth\":0,\"ticks\":\"\"}}}],\"histogram\":[{\"marker\":{\"pattern\":{\"fillmode\":\"overlay\",\"size\":10,\"solidity\":0.2}},\"type\":\"histogram\"}],\"scattergl\":[{\"type\":\"scattergl\",\"marker\":{\"colorbar\":{\"outlinewidth\":0,\"ticks\":\"\"}}}],\"scatter3d\":[{\"type\":\"scatter3d\",\"line\":{\"colorbar\":{\"outlinewidth\":0,\"ticks\":\"\"}},\"marker\":{\"colorbar\":{\"outlinewidth\":0,\"ticks\":\"\"}}}],\"scattermapbox\":[{\"type\":\"scattermapbox\",\"marker\":{\"colorbar\":{\"outlinewidth\":0,\"ticks\":\"\"}}}],\"scatterternary\":[{\"type\":\"scatterternary\",\"marker\":{\"colorbar\":{\"outlinewidth\":0,\"ticks\":\"\"}}}],\"scattercarpet\":[{\"type\":\"scattercarpet\",\"marker\":{\"colorbar\":{\"outlinewidth\":0,\"ticks\":\"\"}}}],\"carpet\":[{\"aaxis\":{\"endlinecolor\":\"#2a3f5f\",\"gridcolor\":\"white\",\"linecolor\":\"white\",\"minorgridcolor\":\"white\",\"startlinecolor\":\"#2a3f5f\"},\"baxis\":{\"endlinecolor\":\"#2a3f5f\",\"gridcolor\":\"white\",\"linecolor\":\"white\",\"minorgridcolor\":\"white\",\"startlinecolor\":\"#2a3f5f\"},\"type\":\"carpet\"}],\"table\":[{\"cells\":{\"fill\":{\"color\":\"#EBF0F8\"},\"line\":{\"color\":\"white\"}},\"header\":{\"fill\":{\"color\":\"#C8D4E3\"},\"line\":{\"color\":\"white\"}},\"type\":\"table\"}],\"barpolar\":[{\"marker\":{\"line\":{\"color\":\"#E5ECF6\",\"width\":0.5},\"pattern\":{\"fillmode\":\"overlay\",\"size\":10,\"solidity\":0.2}},\"type\":\"barpolar\"}],\"pie\":[{\"automargin\":true,\"type\":\"pie\"}]},\"layout\":{\"autotypenumbers\":\"strict\",\"colorway\":[\"#636efa\",\"#EF553B\",\"#00cc96\",\"#ab63fa\",\"#FFA15A\",\"#19d3f3\",\"#FF6692\",\"#B6E880\",\"#FF97FF\",\"#FECB52\"],\"font\":{\"color\":\"#2a3f5f\"},\"hovermode\":\"closest\",\"hoverlabel\":{\"align\":\"left\"},\"paper_bgcolor\":\"white\",\"plot_bgcolor\":\"#E5ECF6\",\"polar\":{\"bgcolor\":\"#E5ECF6\",\"angularaxis\":{\"gridcolor\":\"white\",\"linecolor\":\"white\",\"ticks\":\"\"},\"radialaxis\":{\"gridcolor\":\"white\",\"linecolor\":\"white\",\"ticks\":\"\"}},\"ternary\":{\"bgcolor\":\"#E5ECF6\",\"aaxis\":{\"gridcolor\":\"white\",\"linecolor\":\"white\",\"ticks\":\"\"},\"baxis\":{\"gridcolor\":\"white\",\"linecolor\":\"white\",\"ticks\":\"\"},\"caxis\":{\"gridcolor\":\"white\",\"linecolor\":\"white\",\"ticks\":\"\"}},\"coloraxis\":{\"colorbar\":{\"outlinewidth\":0,\"ticks\":\"\"}},\"colorscale\":{\"sequential\":[[0.0,\"#0d0887\"],[0.1111111111111111,\"#46039f\"],[0.2222222222222222,\"#7201a8\"],[0.3333333333333333,\"#9c179e\"],[0.4444444444444444,\"#bd3786\"],[0.5555555555555556,\"#d8576b\"],[0.6666666666666666,\"#ed7953\"],[0.7777777777777778,\"#fb9f3a\"],[0.8888888888888888,\"#fdca26\"],[1.0,\"#f0f921\"]],\"sequentialminus\":[[0.0,\"#0d0887\"],[0.1111111111111111,\"#46039f\"],[0.2222222222222222,\"#7201a8\"],[0.3333333333333333,\"#9c179e\"],[0.4444444444444444,\"#bd3786\"],[0.5555555555555556,\"#d8576b\"],[0.6666666666666666,\"#ed7953\"],[0.7777777777777778,\"#fb9f3a\"],[0.8888888888888888,\"#fdca26\"],[1.0,\"#f0f921\"]],\"diverging\":[[0,\"#8e0152\"],[0.1,\"#c51b7d\"],[0.2,\"#de77ae\"],[0.3,\"#f1b6da\"],[0.4,\"#fde0ef\"],[0.5,\"#f7f7f7\"],[0.6,\"#e6f5d0\"],[0.7,\"#b8e186\"],[0.8,\"#7fbc41\"],[0.9,\"#4d9221\"],[1,\"#276419\"]]},\"xaxis\":{\"gridcolor\":\"white\",\"linecolor\":\"white\",\"ticks\":\"\",\"title\":{\"standoff\":15},\"zerolinecolor\":\"white\",\"automargin\":true,\"zerolinewidth\":2},\"yaxis\":{\"gridcolor\":\"white\",\"linecolor\":\"white\",\"ticks\":\"\",\"title\":{\"standoff\":15},\"zerolinecolor\":\"white\",\"automargin\":true,\"zerolinewidth\":2},\"scene\":{\"xaxis\":{\"backgroundcolor\":\"#E5ECF6\",\"gridcolor\":\"white\",\"linecolor\":\"white\",\"showbackground\":true,\"ticks\":\"\",\"zerolinecolor\":\"white\",\"gridwidth\":2},\"yaxis\":{\"backgroundcolor\":\"#E5ECF6\",\"gridcolor\":\"white\",\"linecolor\":\"white\",\"showbackground\":true,\"ticks\":\"\",\"zerolinecolor\":\"white\",\"gridwidth\":2},\"zaxis\":{\"backgroundcolor\":\"#E5ECF6\",\"gridcolor\":\"white\",\"linecolor\":\"white\",\"showbackground\":true,\"ticks\":\"\",\"zerolinecolor\":\"white\",\"gridwidth\":2}},\"shapedefaults\":{\"line\":{\"color\":\"#2a3f5f\"}},\"annotationdefaults\":{\"arrowcolor\":\"#2a3f5f\",\"arrowhead\":0,\"arrowwidth\":1},\"geo\":{\"bgcolor\":\"white\",\"landcolor\":\"#E5ECF6\",\"subunitcolor\":\"white\",\"showland\":true,\"showlakes\":true,\"lakecolor\":\"white\"},\"title\":{\"x\":0.05},\"mapbox\":{\"style\":\"light\"}}},\"xaxis\":{\"anchor\":\"y\",\"domain\":[0.0,1.0],\"title\":{\"text\":\"dia_semana\"},\"categoryorder\":\"array\",\"categoryarray\":[3,4,6,0,1,2,5]},\"yaxis\":{\"anchor\":\"x\",\"domain\":[0.0,1.0],\"title\":{\"text\":\"consumo\"}},\"legend\":{\"title\":{\"text\":\"dia_semana\"},\"tracegroupgap\":0},\"title\":{\"text\":\"Consumo de cerveja por dia da semana\"},\"boxmode\":\"overlay\"},                        {\"responsive\": true}                    ).then(function(){\n                            \nvar gd = document.getElementById('337954a4-adf7-4790-91ba-2b4d9cde4ccc');\nvar x = new MutationObserver(function (mutations, observer) {{\n        var display = window.getComputedStyle(gd).display;\n        if (!display || display === 'none') {{\n            console.log([gd, 'removed!']);\n            Plotly.purge(gd);\n            observer.disconnect();\n        }}\n}});\n\n// Listen for the removal of the full notebook cells\nvar notebookContainer = gd.closest('#notebook-container');\nif (notebookContainer) {{\n    x.observe(notebookContainer, {childList: true});\n}}\n\n// Listen for the clearing of the current output cell\nvar outputEl = gd.closest('.output');\nif (outputEl) {{\n    x.observe(outputEl, {childList: true});\n}}\n\n                        })                };                });            </script>        </div>"
     },
     "metadata": {},
     "output_type": "display_data"
    }
   ],
   "source": [
    "# Consumo em cada dia da semana\n",
    "\n",
    "import plotly.express as px\n",
    "\n",
    "grafico = px.box(df, x=\"dia_semana\", y=\"consumo\", color=\"dia_semana\", orientation='v',\n",
    "                 title=\"Consumo de cerveja por dia da semana\", notched=True)\n",
    "grafico.show()"
   ],
   "metadata": {
    "collapsed": false,
    "ExecuteTime": {
     "end_time": "2024-03-23T00:36:03.180808Z",
     "start_time": "2024-03-23T00:36:03.131905Z"
    }
   },
   "id": "28c06137015fae51",
   "execution_count": 132
  },
  {
   "cell_type": "code",
   "outputs": [
    {
     "data": {
      "text/plain": "<Figure size 640x480 with 1 Axes>",
      "image/png": "[encoded data removed]"
     },
     "metadata": {},
     "output_type": "display_data"
    }
   ],
   "source": [
    "import matplotlib.pyplot as plt\n",
    "\n",
    "# 0 na Segunda - 6 Domingo\n",
    "\n",
    "#Consumo por dia da semana:\n",
    "\n",
    "consumo_dia_semana = df.groupby('dia_semana', as_index = False).consumo.sum()\n",
    "\n",
    "consumo_dia_semana.dia_semana = consumo_dia_semana.dia_semana.map({0: 'Segunda',\n",
    "                                   1: 'Terça',\n",
    "                                   2: 'Quarta',\n",
    "                                   3: 'Quinta',\n",
    "                                   4: 'Sexta',\n",
    "                                   5: 'Sábado',\n",
    "                                   6: 'Domingo'})\n",
    "\n",
    "fig, ax = plt.subplots( )\n",
    "ax.bar(x = consumo_dia_semana.dia_semana.values, height = consumo_dia_semana.consumo.values)\n",
    "ax.set_title('Consumo Cerveja por Dia da Semana')\n",
    "plt.show()"
   ],
   "metadata": {
    "collapsed": false,
    "ExecuteTime": {
     "end_time": "2024-03-23T00:40:29.614918Z",
     "start_time": "2024-03-23T00:40:29.502325Z"
    }
   },
   "id": "450e87da2811b227",
   "execution_count": 135
  },
  {
   "cell_type": "code",
   "outputs": [],
   "source": [],
   "metadata": {
    "collapsed": false
   },
   "id": "8a556da9db2e6e33"
  }
 ],
 "metadata": {
  "kernelspec": {
   "display_name": "Python 3",
   "language": "python",
   "name": "python3"
  },
  "language_info": {
   "codemirror_mode": {
    "name": "ipython",
    "version": 2
   },
   "file_extension": ".py",
   "mimetype": "text/x-python",
   "name": "python",
   "nbconvert_exporter": "python",
   "pygments_lexer": "ipython2",
   "version": "2.7.6"
  }
 },
 "nbformat": 4,
 "nbformat_minor": 5
}
