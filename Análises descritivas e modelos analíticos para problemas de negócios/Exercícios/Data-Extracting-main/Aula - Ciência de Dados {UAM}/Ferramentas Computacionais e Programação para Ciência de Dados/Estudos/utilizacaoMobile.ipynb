{
 "cells": [
  {
   "cell_type": "code",
   "execution_count": 10,
   "id": "initial_id",
   "metadata": {
    "collapsed": true,
    "ExecuteTime": {
     "end_time": "2024-03-24T23:44:46.708918Z",
     "start_time": "2024-03-24T23:44:46.704918Z"
    }
   },
   "outputs": [],
   "source": [
    "import pandas as pd\n",
    "import xlrd"
   ]
  },
  {
   "cell_type": "code",
   "outputs": [
    {
     "name": "stdout",
     "output_type": "stream",
     "text": [
      "<class 'pandas.core.frame.DataFrame'>\n",
      "RangeIndex: 16 entries, 0 to 15\n",
      "Data columns (total 1 columns):\n",
      " #   Column                                       Non-Null Count  Dtype \n",
      "---  ------                                       --------------  ----- \n",
      " 0   PESQUISA NACIONAL POR AMOSTRA DE DOMICÍLIOS  6 non-null      object\n",
      "dtypes: object(1)\n",
      "memory usage: 260.0+ bytes\n"
     ]
    },
    {
     "ename": "ValueError",
     "evalue": "Worksheet named 'Tabela' not found",
     "output_type": "error",
     "traceback": [
      "\u001B[1;31m---------------------------------------------------------------------------\u001B[0m",
      "\u001B[1;31mValueError\u001B[0m                                Traceback (most recent call last)",
      "Cell \u001B[1;32mIn[17], line 4\u001B[0m\n\u001B[0;32m      1\u001B[0m df \u001B[38;5;241m=\u001B[39m pd\u001B[38;5;241m.\u001B[39mread_excel(\u001B[38;5;124m\"\u001B[39m\u001B[38;5;124m01_Utilizacao_da_Internet.xlsx\u001B[39m\u001B[38;5;124m\"\u001B[39m)\n\u001B[0;32m      2\u001B[0m df\u001B[38;5;241m.\u001B[39minfo()\n\u001B[1;32m----> 4\u001B[0m pd\u001B[38;5;241m.\u001B[39mread_excel(\u001B[38;5;28mopen\u001B[39m(\u001B[38;5;124m'\u001B[39m\u001B[38;5;124m01_Utilizacao_da_Internet.xlsx\u001B[39m\u001B[38;5;124m'\u001B[39m, \u001B[38;5;124m'\u001B[39m\u001B[38;5;124mrb\u001B[39m\u001B[38;5;124m'\u001B[39m),\n\u001B[0;32m      5\u001B[0m               sheet_name\u001B[38;5;241m=\u001B[39m\u001B[38;5;124m'\u001B[39m\u001B[38;5;124mTabela\u001B[39m\u001B[38;5;124m'\u001B[39m)\n",
      "File \u001B[1;32m~\\anaconda3\\Lib\\site-packages\\pandas\\io\\excel\\_base.py:517\u001B[0m, in \u001B[0;36mread_excel\u001B[1;34m(io, sheet_name, header, names, index_col, usecols, dtype, engine, converters, true_values, false_values, skiprows, nrows, na_values, keep_default_na, na_filter, verbose, parse_dates, date_parser, date_format, thousands, decimal, comment, skipfooter, storage_options, dtype_backend, engine_kwargs)\u001B[0m\n\u001B[0;32m    511\u001B[0m     \u001B[38;5;28;01mraise\u001B[39;00m \u001B[38;5;167;01mValueError\u001B[39;00m(\n\u001B[0;32m    512\u001B[0m         \u001B[38;5;124m\"\u001B[39m\u001B[38;5;124mEngine should not be specified when passing \u001B[39m\u001B[38;5;124m\"\u001B[39m\n\u001B[0;32m    513\u001B[0m         \u001B[38;5;124m\"\u001B[39m\u001B[38;5;124man ExcelFile - ExcelFile already has the engine set\u001B[39m\u001B[38;5;124m\"\u001B[39m\n\u001B[0;32m    514\u001B[0m     )\n\u001B[0;32m    516\u001B[0m \u001B[38;5;28;01mtry\u001B[39;00m:\n\u001B[1;32m--> 517\u001B[0m     data \u001B[38;5;241m=\u001B[39m io\u001B[38;5;241m.\u001B[39mparse(\n\u001B[0;32m    518\u001B[0m         sheet_name\u001B[38;5;241m=\u001B[39msheet_name,\n\u001B[0;32m    519\u001B[0m         header\u001B[38;5;241m=\u001B[39mheader,\n\u001B[0;32m    520\u001B[0m         names\u001B[38;5;241m=\u001B[39mnames,\n\u001B[0;32m    521\u001B[0m         index_col\u001B[38;5;241m=\u001B[39mindex_col,\n\u001B[0;32m    522\u001B[0m         usecols\u001B[38;5;241m=\u001B[39musecols,\n\u001B[0;32m    523\u001B[0m         dtype\u001B[38;5;241m=\u001B[39mdtype,\n\u001B[0;32m    524\u001B[0m         converters\u001B[38;5;241m=\u001B[39mconverters,\n\u001B[0;32m    525\u001B[0m         true_values\u001B[38;5;241m=\u001B[39mtrue_values,\n\u001B[0;32m    526\u001B[0m         false_values\u001B[38;5;241m=\u001B[39mfalse_values,\n\u001B[0;32m    527\u001B[0m         skiprows\u001B[38;5;241m=\u001B[39mskiprows,\n\u001B[0;32m    528\u001B[0m         nrows\u001B[38;5;241m=\u001B[39mnrows,\n\u001B[0;32m    529\u001B[0m         na_values\u001B[38;5;241m=\u001B[39mna_values,\n\u001B[0;32m    530\u001B[0m         keep_default_na\u001B[38;5;241m=\u001B[39mkeep_default_na,\n\u001B[0;32m    531\u001B[0m         na_filter\u001B[38;5;241m=\u001B[39mna_filter,\n\u001B[0;32m    532\u001B[0m         verbose\u001B[38;5;241m=\u001B[39mverbose,\n\u001B[0;32m    533\u001B[0m         parse_dates\u001B[38;5;241m=\u001B[39mparse_dates,\n\u001B[0;32m    534\u001B[0m         date_parser\u001B[38;5;241m=\u001B[39mdate_parser,\n\u001B[0;32m    535\u001B[0m         date_format\u001B[38;5;241m=\u001B[39mdate_format,\n\u001B[0;32m    536\u001B[0m         thousands\u001B[38;5;241m=\u001B[39mthousands,\n\u001B[0;32m    537\u001B[0m         decimal\u001B[38;5;241m=\u001B[39mdecimal,\n\u001B[0;32m    538\u001B[0m         comment\u001B[38;5;241m=\u001B[39mcomment,\n\u001B[0;32m    539\u001B[0m         skipfooter\u001B[38;5;241m=\u001B[39mskipfooter,\n\u001B[0;32m    540\u001B[0m         dtype_backend\u001B[38;5;241m=\u001B[39mdtype_backend,\n\u001B[0;32m    541\u001B[0m     )\n\u001B[0;32m    542\u001B[0m \u001B[38;5;28;01mfinally\u001B[39;00m:\n\u001B[0;32m    543\u001B[0m     \u001B[38;5;66;03m# make sure to close opened file handles\u001B[39;00m\n\u001B[0;32m    544\u001B[0m     \u001B[38;5;28;01mif\u001B[39;00m should_close:\n",
      "File \u001B[1;32m~\\anaconda3\\Lib\\site-packages\\pandas\\io\\excel\\_base.py:1629\u001B[0m, in \u001B[0;36mExcelFile.parse\u001B[1;34m(self, sheet_name, header, names, index_col, usecols, converters, true_values, false_values, skiprows, nrows, na_values, parse_dates, date_parser, date_format, thousands, comment, skipfooter, dtype_backend, **kwds)\u001B[0m\n\u001B[0;32m   1589\u001B[0m \u001B[38;5;28;01mdef\u001B[39;00m \u001B[38;5;21mparse\u001B[39m(\n\u001B[0;32m   1590\u001B[0m     \u001B[38;5;28mself\u001B[39m,\n\u001B[0;32m   1591\u001B[0m     sheet_name: \u001B[38;5;28mstr\u001B[39m \u001B[38;5;241m|\u001B[39m \u001B[38;5;28mint\u001B[39m \u001B[38;5;241m|\u001B[39m \u001B[38;5;28mlist\u001B[39m[\u001B[38;5;28mint\u001B[39m] \u001B[38;5;241m|\u001B[39m \u001B[38;5;28mlist\u001B[39m[\u001B[38;5;28mstr\u001B[39m] \u001B[38;5;241m|\u001B[39m \u001B[38;5;28;01mNone\u001B[39;00m \u001B[38;5;241m=\u001B[39m \u001B[38;5;241m0\u001B[39m,\n\u001B[1;32m   (...)\u001B[0m\n\u001B[0;32m   1609\u001B[0m     \u001B[38;5;241m*\u001B[39m\u001B[38;5;241m*\u001B[39mkwds,\n\u001B[0;32m   1610\u001B[0m ) \u001B[38;5;241m-\u001B[39m\u001B[38;5;241m>\u001B[39m DataFrame \u001B[38;5;241m|\u001B[39m \u001B[38;5;28mdict\u001B[39m[\u001B[38;5;28mstr\u001B[39m, DataFrame] \u001B[38;5;241m|\u001B[39m \u001B[38;5;28mdict\u001B[39m[\u001B[38;5;28mint\u001B[39m, DataFrame]:\n\u001B[0;32m   1611\u001B[0m \u001B[38;5;250m    \u001B[39m\u001B[38;5;124;03m\"\"\"\u001B[39;00m\n\u001B[0;32m   1612\u001B[0m \u001B[38;5;124;03m    Parse specified sheet(s) into a DataFrame.\u001B[39;00m\n\u001B[0;32m   1613\u001B[0m \n\u001B[1;32m   (...)\u001B[0m\n\u001B[0;32m   1627\u001B[0m \u001B[38;5;124;03m    >>> file.parse()  # doctest: +SKIP\u001B[39;00m\n\u001B[0;32m   1628\u001B[0m \u001B[38;5;124;03m    \"\"\"\u001B[39;00m\n\u001B[1;32m-> 1629\u001B[0m     \u001B[38;5;28;01mreturn\u001B[39;00m \u001B[38;5;28mself\u001B[39m\u001B[38;5;241m.\u001B[39m_reader\u001B[38;5;241m.\u001B[39mparse(\n\u001B[0;32m   1630\u001B[0m         sheet_name\u001B[38;5;241m=\u001B[39msheet_name,\n\u001B[0;32m   1631\u001B[0m         header\u001B[38;5;241m=\u001B[39mheader,\n\u001B[0;32m   1632\u001B[0m         names\u001B[38;5;241m=\u001B[39mnames,\n\u001B[0;32m   1633\u001B[0m         index_col\u001B[38;5;241m=\u001B[39mindex_col,\n\u001B[0;32m   1634\u001B[0m         usecols\u001B[38;5;241m=\u001B[39musecols,\n\u001B[0;32m   1635\u001B[0m         converters\u001B[38;5;241m=\u001B[39mconverters,\n\u001B[0;32m   1636\u001B[0m         true_values\u001B[38;5;241m=\u001B[39mtrue_values,\n\u001B[0;32m   1637\u001B[0m         false_values\u001B[38;5;241m=\u001B[39mfalse_values,\n\u001B[0;32m   1638\u001B[0m         skiprows\u001B[38;5;241m=\u001B[39mskiprows,\n\u001B[0;32m   1639\u001B[0m         nrows\u001B[38;5;241m=\u001B[39mnrows,\n\u001B[0;32m   1640\u001B[0m         na_values\u001B[38;5;241m=\u001B[39mna_values,\n\u001B[0;32m   1641\u001B[0m         parse_dates\u001B[38;5;241m=\u001B[39mparse_dates,\n\u001B[0;32m   1642\u001B[0m         date_parser\u001B[38;5;241m=\u001B[39mdate_parser,\n\u001B[0;32m   1643\u001B[0m         date_format\u001B[38;5;241m=\u001B[39mdate_format,\n\u001B[0;32m   1644\u001B[0m         thousands\u001B[38;5;241m=\u001B[39mthousands,\n\u001B[0;32m   1645\u001B[0m         comment\u001B[38;5;241m=\u001B[39mcomment,\n\u001B[0;32m   1646\u001B[0m         skipfooter\u001B[38;5;241m=\u001B[39mskipfooter,\n\u001B[0;32m   1647\u001B[0m         dtype_backend\u001B[38;5;241m=\u001B[39mdtype_backend,\n\u001B[0;32m   1648\u001B[0m         \u001B[38;5;241m*\u001B[39m\u001B[38;5;241m*\u001B[39mkwds,\n\u001B[0;32m   1649\u001B[0m     )\n",
      "File \u001B[1;32m~\\anaconda3\\Lib\\site-packages\\pandas\\io\\excel\\_base.py:788\u001B[0m, in \u001B[0;36mBaseExcelReader.parse\u001B[1;34m(self, sheet_name, header, names, index_col, usecols, dtype, true_values, false_values, skiprows, nrows, na_values, verbose, parse_dates, date_parser, date_format, thousands, decimal, comment, skipfooter, dtype_backend, **kwds)\u001B[0m\n\u001B[0;32m    785\u001B[0m     \u001B[38;5;28mprint\u001B[39m(\u001B[38;5;124mf\u001B[39m\u001B[38;5;124m\"\u001B[39m\u001B[38;5;124mReading sheet \u001B[39m\u001B[38;5;132;01m{\u001B[39;00masheetname\u001B[38;5;132;01m}\u001B[39;00m\u001B[38;5;124m\"\u001B[39m)\n\u001B[0;32m    787\u001B[0m \u001B[38;5;28;01mif\u001B[39;00m \u001B[38;5;28misinstance\u001B[39m(asheetname, \u001B[38;5;28mstr\u001B[39m):\n\u001B[1;32m--> 788\u001B[0m     sheet \u001B[38;5;241m=\u001B[39m \u001B[38;5;28mself\u001B[39m\u001B[38;5;241m.\u001B[39mget_sheet_by_name(asheetname)\n\u001B[0;32m    789\u001B[0m \u001B[38;5;28;01melse\u001B[39;00m:  \u001B[38;5;66;03m# assume an integer if not a string\u001B[39;00m\n\u001B[0;32m    790\u001B[0m     sheet \u001B[38;5;241m=\u001B[39m \u001B[38;5;28mself\u001B[39m\u001B[38;5;241m.\u001B[39mget_sheet_by_index(asheetname)\n",
      "File \u001B[1;32m~\\anaconda3\\Lib\\site-packages\\pandas\\io\\excel\\_openpyxl.py:583\u001B[0m, in \u001B[0;36mOpenpyxlReader.get_sheet_by_name\u001B[1;34m(self, name)\u001B[0m\n\u001B[0;32m    582\u001B[0m \u001B[38;5;28;01mdef\u001B[39;00m \u001B[38;5;21mget_sheet_by_name\u001B[39m(\u001B[38;5;28mself\u001B[39m, name: \u001B[38;5;28mstr\u001B[39m):\n\u001B[1;32m--> 583\u001B[0m     \u001B[38;5;28mself\u001B[39m\u001B[38;5;241m.\u001B[39mraise_if_bad_sheet_by_name(name)\n\u001B[0;32m    584\u001B[0m     \u001B[38;5;28;01mreturn\u001B[39;00m \u001B[38;5;28mself\u001B[39m\u001B[38;5;241m.\u001B[39mbook[name]\n",
      "File \u001B[1;32m~\\anaconda3\\Lib\\site-packages\\pandas\\io\\excel\\_base.py:639\u001B[0m, in \u001B[0;36mBaseExcelReader.raise_if_bad_sheet_by_name\u001B[1;34m(self, name)\u001B[0m\n\u001B[0;32m    637\u001B[0m \u001B[38;5;28;01mdef\u001B[39;00m \u001B[38;5;21mraise_if_bad_sheet_by_name\u001B[39m(\u001B[38;5;28mself\u001B[39m, name: \u001B[38;5;28mstr\u001B[39m) \u001B[38;5;241m-\u001B[39m\u001B[38;5;241m>\u001B[39m \u001B[38;5;28;01mNone\u001B[39;00m:\n\u001B[0;32m    638\u001B[0m     \u001B[38;5;28;01mif\u001B[39;00m name \u001B[38;5;129;01mnot\u001B[39;00m \u001B[38;5;129;01min\u001B[39;00m \u001B[38;5;28mself\u001B[39m\u001B[38;5;241m.\u001B[39msheet_names:\n\u001B[1;32m--> 639\u001B[0m         \u001B[38;5;28;01mraise\u001B[39;00m \u001B[38;5;167;01mValueError\u001B[39;00m(\u001B[38;5;124mf\u001B[39m\u001B[38;5;124m\"\u001B[39m\u001B[38;5;124mWorksheet named \u001B[39m\u001B[38;5;124m'\u001B[39m\u001B[38;5;132;01m{\u001B[39;00mname\u001B[38;5;132;01m}\u001B[39;00m\u001B[38;5;124m'\u001B[39m\u001B[38;5;124m not found\u001B[39m\u001B[38;5;124m\"\u001B[39m)\n",
      "\u001B[1;31mValueError\u001B[0m: Worksheet named 'Tabela' not found"
     ]
    }
   ],
   "source": [
    "#df = pd.read_excel(\"01_Utilizacao_da_Internet.xlsx\")\n",
    "#df.info()\n",
    "\n",
    "pd.read_excel(open('01_Utilizacao_da_Internet.xlsx', 'rb'),\n",
    "              sheet_name='Tabela')  \n"
   ],
   "metadata": {
    "collapsed": false,
    "ExecuteTime": {
     "end_time": "2024-03-24T23:50:03.124001Z",
     "start_time": "2024-03-24T23:50:02.548871Z"
    }
   },
   "id": "5ee72cb8f006fe31",
   "execution_count": 17
  },
  {
   "cell_type": "code",
   "outputs": [],
   "source": [],
   "metadata": {
    "collapsed": false
   },
   "id": "80ead8e9902d93bb"
  }
 ],
 "metadata": {
  "kernelspec": {
   "display_name": "Python 3",
   "language": "python",
   "name": "python3"
  },
  "language_info": {
   "codemirror_mode": {
    "name": "ipython",
    "version": 2
   },
   "file_extension": ".py",
   "mimetype": "text/x-python",
   "name": "python",
   "nbconvert_exporter": "python",
   "pygments_lexer": "ipython2",
   "version": "2.7.6"
  }
 },
 "nbformat": 4,
 "nbformat_minor": 5
}
